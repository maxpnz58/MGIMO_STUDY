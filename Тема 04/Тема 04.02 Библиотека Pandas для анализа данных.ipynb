{
 "cells": [
  {
   "cell_type": "markdown",
   "metadata": {
    "ExecuteTime": {
     "end_time": "2017-05-14T12:45:01.548143",
     "start_time": "2017-05-14T12:45:01.544684"
    }
   },
   "source": [
    "# Анализ данных с Pandas"
   ]
  },
  {
   "cell_type": "code",
   "execution_count": null,
   "metadata": {
    "ExecuteTime": {
     "end_time": "2018-06-22T11:03:09.115996Z",
     "start_time": "2018-06-22T11:03:09.075870Z"
    }
   },
   "outputs": [],
   "source": [
    "import pandas as pd\n",
    "import numpy as np"
   ]
  },
  {
   "cell_type": "markdown",
   "metadata": {},
   "source": [
    "## Структура"
   ]
  },
  {
   "cell_type": "code",
   "execution_count": null,
   "metadata": {
    "ExecuteTime": {
     "end_time": "2017-07-18T14:34:50.278547",
     "start_time": "2017-07-18T14:34:50.267946"
    }
   },
   "outputs": [],
   "source": [
    "q = pd.DataFrame(data={'a': ['abc', 'bcd', 'def'], 'b': [1,2,3], 'c': [100, 300, 200]}, index=[8,9,10])\n",
    "q"
   ]
  },
  {
   "cell_type": "code",
   "execution_count": null,
   "metadata": {
    "ExecuteTime": {
     "end_time": "2017-07-18T14:34:50.361898",
     "start_time": "2017-07-18T14:34:50.354925"
    }
   },
   "outputs": [],
   "source": [
    "q.index"
   ]
  },
  {
   "cell_type": "code",
   "execution_count": null,
   "metadata": {
    "ExecuteTime": {
     "end_time": "2017-07-18T14:34:50.631748",
     "start_time": "2017-07-18T14:34:50.627202"
    }
   },
   "outputs": [],
   "source": [
    "q.columns"
   ]
  },
  {
   "cell_type": "code",
   "execution_count": null,
   "metadata": {
    "ExecuteTime": {
     "end_time": "2017-07-18T14:34:50.738798",
     "start_time": "2017-07-18T14:34:50.727861"
    }
   },
   "outputs": [],
   "source": [
    "q.a"
   ]
  },
  {
   "cell_type": "code",
   "execution_count": null,
   "metadata": {
    "ExecuteTime": {
     "end_time": "2017-07-18T14:34:50.880436",
     "start_time": "2017-07-18T14:34:50.875460"
    }
   },
   "outputs": [],
   "source": [
    "q['a']"
   ]
  },
  {
   "cell_type": "code",
   "execution_count": null,
   "metadata": {
    "ExecuteTime": {
     "end_time": "2017-07-18T14:34:51.054256",
     "start_time": "2017-07-18T14:34:51.050052"
    }
   },
   "outputs": [],
   "source": [
    "type(q.a)"
   ]
  },
  {
   "cell_type": "code",
   "execution_count": null,
   "metadata": {
    "ExecuteTime": {
     "end_time": "2017-07-18T14:34:51.291890",
     "start_time": "2017-07-18T14:34:51.273436"
    }
   },
   "outputs": [],
   "source": [
    "q[:2]"
   ]
  },
  {
   "cell_type": "code",
   "execution_count": null,
   "metadata": {
    "ExecuteTime": {
     "end_time": "2017-07-18T14:34:51.495244",
     "start_time": "2017-07-18T14:34:51.485800"
    }
   },
   "outputs": [],
   "source": [
    "q[ ['a', 'b'] ]"
   ]
  },
  {
   "cell_type": "code",
   "execution_count": null,
   "metadata": {
    "ExecuteTime": {
     "end_time": "2017-07-18T14:34:51.543569",
     "start_time": "2017-07-18T14:34:51.532338"
    }
   },
   "outputs": [],
   "source": [
    "q[['a', 'b']][:2]"
   ]
  },
  {
   "cell_type": "markdown",
   "metadata": {},
   "source": [
    "## Чтение и просмотр"
   ]
  },
  {
   "cell_type": "markdown",
   "metadata": {},
   "source": [
    "Данные соцопросов Census Income, с которыми будем работать:"
   ]
  },
  {
   "cell_type": "code",
   "execution_count": null,
   "metadata": {
    "ExecuteTime": {
     "end_time": "2018-06-22T11:03:13.273900Z",
     "start_time": "2018-06-22T11:03:13.116041Z"
    }
   },
   "outputs": [],
   "source": [
    "df = pd.read_csv('https://raw.githubusercontent.com/yakushinav/omo/main/data/adult_data.csv')"
   ]
  },
  {
   "cell_type": "markdown",
   "metadata": {},
   "source": [
    "* __age__: continuous. \n",
    "* __workclass__: Private, Self-emp-not-inc, Self-emp-inc, Federal-gov, Local-gov, State-gov, Without-pay, Never-worked. \n",
    "* __fnlwgt__: continuous. \n",
    "* __education__: Bachelors, Some-college, 11th, HS-grad, Prof-school, Assoc-acdm, Assoc-voc, 9th, 7th-8th, 12th, Masters, 1st-4th, 10th, Doctorate, 5th-6th, Preschool. \n",
    "* __education-num__: continuous. \n",
    "* __marital-status__: Married-civ-spouse, Divorced, Never-married, Separated, Widowed, Married-spouse-absent, Married-AF-spouse. \n",
    "* __occupation__: Tech-support, Craft-repair, Other-service, Sales, Exec-managerial, Prof-specialty, Handlers-cleaners, Machine-op-inspct, Adm-clerical, Farming-fishing, Transport-moving, Priv-house-serv, Protective-serv, Armed-Forces. \n",
    "* __relationship__: Wife, Own-child, Husband, Not-in-family, Other-relative, Unmarried. \n",
    "* __race__: White, Asian-Pac-Islander, Amer-Indian-Eskimo, Other, Black. \n",
    "* __sex__: Female, Male. \n",
    "* __capital-gain__: continuous. \n",
    "* __capital-loss__: continuous. \n",
    "* __hours-per-week__: continuous. \n",
    "* __native-country__: United-States, Cambodia, England, Puerto-Rico, Canada, Germany, Outlying-US(Guam-USVI-etc), India, Japan, Greece, South, China, Cuba, Iran, Honduras, Philippines, Italy, Poland, Jamaica, Vietnam, Mexico, Portugal, Ireland, France, Dominican-Republic, Laos, Ecuador, Taiwan, Haiti, Columbia, Hungary, Guatemala, Nicaragua, Scotland, Thailand, Yugoslavia, El-Salvador, Trinadad&Tobago, Peru, Hong, Holand-Netherlands."
   ]
  },
  {
   "cell_type": "markdown",
   "metadata": {},
   "source": [
    "`head()` показывает первые 5 строк датафрейма. \n",
    "\n",
    "`tail()` - последние 5.\n",
    "\n",
    "`head(N)` показывает первые N строк датафрейма. \n",
    "\n",
    "`tail(N)` - последние N."
   ]
  },
  {
   "cell_type": "code",
   "execution_count": null,
   "metadata": {
    "ExecuteTime": {
     "end_time": "2018-06-22T11:03:16.944327Z",
     "start_time": "2018-06-22T11:03:16.882450Z"
    }
   },
   "outputs": [],
   "source": [
    "df.head(3)"
   ]
  },
  {
   "cell_type": "markdown",
   "metadata": {},
   "source": [
    "## Общее"
   ]
  },
  {
   "cell_type": "markdown",
   "metadata": {},
   "source": [
    "Размер:"
   ]
  },
  {
   "cell_type": "code",
   "execution_count": null,
   "metadata": {
    "ExecuteTime": {
     "end_time": "2017-07-18T14:34:52.477827",
     "start_time": "2017-07-18T14:34:52.473160"
    }
   },
   "outputs": [],
   "source": [
    "df.shape"
   ]
  },
  {
   "cell_type": "markdown",
   "metadata": {},
   "source": [
    "Столбцы:"
   ]
  },
  {
   "cell_type": "code",
   "execution_count": null,
   "metadata": {
    "ExecuteTime": {
     "end_time": "2017-07-18T14:34:53.004876",
     "start_time": "2017-07-18T14:34:52.997890"
    }
   },
   "outputs": [],
   "source": [
    "df.columns"
   ]
  },
  {
   "cell_type": "markdown",
   "metadata": {},
   "source": [
    "Информация содержит данные о типе колонок, степени их заполненности (в нашем случае пропусков в данных нет), типе данных каждой из колонок, а также потреблении памяти:"
   ]
  },
  {
   "cell_type": "code",
   "execution_count": null,
   "metadata": {
    "ExecuteTime": {
     "end_time": "2017-07-18T14:34:53.577031",
     "start_time": "2017-07-18T14:34:53.547119"
    }
   },
   "outputs": [],
   "source": [
    "df.info()"
   ]
  },
  {
   "cell_type": "markdown",
   "metadata": {},
   "source": [
    "Метод `describe` содержит основные статистики по числовым столбцам данных: \n",
    "* количество\n",
    "* среднее\n",
    "* среднеквадратичное отклонение\n",
    "* минимум, максимум\n",
    "* медиану\n",
    "* первый и третий квартили"
   ]
  },
  {
   "cell_type": "code",
   "execution_count": null,
   "metadata": {
    "ExecuteTime": {
     "end_time": "2017-07-18T14:34:54.704408",
     "start_time": "2017-07-18T14:34:54.668130"
    }
   },
   "outputs": [],
   "source": [
    "df.describe()"
   ]
  },
  {
   "cell_type": "markdown",
   "metadata": {},
   "source": [
    "Если хочется посмотреть и на нечисловые признаки, то нужно указать их тип в параметре `include`. Всего есть совсем немного основных: \n",
    "* `bool` - логический\n",
    "* `object` - общий нечисловой, в большинстве случаев это строки\n",
    "* `numeric` - числовой, включающий как числа с плавающей запятой, так и целые"
   ]
  },
  {
   "cell_type": "code",
   "execution_count": null,
   "metadata": {
    "ExecuteTime": {
     "end_time": "2017-07-18T14:34:56.199787",
     "start_time": "2017-07-18T14:34:56.074485"
    }
   },
   "outputs": [],
   "source": [
    "df.describe(include=['object', 'bool'])"
   ]
  },
  {
   "cell_type": "markdown",
   "metadata": {
    "ExecuteTime": {
     "end_time": "2017-05-14T13:22:09.347929",
     "start_time": "2017-05-14T13:22:09.333417"
    }
   },
   "source": [
    "Полезным методом является `value_counts()`, считающим распределение данных по категориям:"
   ]
  },
  {
   "cell_type": "code",
   "execution_count": null,
   "metadata": {
    "ExecuteTime": {
     "end_time": "2017-07-18T14:34:58.891272",
     "start_time": "2017-07-18T14:34:58.879318"
    }
   },
   "outputs": [],
   "source": [
    "df.education.value_counts()"
   ]
  },
  {
   "cell_type": "markdown",
   "metadata": {
    "ExecuteTime": {
     "end_time": "2017-05-14T13:22:40.773646",
     "start_time": "2017-05-14T13:22:40.769333"
    }
   },
   "source": [
    "Для отображения в долях существует флажок `normalize`:"
   ]
  },
  {
   "cell_type": "code",
   "execution_count": null,
   "metadata": {
    "ExecuteTime": {
     "end_time": "2017-07-18T14:35:01.425746",
     "start_time": "2017-07-18T14:35:01.413629"
    }
   },
   "outputs": [],
   "source": [
    "df.education.value_counts(normalize=True)"
   ]
  },
  {
   "cell_type": "markdown",
   "metadata": {},
   "source": [
    "Можно строить простые диаграммы"
   ]
  },
  {
   "cell_type": "code",
   "execution_count": null,
   "metadata": {
    "ExecuteTime": {
     "end_time": "2017-07-18T14:35:02.999824",
     "start_time": "2017-07-18T14:35:02.677395"
    }
   },
   "outputs": [],
   "source": [
    "df.education.value_counts().plot.bar(); #(kind='bar');"
   ]
  },
  {
   "cell_type": "markdown",
   "metadata": {},
   "source": [
    "## Индексация и фильтры"
   ]
  },
  {
   "cell_type": "markdown",
   "metadata": {
    "ExecuteTime": {
     "end_time": "2017-05-14T13:35:25.120034",
     "start_time": "2017-05-14T13:35:25.114342"
    }
   },
   "source": [
    "Весь датафрейм:"
   ]
  },
  {
   "cell_type": "code",
   "execution_count": null,
   "metadata": {
    "ExecuteTime": {
     "end_time": "2017-07-18T14:35:05.037890",
     "start_time": "2017-07-18T14:35:05.034722"
    }
   },
   "outputs": [],
   "source": [
    "print(df)"
   ]
  },
  {
   "cell_type": "markdown",
   "metadata": {},
   "source": [
    "Только те, чей возраст меньше 25 лет, но больший 10:"
   ]
  },
  {
   "cell_type": "code",
   "execution_count": null,
   "metadata": {
    "ExecuteTime": {
     "end_time": "2017-07-18T14:35:40.388914",
     "start_time": "2017-07-18T14:35:40.382685"
    }
   },
   "outputs": [],
   "source": [
    "df[(df.age < 25) & (df.age > 10)]"
   ]
  },
  {
   "cell_type": "markdown",
   "metadata": {},
   "source": [
    "Только те, кто получают больше 50 000$:"
   ]
  },
  {
   "cell_type": "code",
   "execution_count": null,
   "metadata": {
    "ExecuteTime": {
     "end_time": "2017-07-18T14:35:55.719580",
     "start_time": "2017-07-18T14:35:55.710507"
    }
   },
   "outputs": [],
   "source": [
    "df[df.salary == '>50K']"
   ]
  },
  {
   "cell_type": "code",
   "execution_count": null,
   "metadata": {
    "ExecuteTime": {
     "end_time": "2017-07-18T14:35:56.001011",
     "start_time": "2017-07-18T14:35:55.982691"
    },
    "scrolled": true
   },
   "outputs": [],
   "source": [
    "df[df.salary == '<=50K'].sex.value_counts(normalize=False)"
   ]
  },
  {
   "cell_type": "code",
   "execution_count": null,
   "metadata": {
    "ExecuteTime": {
     "end_time": "2017-07-18T14:35:56.290344",
     "start_time": "2017-07-18T14:35:56.269597"
    }
   },
   "outputs": [],
   "source": [
    "df[df.salary == '>50K'].sex.value_counts(normalize=True)"
   ]
  },
  {
   "cell_type": "markdown",
   "metadata": {},
   "source": [
    "## Сортировка"
   ]
  },
  {
   "cell_type": "code",
   "execution_count": null,
   "metadata": {
    "ExecuteTime": {
     "end_time": "2017-07-18T14:35:58.375089",
     "start_time": "2017-07-18T14:35:58.350856"
    }
   },
   "outputs": [],
   "source": [
    "df.sort_values(by=['education'])"
   ]
  },
  {
   "cell_type": "markdown",
   "metadata": {},
   "source": [
    "Отсортируем сначала по полу, внутри пола - по возрасту, но в обратном порядке"
   ]
  },
  {
   "cell_type": "code",
   "execution_count": null,
   "metadata": {
    "ExecuteTime": {
     "end_time": "2017-07-18T14:36:05.992059",
     "start_time": "2017-07-18T14:36:05.980369"
    }
   },
   "outputs": [],
   "source": [
    "df.sort_values(by=['sex', 'age'], ascending=[True, False])"
   ]
  },
  {
   "cell_type": "markdown",
   "metadata": {},
   "source": [
    "## Применение функций"
   ]
  },
  {
   "cell_type": "markdown",
   "metadata": {},
   "source": [
    "Применить функцию к каждому столбцу или каждой строке можно с помощью `apply`:"
   ]
  },
  {
   "cell_type": "code",
   "execution_count": null,
   "metadata": {
    "ExecuteTime": {
     "end_time": "2017-07-18T14:36:34.986381",
     "start_time": "2017-07-18T14:36:34.978370"
    }
   },
   "outputs": [],
   "source": [
    "t = pd.DataFrame(data = {'a': [1,2,3], 'b': [4,5,6]})\n",
    "t"
   ]
  },
  {
   "cell_type": "code",
   "execution_count": null,
   "metadata": {
    "ExecuteTime": {
     "end_time": "2017-07-18T14:36:42.624850",
     "start_time": "2017-07-18T14:36:42.620662"
    }
   },
   "outputs": [],
   "source": [
    "t['c'] = t.apply(lambda row: row['a'] + row['b'], axis=1) # построчно"
   ]
  },
  {
   "cell_type": "code",
   "execution_count": null,
   "metadata": {
    "ExecuteTime": {
     "end_time": "2017-07-18T14:36:44.009929",
     "start_time": "2017-07-18T14:36:44.002577"
    }
   },
   "outputs": [],
   "source": [
    "t"
   ]
  },
  {
   "cell_type": "markdown",
   "metadata": {},
   "source": [
    "Применение функции к каждой __ячейке__ реализовывается с помощью `map`:"
   ]
  },
  {
   "cell_type": "code",
   "execution_count": null,
   "metadata": {
    "ExecuteTime": {
     "end_time": "2017-07-18T14:36:48.825233",
     "start_time": "2017-07-18T14:36:48.817222"
    }
   },
   "outputs": [],
   "source": [
    "renaming = {'>50K': 1, '<=50K': 0}\n",
    "df.salary = df.salary.map(renaming)"
   ]
  },
  {
   "cell_type": "code",
   "execution_count": null,
   "metadata": {
    "ExecuteTime": {
     "end_time": "2017-07-18T14:36:49.372850",
     "start_time": "2017-07-18T14:36:49.366600"
    }
   },
   "outputs": [],
   "source": [
    "df.salary.value_counts()"
   ]
  },
  {
   "cell_type": "code",
   "execution_count": null,
   "metadata": {
    "ExecuteTime": {
     "end_time": "2017-07-18T14:36:51.212923",
     "start_time": "2017-07-18T14:36:51.203576"
    }
   },
   "outputs": [],
   "source": [
    "renaming = {1:'> 50K', 0: '<= 50K'}\n",
    "df.salary = df.salary.map(renaming)"
   ]
  },
  {
   "cell_type": "markdown",
   "metadata": {},
   "source": [
    "__apply__ к нескольким столбцам сразу называется __applymap__:"
   ]
  },
  {
   "cell_type": "code",
   "execution_count": null,
   "metadata": {
    "ExecuteTime": {
     "end_time": "2017-07-18T14:37:27.760174",
     "start_time": "2017-07-18T14:37:27.727952"
    }
   },
   "outputs": [],
   "source": [
    "df['sex'] = df['sex'].apply(lambda x: x.lower())\n",
    "df['relationship'] = df['relationship'].apply(lambda x: x.lower())"
   ]
  },
  {
   "cell_type": "code",
   "execution_count": null,
   "metadata": {
    "ExecuteTime": {
     "end_time": "2017-07-18T14:37:28.009172",
     "start_time": "2017-07-18T14:37:27.927060"
    }
   },
   "outputs": [],
   "source": [
    "# same as above:\n",
    "cols = ['sex', 'relationship']\n",
    "df[cols] = df[cols].applymap(lambda x: x.lower())"
   ]
  },
  {
   "cell_type": "markdown",
   "metadata": {},
   "source": [
    "У строковых столбцов есть хитрое поле __str__, которое возвращает наружу как будто строку (синтаксис тот же), но применяет к каждому элементу столбца.\n",
    "\n",
    "При больших объемах данных это будет быстрее, потому что `.str` под капотом векторизует операции со строками. Для дат можно использовать `.dt`."
   ]
  },
  {
   "cell_type": "code",
   "execution_count": null,
   "metadata": {
    "ExecuteTime": {
     "end_time": "2017-07-18T14:38:16.931878",
     "start_time": "2017-07-18T14:38:16.915864"
    }
   },
   "outputs": [],
   "source": [
    "df.sex.apply(lambda x: x.upper());"
   ]
  },
  {
   "cell_type": "code",
   "execution_count": null,
   "metadata": {
    "ExecuteTime": {
     "end_time": "2017-07-18T14:38:33.278060",
     "start_time": "2017-07-18T14:38:33.261524"
    }
   },
   "outputs": [],
   "source": [
    "# same as above\n",
    "df.sex.str.upper();"
   ]
  },
  {
   "cell_type": "markdown",
   "metadata": {},
   "source": [
    "## Дубликаты"
   ]
  },
  {
   "cell_type": "code",
   "execution_count": null,
   "metadata": {
    "ExecuteTime": {
     "end_time": "2017-07-18T14:38:38.794641",
     "start_time": "2017-07-18T14:38:38.783166"
    }
   },
   "outputs": [],
   "source": [
    "q = pd.DataFrame(data={'a': [1,2,3,1,1], 'b': [1,2,3,2,1], 'c':[10,20,30,40,40]})\n",
    "q"
   ]
  },
  {
   "cell_type": "code",
   "execution_count": null,
   "metadata": {
    "ExecuteTime": {
     "end_time": "2017-07-18T14:38:40.967404",
     "start_time": "2017-07-18T14:38:40.961095"
    }
   },
   "outputs": [],
   "source": [
    "q.duplicated(['a'])"
   ]
  },
  {
   "cell_type": "code",
   "execution_count": null,
   "metadata": {
    "ExecuteTime": {
     "end_time": "2017-07-18T14:38:57.771235",
     "start_time": "2017-07-18T14:38:57.765355"
    }
   },
   "outputs": [],
   "source": [
    "q.duplicated(['a', 'b']) # - уже оценивает кортежи значений из нескольких колонок"
   ]
  },
  {
   "cell_type": "code",
   "execution_count": null,
   "metadata": {
    "ExecuteTime": {
     "end_time": "2017-07-18T14:38:59.235228",
     "start_time": "2017-07-18T14:38:59.225541"
    }
   },
   "outputs": [],
   "source": [
    "q.drop_duplicates(subset=['a'])"
   ]
  },
  {
   "cell_type": "code",
   "execution_count": null,
   "metadata": {
    "ExecuteTime": {
     "end_time": "2017-07-18T14:39:02.006730",
     "start_time": "2017-07-18T14:39:01.996516"
    }
   },
   "outputs": [],
   "source": [
    "q.drop_duplicates(subset=['a', 'b'])"
   ]
  },
  {
   "cell_type": "markdown",
   "metadata": {},
   "source": [
    "## Группировка"
   ]
  },
  {
   "cell_type": "code",
   "execution_count": null,
   "metadata": {
    "ExecuteTime": {
     "end_time": "2017-07-18T14:39:05.406107",
     "start_time": "2017-07-18T14:39:05.402838"
    }
   },
   "outputs": [],
   "source": [
    "df.groupby(['salary']);"
   ]
  },
  {
   "cell_type": "markdown",
   "metadata": {},
   "source": [
    "__Важно__: groupby-объекты - не копии частей датафрейма!"
   ]
  },
  {
   "cell_type": "code",
   "execution_count": null,
   "metadata": {
    "ExecuteTime": {
     "end_time": "2017-07-18T14:39:07.370243",
     "start_time": "2017-07-18T14:39:07.085856"
    }
   },
   "outputs": [],
   "source": [
    "df.groupby(['salary']).describe(include=['object', 'bool'])"
   ]
  },
  {
   "cell_type": "code",
   "execution_count": null,
   "metadata": {
    "ExecuteTime": {
     "end_time": "2017-07-18T14:39:09.663826",
     "start_time": "2017-07-18T14:39:09.658305"
    }
   },
   "outputs": [],
   "source": [
    "df.groupby('salary')"
   ]
  },
  {
   "cell_type": "code",
   "execution_count": null,
   "metadata": {
    "ExecuteTime": {
     "end_time": "2017-07-18T14:39:11.415229",
     "start_time": "2017-07-18T14:39:11.402367"
    }
   },
   "outputs": [],
   "source": [
    "df.sex.value_counts()"
   ]
  },
  {
   "cell_type": "code",
   "execution_count": null,
   "metadata": {
    "ExecuteTime": {
     "end_time": "2017-07-18T14:39:12.953141",
     "start_time": "2017-07-18T14:39:12.704291"
    }
   },
   "outputs": [],
   "source": [
    "df.groupby('salary').sex.value_counts().plot.bar();"
   ]
  },
  {
   "cell_type": "markdown",
   "metadata": {},
   "source": [
    "## Таблицы сопряженности и melt"
   ]
  },
  {
   "cell_type": "markdown",
   "metadata": {
    "ExecuteTime": {
     "end_time": "2017-05-14T15:50:16.958656",
     "start_time": "2017-05-14T15:50:16.955760"
    }
   },
   "source": [
    "### Таблицы сопряженности"
   ]
  },
  {
   "cell_type": "code",
   "execution_count": null,
   "metadata": {
    "ExecuteTime": {
     "end_time": "2017-07-18T14:45:10.866028",
     "start_time": "2017-07-18T14:45:10.573951"
    }
   },
   "outputs": [],
   "source": [
    "pd.crosstab(df.salary, df.sex).plot(kind='bar');"
   ]
  },
  {
   "cell_type": "code",
   "execution_count": null,
   "metadata": {
    "ExecuteTime": {
     "end_time": "2017-07-18T14:45:10.890460",
     "start_time": "2017-07-18T14:45:10.867905"
    }
   },
   "outputs": [],
   "source": [
    "pd.crosstab(df.salary, df.sex, normalize=True)"
   ]
  },
  {
   "cell_type": "code",
   "execution_count": null,
   "metadata": {
    "ExecuteTime": {
     "end_time": "2017-07-18T14:45:11.364782",
     "start_time": "2017-07-18T14:45:10.914105"
    },
    "scrolled": true
   },
   "outputs": [],
   "source": [
    "pd.crosstab(df.salary, df['marital-status'], normalize=True).plot.bar();"
   ]
  },
  {
   "cell_type": "markdown",
   "metadata": {},
   "source": [
    "### Melt - превращение столбцов в строки"
   ]
  },
  {
   "cell_type": "code",
   "execution_count": null,
   "metadata": {
    "ExecuteTime": {
     "end_time": "2017-07-18T14:45:13.860322",
     "start_time": "2017-07-18T14:45:13.849796"
    }
   },
   "outputs": [],
   "source": [
    "t = pd.DataFrame(data={'name': ['PC', 'PlayStation4'], \n",
    "                   '1W-2014': [100, 300], \n",
    "                   '2W-2014': [150, 350]})\n",
    "t"
   ]
  },
  {
   "cell_type": "code",
   "execution_count": null,
   "metadata": {
    "ExecuteTime": {
     "end_time": "2017-07-18T14:45:14.078250",
     "start_time": "2017-07-18T14:45:14.068143"
    }
   },
   "outputs": [],
   "source": [
    "t2 = pd.melt(t, id_vars=['name'], value_name='cost', var_name='timestamp')\n",
    "t2"
   ]
  },
  {
   "cell_type": "markdown",
   "metadata": {},
   "source": [
    "## Изменение таблиц"
   ]
  },
  {
   "cell_type": "code",
   "execution_count": null,
   "metadata": {
    "ExecuteTime": {
     "end_time": "2017-07-18T14:45:18.697565",
     "start_time": "2017-07-18T14:45:18.677824"
    }
   },
   "outputs": [],
   "source": [
    "df.head(2)"
   ]
  },
  {
   "cell_type": "markdown",
   "metadata": {},
   "source": [
    "### Добавление нового столбца"
   ]
  },
  {
   "cell_type": "code",
   "execution_count": null,
   "metadata": {
    "ExecuteTime": {
     "end_time": "2017-07-18T14:45:21.278023",
     "start_time": "2017-07-18T14:45:21.274271"
    }
   },
   "outputs": [],
   "source": [
    "df['working_days'] = df['hours-per-week'] / 8.0"
   ]
  },
  {
   "cell_type": "code",
   "execution_count": null,
   "metadata": {
    "ExecuteTime": {
     "end_time": "2017-07-18T14:45:24.704265",
     "start_time": "2017-07-18T14:45:24.683008"
    }
   },
   "outputs": [],
   "source": [
    "df.head(2)"
   ]
  },
  {
   "cell_type": "code",
   "execution_count": null,
   "metadata": {
    "ExecuteTime": {
     "end_time": "2017-07-18T14:45:26.901403",
     "start_time": "2017-07-18T14:45:26.897836"
    }
   },
   "outputs": [],
   "source": [
    "df['constant'] = 1"
   ]
  },
  {
   "cell_type": "code",
   "execution_count": null,
   "metadata": {
    "ExecuteTime": {
     "end_time": "2017-07-18T14:45:27.622228",
     "start_time": "2017-07-18T14:45:27.613812"
    }
   },
   "outputs": [],
   "source": [
    "df = df.assign(anotherConstant = lambda dataframe: dataframe.constant*2)"
   ]
  },
  {
   "cell_type": "code",
   "execution_count": null,
   "metadata": {},
   "outputs": [],
   "source": [
    "df.head(2)"
   ]
  },
  {
   "cell_type": "markdown",
   "metadata": {},
   "source": [
    "### Удаление строк и столбцов"
   ]
  },
  {
   "cell_type": "code",
   "execution_count": null,
   "metadata": {
    "ExecuteTime": {
     "end_time": "2017-07-18T14:45:31.073715",
     "start_time": "2017-07-18T14:45:31.062933"
    }
   },
   "outputs": [],
   "source": [
    "df.drop(['constant', 'anotherConstant'], axis=1, inplace=True)"
   ]
  },
  {
   "cell_type": "markdown",
   "metadata": {},
   "source": [
    "__NB__: У большинства операторов pandas есть флажок `inplace`. Если он выставлен в `False` (по умолчанию именно так), то изменения, например, как `drop` в примере выше, не будут изменять таблицу, а вернут измененную копию."
   ]
  },
  {
   "cell_type": "code",
   "execution_count": null,
   "metadata": {
    "ExecuteTime": {
     "end_time": "2017-07-18T14:45:35.256137",
     "start_time": "2017-07-18T14:45:35.232619"
    }
   },
   "outputs": [],
   "source": [
    "df.drop([1,2]).head(3) # => удаляет строки"
   ]
  },
  {
   "cell_type": "markdown",
   "metadata": {},
   "source": [
    "### loc, iloc"
   ]
  },
  {
   "cell_type": "code",
   "execution_count": null,
   "metadata": {
    "ExecuteTime": {
     "end_time": "2017-07-18T14:47:58.938071",
     "start_time": "2017-07-18T14:47:58.932642"
    }
   },
   "outputs": [],
   "source": [
    "df.loc[0, 'workclass'] # получение конкретной ячейки по индексу и названию столбца"
   ]
  },
  {
   "cell_type": "code",
   "execution_count": null,
   "metadata": {
    "ExecuteTime": {
     "end_time": "2017-07-18T14:48:21.018773",
     "start_time": "2017-07-18T14:48:21.013115"
    }
   },
   "outputs": [],
   "source": [
    "df.iloc[0, 1] # получение конкретной ячейки по номеру строки и номеру столбца, вне зависимости от индексов"
   ]
  },
  {
   "cell_type": "markdown",
   "metadata": {},
   "source": [
    "__Важно__: можно и получать строки по маскам:"
   ]
  },
  {
   "cell_type": "code",
   "execution_count": null,
   "metadata": {
    "ExecuteTime": {
     "end_time": "2017-07-18T14:49:54.773969",
     "start_time": "2017-07-18T14:49:54.766869"
    }
   },
   "outputs": [],
   "source": [
    "df.loc[df.age % 5 == 0, 'workclass'].head()"
   ]
  },
  {
   "cell_type": "markdown",
   "metadata": {},
   "source": [
    "__Важно__: Основываясь на этом, можно присваивать другим значениям:"
   ]
  },
  {
   "cell_type": "code",
   "execution_count": null,
   "metadata": {
    "ExecuteTime": {
     "end_time": "2017-07-18T14:50:43.742633",
     "start_time": "2017-07-18T14:50:43.736127"
    }
   },
   "outputs": [],
   "source": [
    "df.loc[df.age % 2 == 0, 'workclass'] = 'ЧЕТНЫЙ'"
   ]
  },
  {
   "cell_type": "code",
   "execution_count": null,
   "metadata": {
    "ExecuteTime": {
     "end_time": "2017-07-18T14:50:46.490544",
     "start_time": "2017-07-18T14:50:46.486057"
    }
   },
   "outputs": [],
   "source": [
    "df.loc[:5, 'education'] = 'NO EDUCATION'"
   ]
  },
  {
   "cell_type": "code",
   "execution_count": null,
   "metadata": {
    "ExecuteTime": {
     "end_time": "2017-07-18T14:50:48.079145",
     "start_time": "2017-07-18T14:50:48.059804"
    }
   },
   "outputs": [],
   "source": [
    "df.head(7)"
   ]
  },
  {
   "cell_type": "markdown",
   "metadata": {},
   "source": [
    "### Переименование столбцов"
   ]
  },
  {
   "cell_type": "code",
   "execution_count": null,
   "metadata": {
    "ExecuteTime": {
     "end_time": "2017-07-18T14:50:58.428510",
     "start_time": "2017-07-18T14:50:58.424638"
    }
   },
   "outputs": [],
   "source": [
    "df.columns = [c.upper() for c in df.columns]"
   ]
  },
  {
   "cell_type": "code",
   "execution_count": null,
   "metadata": {
    "ExecuteTime": {
     "end_time": "2017-07-18T14:50:59.129465",
     "start_time": "2017-07-18T14:50:59.112055"
    }
   },
   "outputs": [],
   "source": [
    "df.head(1)"
   ]
  },
  {
   "cell_type": "code",
   "execution_count": null,
   "metadata": {
    "ExecuteTime": {
     "end_time": "2017-07-18T14:51:11.280083",
     "start_time": "2017-07-18T14:51:11.276685"
    }
   },
   "outputs": [],
   "source": [
    "df.columns = [c.lower() for c in df.columns]"
   ]
  },
  {
   "cell_type": "code",
   "execution_count": null,
   "metadata": {
    "ExecuteTime": {
     "end_time": "2017-07-18T14:51:11.574143",
     "start_time": "2017-07-18T14:51:11.558704"
    }
   },
   "outputs": [],
   "source": [
    "df = df.rename(columns={'marital-status': 'marital_status'})\n",
    "                        # словарь старое-новое значение"
   ]
  },
  {
   "cell_type": "markdown",
   "metadata": {
    "ExecuteTime": {
     "end_time": "2017-05-18T12:24:09.500495",
     "start_time": "2017-05-18T12:24:09.497359"
    }
   },
   "source": [
    "## Работа с пропущенными (NaN) значениями"
   ]
  },
  {
   "cell_type": "code",
   "execution_count": null,
   "metadata": {
    "ExecuteTime": {
     "end_time": "2017-07-18T14:51:14.019521",
     "start_time": "2017-07-18T14:51:14.003646"
    }
   },
   "outputs": [],
   "source": [
    "test = pd.DataFrame(data={'name': ['John', 'Bill', 'Jennifer', 'Max'], \n",
    "                          'salary': [90, np.nan, 95, 130], \n",
    "                          'age': [27, 30, np.nan, np.nan],\n",
    "                          'status': [np.nan, 'married', np.nan, 'married']\n",
    "                         })\n",
    "test = test[['name', 'age', 'salary', 'status']]\n",
    "test"
   ]
  },
  {
   "cell_type": "markdown",
   "metadata": {},
   "source": [
    "### Отображение"
   ]
  },
  {
   "cell_type": "code",
   "execution_count": null,
   "metadata": {
    "ExecuteTime": {
     "end_time": "2017-07-18T14:51:14.847525",
     "start_time": "2017-07-18T14:51:14.837090"
    }
   },
   "outputs": [],
   "source": [
    "test[test['age'].isnull()]"
   ]
  },
  {
   "cell_type": "code",
   "execution_count": null,
   "metadata": {
    "ExecuteTime": {
     "end_time": "2017-07-18T14:51:15.950701",
     "start_time": "2017-07-18T14:51:15.940498"
    }
   },
   "outputs": [],
   "source": [
    "test[test['age'].notnull()]"
   ]
  },
  {
   "cell_type": "code",
   "execution_count": null,
   "metadata": {
    "ExecuteTime": {
     "end_time": "2017-07-18T14:51:21.019491",
     "start_time": "2017-07-18T14:51:20.997432"
    }
   },
   "outputs": [],
   "source": [
    "test[test.isnull().any(axis=1)] # !"
   ]
  },
  {
   "cell_type": "code",
   "execution_count": null,
   "metadata": {
    "ExecuteTime": {
     "end_time": "2017-07-18T14:51:22.941954",
     "start_time": "2017-07-18T14:51:22.933447"
    }
   },
   "outputs": [],
   "source": [
    "test[~test.isnull().any(axis=1)]"
   ]
  },
  {
   "cell_type": "markdown",
   "metadata": {},
   "source": [
    "### Заполнение"
   ]
  },
  {
   "cell_type": "markdown",
   "metadata": {},
   "source": [
    "Прежде всего, можно заполнить некоторым константным значением:"
   ]
  },
  {
   "cell_type": "code",
   "execution_count": null,
   "metadata": {
    "ExecuteTime": {
     "end_time": "2017-07-18T14:51:24.678877",
     "start_time": "2017-07-18T14:51:24.667186"
    }
   },
   "outputs": [],
   "source": [
    "dashtest = test.fillna('-')\n",
    "dashtest"
   ]
  },
  {
   "cell_type": "markdown",
   "metadata": {},
   "source": [
    "Важно заметить, что теперь слобцы возраста и зарплаты более не числовые:"
   ]
  },
  {
   "cell_type": "code",
   "execution_count": null,
   "metadata": {
    "ExecuteTime": {
     "end_time": "2017-07-18T14:51:26.226936",
     "start_time": "2017-07-18T14:51:26.220719"
    }
   },
   "outputs": [],
   "source": [
    "print(test.dtypes, '\\n\\n', dashtest.dtypes)"
   ]
  },
  {
   "cell_type": "code",
   "execution_count": null,
   "metadata": {
    "ExecuteTime": {
     "end_time": "2017-07-18T14:51:26.935763",
     "start_time": "2017-07-18T14:51:26.923336"
    }
   },
   "outputs": [],
   "source": [
    "test.fillna(method='ffill')"
   ]
  },
  {
   "cell_type": "code",
   "execution_count": null,
   "metadata": {
    "ExecuteTime": {
     "end_time": "2017-07-18T14:51:27.732023",
     "start_time": "2017-07-18T14:51:27.717061"
    }
   },
   "outputs": [],
   "source": [
    "test.fillna(method='bfill')"
   ]
  },
  {
   "cell_type": "code",
   "execution_count": null,
   "metadata": {
    "ExecuteTime": {
     "end_time": "2017-07-18T14:51:31.324038",
     "start_time": "2017-07-18T14:51:31.311470"
    }
   },
   "outputs": [],
   "source": [
    "test.fillna(method='ffill').fillna(method='bfill')"
   ]
  },
  {
   "cell_type": "code",
   "execution_count": null,
   "metadata": {
    "ExecuteTime": {
     "end_time": "2017-07-18T14:51:39.449343",
     "start_time": "2017-07-18T14:51:39.384666"
    }
   },
   "outputs": [],
   "source": [
    "test['salary'] = test[['salary']].fillna(test.salary.median())\n",
    "test"
   ]
  },
  {
   "cell_type": "code",
   "execution_count": null,
   "metadata": {
    "ExecuteTime": {
     "end_time": "2017-07-18T14:51:44.824769",
     "start_time": "2017-07-18T14:51:44.809905"
    }
   },
   "outputs": [],
   "source": [
    "test['age'] = test[['salary']].fillna(25)\n",
    "test['status'] = test[['status']].fillna(test.status.mode()[0])\n",
    "test"
   ]
  },
  {
   "cell_type": "markdown",
   "metadata": {},
   "source": [
    "## Краткий конспект\n",
    "\n",
    "- df.shape - размер\n",
    "- df.head(N), df.tail(N), - просмотр\n",
    "- df[массив имен колонок] - часть (slice) датафрейма\n",
    "- df['имя колонки'] - одна колонка (можно и через точку: df.имя_колонки)\n",
    "- df.unique, df.nunique - просмотр уникальных значений и их количества\n",
    "- df.value_counts - сколько разных значений в колонке\n",
    "- df.имя колонки.apply - применяет функцию к значениям в столбце\n",
    "- df.fillna - заполняет NaN\n",
    "- df.dropna - удаляет строки/столбцы с NaN\n",
    "- df.duplicated - показывает строки, являющиеся дупликатами других\n",
    "- df.drop_duplicates - удаляет строки-дупликаты\n",
    "- df[df.isnull().any(axis=1)] - вывести строки, содержащие NaN\n",
    "- df[df.имя колонки.isnull().any(axis=1)] - вывести только те строки, где в указанной колонке есть пропуски\n",
    "- df.groupby - группировка по некоторому признаку"
   ]
  },
  {
   "cell_type": "markdown",
   "metadata": {
    "id": "LbTjgXTI82Ey"
   },
   "source": [
    "## Задание"
   ]
  },
  {
   "cell_type": "markdown",
   "metadata": {
    "id": "BnBpD-KN82Ez"
   },
   "source": [
    "**1.** Загрузите csv-файл `https://raw.githubusercontent.com/yakushinav/omo/main/data/fishing.csv` в переменную fishing_data. Описание данных см. [здесь](https://github.com/yakushinav/journ/blob/main/fishing.md)."
   ]
  },
  {
   "cell_type": "code",
   "execution_count": null,
   "metadata": {
    "colab": {
     "base_uri": "https://localhost:8080/"
    },
    "id": "40fSJUxQ82E0",
    "outputId": "00e8c8a4-0362-4610-92ed-d312aa739e01"
   },
   "outputs": [],
   "source": [
    "### YOUR CODE HERE ###"
   ]
  },
  {
   "cell_type": "markdown",
   "metadata": {
    "id": "zHiQ10W382E1"
   },
   "source": [
    "**2.** Выведите описательные статистики для всех числовых (integer, float) переменных в датафрейме."
   ]
  },
  {
   "cell_type": "code",
   "execution_count": null,
   "metadata": {
    "colab": {
     "base_uri": "https://localhost:8080/"
    },
    "id": "xww0C-0e82E2",
    "outputId": "b5aa9555-aa01-4b4c-cd6b-7b8c66f9d9c0"
   },
   "outputs": [],
   "source": [
    "### YOUR CODE HERE ###"
   ]
  },
  {
   "cell_type": "markdown",
   "metadata": {
    "id": "axcZ6fS882E2"
   },
   "source": [
    "**3.** Выберите из таблицы только строки, которые соответствуют респондентам, которые выбрали рыбалку на берегу (`beach`)."
   ]
  },
  {
   "cell_type": "code",
   "execution_count": null,
   "metadata": {
    "id": "JvujsNy082E3"
   },
   "outputs": [],
   "source": [
    "### YOUR CODE HERE ###"
   ]
  },
  {
   "cell_type": "markdown",
   "metadata": {
    "id": "G2hxBini82E4"
   },
   "source": [
    "**4.** Выберите из таблицы строки, которые соответствуют респондентам, которые предпочитают рыбачить на лодке (`boat`) с доходом (`income`) ниже 3500. Сохраните результат в переменную `boat_data`."
   ]
  },
  {
   "cell_type": "code",
   "execution_count": null,
   "metadata": {
    "id": "QAmeexnU82E4"
   },
   "outputs": [],
   "source": [
    "### YOUR CODE HERE ###"
   ]
  },
  {
   "cell_type": "markdown",
   "metadata": {
    "id": "Hjupzfph82E5"
   },
   "source": [
    "**5.** Переименуйте столбец `catch` в `c_rate`."
   ]
  },
  {
   "cell_type": "code",
   "execution_count": null,
   "metadata": {
    "id": "OS4rUTxV82E7"
   },
   "outputs": [],
   "source": [
    "### YOUR CODE HERE ###"
   ]
  },
  {
   "cell_type": "markdown",
   "metadata": {
    "id": "7AAcH3Gy82E7"
   },
   "source": [
    "**6.** Добавьте в таблицу столбец `log_income`, содержащий натуральный логарифм доходов респондентов."
   ]
  },
  {
   "cell_type": "code",
   "execution_count": null,
   "metadata": {
    "id": "qHvesEP082E8"
   },
   "outputs": [],
   "source": [
    "### YOUR CODE HERE ###"
   ]
  },
  {
   "cell_type": "markdown",
   "metadata": {
    "id": "GjDqAUSX82E8"
   },
   "source": [
    "**7.** Сгруппируйте наблюдения в таблице по признаку тип рыбалки (`mode`) и выведите для каждого типа среднюю цену (`price`), которую респонденты готовы заплатить за рыбалку."
   ]
  },
  {
   "cell_type": "code",
   "execution_count": null,
   "metadata": {
    "id": "kGaB0inL82E8"
   },
   "outputs": [],
   "source": [
    "### YOUR CODE HERE ###"
   ]
  },
  {
   "cell_type": "markdown",
   "metadata": {
    "id": "aNlqu3Kn82E9"
   },
   "source": [
    "**8.** Выведите на экран первые 8 строк таблицы. А теперь последние 8."
   ]
  },
  {
   "cell_type": "code",
   "execution_count": null,
   "metadata": {
    "id": "ssNG9GHb82E9"
   },
   "outputs": [],
   "source": [
    "### YOUR CODE HERE ###"
   ]
  },
  {
   "cell_type": "markdown",
   "metadata": {
    "id": "J7lVYGmS82E9"
   },
   "source": [
    "**9.** Сохраните изменённый датафрейм в csv-файл."
   ]
  },
  {
   "cell_type": "code",
   "execution_count": null,
   "metadata": {
    "id": "_HQz2KM782E9"
   },
   "outputs": [],
   "source": [
    "### YOUR CODE HERE ###"
   ]
  }
 ],
 "metadata": {
  "kernelspec": {
   "display_name": "Python 3 (ipykernel)",
   "language": "python",
   "name": "python3"
  },
  "language_info": {
   "codemirror_mode": {
    "name": "ipython",
    "version": 3
   },
   "file_extension": ".py",
   "mimetype": "text/x-python",
   "name": "python",
   "nbconvert_exporter": "python",
   "pygments_lexer": "ipython3",
   "version": "3.9.13"
  },
  "toc": {
   "colors": {
    "hover_highlight": "#DAA520",
    "running_highlight": "#FF0000",
    "selected_highlight": "#FFD700"
   },
   "moveMenuLeft": true,
   "nav_menu": {
    "height": "12px",
    "width": "252px"
   },
   "navigate_menu": true,
   "number_sections": true,
   "sideBar": true,
   "threshold": 4,
   "toc_cell": false,
   "toc_position": {
    "height": "550px",
    "left": "0px",
    "right": "1068px",
    "top": "106px",
    "width": "212px"
   },
   "toc_section_display": "block",
   "toc_window_display": false
  }
 },
 "nbformat": 4,
 "nbformat_minor": 2
}
