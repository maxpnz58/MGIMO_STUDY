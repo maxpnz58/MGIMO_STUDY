{
 "cells": [
  {
   "cell_type": "markdown",
   "id": "1d1f7974",
   "metadata": {},
   "source": [
    "# (Разведочный анализ данных) Exploratory data analisys\n"
   ]
  },
  {
   "cell_type": "markdown",
   "id": "13b6fdf6",
   "metadata": {},
   "source": [
    "- AREA_TYPE : тип района, где расположен объект недвижимости.\n",
    "- AVAILABILITY : доступна ли недвижимость в настоящее время или нет.\n",
    "- LOCATION : Место, где находится недвижимость.\n",
    "- SIZE : Количество спален\n",
    "- SOCIETY : Тип района, в котором находится собственность.\n",
    "- TOTAL_SQFT : общая площадь объекта в квадратных футах.\n",
    "- BATH : Количество ванных комнат\n",
    "- BALCONY : Количество балконов\n",
    "- PRICE : Стоимость недвижимости в лакхах¶"
   ]
  },
  {
   "cell_type": "markdown",
   "id": "de4e9994",
   "metadata": {},
   "source": [
    "В качестве задания вам предлагается повторить данные действия для набора данных\n",
    "- [Somerville Happiness Survey Data Set](http://archive.ics.uci.edu/ml/datasets/Somerville+Happiness+Survey)"
   ]
  },
  {
   "cell_type": "code",
   "execution_count": null,
   "id": "ef3cbe2c",
   "metadata": {},
   "outputs": [],
   "source": [
    "import numpy as np\n",
    "import pandas as pd\n",
    "import seaborn as sns\n",
    "import matplotlib.pyplot as plt\n",
    "\n",
    "from scipy import stats\n",
    "from sklearn.preprocessing import StandardScaler\n",
    "\n",
    "%matplotlib inline\n",
    "\n",
    "import warnings\n",
    "warnings.filterwarnings('ignore')\n",
    "\n",
    "from sklearn.preprocessing import LabelEncoder"
   ]
  },
  {
   "cell_type": "code",
   "execution_count": null,
   "id": "72bf083e",
   "metadata": {},
   "outputs": [],
   "source": [
    "df = pd.read_csv('https://raw.githubusercontent.com/yakushinav/omo/main/data/Bengaluru_House_Data.csv')\n",
    "print(df.head())"
   ]
  },
  {
   "cell_type": "code",
   "execution_count": null,
   "id": "14c426a2",
   "metadata": {},
   "outputs": [],
   "source": [
    "df.columns"
   ]
  },
  {
   "cell_type": "code",
   "execution_count": null,
   "id": "ddd9eb5b",
   "metadata": {},
   "outputs": [],
   "source": [
    "len(df.columns)"
   ]
  },
  {
   "cell_type": "code",
   "execution_count": null,
   "id": "a614a2d4",
   "metadata": {},
   "outputs": [],
   "source": [
    "df.info()"
   ]
  },
  {
   "cell_type": "markdown",
   "id": "62450930",
   "metadata": {},
   "source": [
    "# Смотрим на каждый признак в отдельности\n",
    "\n",
    "## Что нас интересует?\n",
    "- Тип (числовая / категориальная)\n",
    "- Смысл\n",
    "- Влияние на целевую переменную\n",
    "\n",
    "В итоге анализа делаем __вывод__."
   ]
  },
  {
   "cell_type": "markdown",
   "id": "0cbf1ca8",
   "metadata": {},
   "source": [
    "## Целевая переменная "
   ]
  },
  {
   "cell_type": "code",
   "execution_count": null,
   "id": "80e7cbfc",
   "metadata": {},
   "outputs": [],
   "source": [
    "df['price'].describe()"
   ]
  },
  {
   "cell_type": "code",
   "execution_count": null,
   "id": "9fac7622",
   "metadata": {},
   "outputs": [],
   "source": [
    "sns.distplot(df['price']);"
   ]
  },
  {
   "cell_type": "code",
   "execution_count": null,
   "id": "2a6b58d2",
   "metadata": {},
   "outputs": [],
   "source": [
    "print(\"Skewness: %f\" % df['price'].skew())\n",
    "print(\"Kurtosis: %f\" % df['price'].kurt())"
   ]
  },
  {
   "cell_type": "markdown",
   "id": "f8dfa89e",
   "metadata": {},
   "source": [
    "- Распределение отличается от нормального\n",
    "- Коэффициент асимметрии > 0\n",
    "- Коэффициент эксцесса (островершинности)  — мера остроты пика распределения случайной величины"
   ]
  },
  {
   "cell_type": "markdown",
   "id": "aquatic-crack",
   "metadata": {
    "papermill": {
     "duration": 0.075543,
     "end_time": "2021-04-27T08:39:47.127861",
     "exception": false,
     "start_time": "2021-04-27T08:39:47.052318",
     "status": "completed"
    },
    "tags": []
   },
   "source": [
    "\n",
    "## 1 Анализ пропущенных значений"
   ]
  },
  {
   "cell_type": "code",
   "execution_count": null,
   "id": "stock-reynolds",
   "metadata": {
    "execution": {
     "iopub.execute_input": "2021-04-27T08:39:47.280775Z",
     "iopub.status.busy": "2021-04-27T08:39:47.280111Z",
     "iopub.status.idle": "2021-04-27T08:39:47.293942Z",
     "shell.execute_reply": "2021-04-27T08:39:47.294551Z"
    },
    "papermill": {
     "duration": 0.092574,
     "end_time": "2021-04-27T08:39:47.294720",
     "exception": false,
     "start_time": "2021-04-27T08:39:47.202146",
     "status": "completed"
    },
    "tags": []
   },
   "outputs": [],
   "source": [
    "df.isnull().sum()"
   ]
  },
  {
   "cell_type": "code",
   "execution_count": null,
   "id": "dangerous-canon",
   "metadata": {
    "execution": {
     "iopub.execute_input": "2021-04-27T08:39:47.446980Z",
     "iopub.status.busy": "2021-04-27T08:39:47.446226Z",
     "iopub.status.idle": "2021-04-27T08:39:48.250460Z",
     "shell.execute_reply": "2021-04-27T08:39:48.250999Z"
    },
    "papermill": {
     "duration": 0.881875,
     "end_time": "2021-04-27T08:39:48.251176",
     "exception": false,
     "start_time": "2021-04-27T08:39:47.369301",
     "status": "completed"
    },
    "scrolled": true,
    "tags": []
   },
   "outputs": [],
   "source": [
    "sns.heatmap(df.isnull())"
   ]
  },
  {
   "cell_type": "code",
   "execution_count": null,
   "id": "infrared-science",
   "metadata": {
    "execution": {
     "iopub.execute_input": "2021-04-27T08:39:48.408681Z",
     "iopub.status.busy": "2021-04-27T08:39:48.407699Z",
     "iopub.status.idle": "2021-04-27T08:39:48.440377Z",
     "shell.execute_reply": "2021-04-27T08:39:48.440894Z"
    },
    "papermill": {
     "duration": 0.112274,
     "end_time": "2021-04-27T08:39:48.441062",
     "exception": false,
     "start_time": "2021-04-27T08:39:48.328788",
     "status": "completed"
    },
    "tags": []
   },
   "outputs": [],
   "source": [
    "(df.isnull().sum()/len(df))*100"
   ]
  },
  {
   "cell_type": "markdown",
   "id": "sustained-dollar",
   "metadata": {
    "papermill": {
     "duration": 0.075965,
     "end_time": "2021-04-27T08:39:48.593503",
     "exception": false,
     "start_time": "2021-04-27T08:39:48.517538",
     "status": "completed"
    },
    "tags": []
   },
   "source": [
    "## Категориальные переменные"
   ]
  },
  {
   "cell_type": "code",
   "execution_count": null,
   "id": "dietary-impossible",
   "metadata": {
    "execution": {
     "iopub.execute_input": "2021-04-27T08:39:48.751045Z",
     "iopub.status.busy": "2021-04-27T08:39:48.750382Z",
     "iopub.status.idle": "2021-04-27T08:39:48.756859Z",
     "shell.execute_reply": "2021-04-27T08:39:48.756198Z"
    },
    "papermill": {
     "duration": 0.085869,
     "end_time": "2021-04-27T08:39:48.756993",
     "exception": false,
     "start_time": "2021-04-27T08:39:48.671124",
     "status": "completed"
    },
    "tags": []
   },
   "outputs": [],
   "source": [
    "#40% данных в поле society пропущено. Удаляем\n",
    "df.drop('society',axis=1,inplace=True)"
   ]
  },
  {
   "cell_type": "code",
   "execution_count": null,
   "id": "activated-balance",
   "metadata": {
    "execution": {
     "iopub.execute_input": "2021-04-27T08:39:48.925406Z",
     "iopub.status.busy": "2021-04-27T08:39:48.924707Z",
     "iopub.status.idle": "2021-04-27T08:39:48.927566Z",
     "shell.execute_reply": "2021-04-27T08:39:48.928036Z"
    },
    "papermill": {
     "duration": 0.093288,
     "end_time": "2021-04-27T08:39:48.928210",
     "exception": false,
     "start_time": "2021-04-27T08:39:48.834922",
     "status": "completed"
    },
    "tags": []
   },
   "outputs": [],
   "source": [
    "#Заменяем пропущенные значения на моду\n",
    "df.location.replace(to_replace=np.NaN,value=df.location.mode()[0],inplace=True)\n",
    "df.area_type.replace(to_replace=np.NaN,value=df.area_type.mode()[0],inplace=True)"
   ]
  },
  {
   "cell_type": "code",
   "execution_count": null,
   "id": "irish-granny",
   "metadata": {
    "execution": {
     "iopub.execute_input": "2021-04-27T08:39:49.105843Z",
     "iopub.status.busy": "2021-04-27T08:39:49.105108Z",
     "iopub.status.idle": "2021-04-27T08:39:49.160698Z",
     "shell.execute_reply": "2021-04-27T08:39:49.161504Z"
    },
    "papermill": {
     "duration": 0.144726,
     "end_time": "2021-04-27T08:39:49.161742",
     "exception": false,
     "start_time": "2021-04-27T08:39:49.017016",
     "status": "completed"
    },
    "tags": []
   },
   "outputs": [],
   "source": [
    "#Поле size содержит данные такого вида 2 BHK. Выделим число отдельно\n",
    "df['size']=df['size'].str.split(' ',expand=True)[0].astype(np.number)\n",
    "df.bath=df.bath.astype(np.number)"
   ]
  },
  {
   "cell_type": "code",
   "execution_count": null,
   "id": "global-wholesale",
   "metadata": {
    "execution": {
     "iopub.execute_input": "2021-04-27T08:39:49.349190Z",
     "iopub.status.busy": "2021-04-27T08:39:49.348236Z",
     "iopub.status.idle": "2021-04-27T08:39:49.362981Z",
     "shell.execute_reply": "2021-04-27T08:39:49.363539Z"
    },
    "papermill": {
     "duration": 0.114474,
     "end_time": "2021-04-27T08:39:49.363708",
     "exception": false,
     "start_time": "2021-04-27T08:39:49.249234",
     "status": "completed"
    },
    "tags": []
   },
   "outputs": [],
   "source": [
    "#Заменим на бинарный признак доступно/недоступно\n",
    "df.availability=(df.availability=='Ready To Move')\n",
    "df.availability.replace({True:1,False:0},inplace=True)\n",
    "df.availability=df.availability.astype(object)\n",
    "df.availability.head()"
   ]
  },
  {
   "cell_type": "code",
   "execution_count": null,
   "id": "understanding-essex",
   "metadata": {
    "execution": {
     "iopub.execute_input": "2021-04-27T08:39:49.524009Z",
     "iopub.status.busy": "2021-04-27T08:39:49.523077Z",
     "iopub.status.idle": "2021-04-27T08:39:49.535574Z",
     "shell.execute_reply": "2021-04-27T08:39:49.536131Z"
    },
    "papermill": {
     "duration": 0.093176,
     "end_time": "2021-04-27T08:39:49.536308",
     "exception": false,
     "start_time": "2021-04-27T08:39:49.443132",
     "status": "completed"
    },
    "tags": []
   },
   "outputs": [],
   "source": [
    "df.isnull().sum() "
   ]
  },
  {
   "cell_type": "markdown",
   "id": "suitable-denver",
   "metadata": {
    "papermill": {
     "duration": 0.079224,
     "end_time": "2021-04-27T08:39:49.693016",
     "exception": false,
     "start_time": "2021-04-27T08:39:49.613792",
     "status": "completed"
    },
    "tags": []
   },
   "source": [
    "## Числовые переменные"
   ]
  },
  {
   "cell_type": "code",
   "execution_count": null,
   "id": "precise-chapel",
   "metadata": {
    "execution": {
     "iopub.execute_input": "2021-04-27T08:39:49.857657Z",
     "iopub.status.busy": "2021-04-27T08:39:49.856672Z",
     "iopub.status.idle": "2021-04-27T08:39:49.870175Z",
     "shell.execute_reply": "2021-04-27T08:39:49.870689Z"
    },
    "papermill": {
     "duration": 0.095649,
     "end_time": "2021-04-27T08:39:49.870873",
     "exception": false,
     "start_time": "2021-04-27T08:39:49.775224",
     "status": "completed"
    },
    "tags": []
   },
   "outputs": [],
   "source": [
    "#Заменяем пропуски в данных на конкретное значение\n",
    "df.bath=df.bath.astype(np.number)\n",
    "df['bath'] = df['bath'].fillna(1)\n",
    "df.balcony = df.balcony.astype(np.number)\n",
    "df['balcony'] = df['balcony'].fillna(0)\n",
    "df.size=df.size.astype(np.number)\n",
    "df['size'] = df['size'].fillna(1)\n"
   ]
  },
  {
   "cell_type": "code",
   "execution_count": null,
   "id": "finished-reasoning",
   "metadata": {
    "execution": {
     "iopub.execute_input": "2021-04-27T08:39:50.211803Z",
     "iopub.status.busy": "2021-04-27T08:39:50.210856Z",
     "iopub.status.idle": "2021-04-27T08:39:51.018369Z",
     "shell.execute_reply": "2021-04-27T08:39:51.017823Z"
    },
    "papermill": {
     "duration": 0.891886,
     "end_time": "2021-04-27T08:39:51.018510",
     "exception": false,
     "start_time": "2021-04-27T08:39:50.126624",
     "status": "completed"
    },
    "tags": []
   },
   "outputs": [],
   "source": [
    "#Заменяем пропуски в данных на основе интерполяции\n",
    "df['total_sqft'] = df['total_sqft'].interpolate(method='polynomial', order=2)\n",
    "df['price'] = df['price'].interpolate(method='polynomial', order=2)\n"
   ]
  },
  {
   "cell_type": "code",
   "execution_count": null,
   "id": "prime-siemens",
   "metadata": {
    "execution": {
     "iopub.execute_input": "2021-04-27T08:39:51.353175Z",
     "iopub.status.busy": "2021-04-27T08:39:51.352185Z",
     "iopub.status.idle": "2021-04-27T08:39:52.130121Z",
     "shell.execute_reply": "2021-04-27T08:39:52.129460Z"
    },
    "papermill": {
     "duration": 0.860895,
     "end_time": "2021-04-27T08:39:52.130258",
     "exception": false,
     "start_time": "2021-04-27T08:39:51.269363",
     "status": "completed"
    },
    "scrolled": true,
    "tags": []
   },
   "outputs": [],
   "source": [
    "sns.heatmap(df.isnull())"
   ]
  },
  {
   "cell_type": "code",
   "execution_count": null,
   "id": "awful-prospect",
   "metadata": {
    "execution": {
     "iopub.execute_input": "2021-04-27T08:39:52.303178Z",
     "iopub.status.busy": "2021-04-27T08:39:52.302508Z",
     "iopub.status.idle": "2021-04-27T08:39:52.311886Z",
     "shell.execute_reply": "2021-04-27T08:39:52.311352Z"
    },
    "papermill": {
     "duration": 0.098415,
     "end_time": "2021-04-27T08:39:52.312031",
     "exception": false,
     "start_time": "2021-04-27T08:39:52.213616",
     "status": "completed"
    },
    "tags": []
   },
   "outputs": [],
   "source": [
    "(df.isnull().sum()/len(df))*100"
   ]
  },
  {
   "cell_type": "markdown",
   "id": "collectible-active",
   "metadata": {
    "papermill": {
     "duration": 0.080646,
     "end_time": "2021-04-27T08:39:52.474084",
     "exception": false,
     "start_time": "2021-04-27T08:39:52.393438",
     "status": "completed"
    },
    "tags": []
   },
   "source": [
    "## 2 Удаление выбросов"
   ]
  },
  {
   "cell_type": "code",
   "execution_count": null,
   "id": "external-accordance",
   "metadata": {
    "execution": {
     "iopub.execute_input": "2021-04-27T08:39:52.640325Z",
     "iopub.status.busy": "2021-04-27T08:39:52.639581Z",
     "iopub.status.idle": "2021-04-27T08:39:52.950034Z",
     "shell.execute_reply": "2021-04-27T08:39:52.950516Z"
    },
    "papermill": {
     "duration": 0.395715,
     "end_time": "2021-04-27T08:39:52.950686",
     "exception": false,
     "start_time": "2021-04-27T08:39:52.554971",
     "status": "completed"
    },
    "tags": []
   },
   "outputs": [],
   "source": [
    "df.boxplot()"
   ]
  },
  {
   "cell_type": "code",
   "execution_count": null,
   "id": "stock-roommate",
   "metadata": {
    "execution": {
     "iopub.execute_input": "2021-04-27T08:39:53.125274Z",
     "iopub.status.busy": "2021-04-27T08:39:53.124493Z",
     "iopub.status.idle": "2021-04-27T08:39:53.163667Z",
     "shell.execute_reply": "2021-04-27T08:39:53.163131Z"
    },
    "papermill": {
     "duration": 0.129638,
     "end_time": "2021-04-27T08:39:53.163825",
     "exception": false,
     "start_time": "2021-04-27T08:39:53.034187",
     "status": "completed"
    },
    "tags": []
   },
   "outputs": [],
   "source": [
    "# Удалим выбросы, которые выходят далеко за 1 и 3 квартили\n",
    "q1 = df.quantile(0.25)\n",
    "q3 = df.quantile(0.75)\n",
    "IQR = q3-q1\n",
    "IQR\n",
    "\n",
    "df = df[~((df) > (q3 + (1.5 * IQR))).any(axis=1)]\n",
    "\n",
    "df.head()"
   ]
  },
  {
   "cell_type": "code",
   "execution_count": null,
   "id": "short-saver",
   "metadata": {
    "execution": {
     "iopub.execute_input": "2021-04-27T08:39:53.360069Z",
     "iopub.status.busy": "2021-04-27T08:39:53.359380Z",
     "iopub.status.idle": "2021-04-27T08:39:53.610086Z",
     "shell.execute_reply": "2021-04-27T08:39:53.609537Z"
    },
    "papermill": {
     "duration": 0.362086,
     "end_time": "2021-04-27T08:39:53.610230",
     "exception": false,
     "start_time": "2021-04-27T08:39:53.248144",
     "status": "completed"
    },
    "tags": []
   },
   "outputs": [],
   "source": [
    "df.boxplot()"
   ]
  },
  {
   "cell_type": "code",
   "execution_count": null,
   "id": "selected-capital",
   "metadata": {
    "execution": {
     "iopub.execute_input": "2021-04-27T08:39:53.786054Z",
     "iopub.status.busy": "2021-04-27T08:39:53.785312Z",
     "iopub.status.idle": "2021-04-27T08:39:53.789947Z",
     "shell.execute_reply": "2021-04-27T08:39:53.790447Z"
    },
    "papermill": {
     "duration": 0.095306,
     "end_time": "2021-04-27T08:39:53.790686",
     "exception": false,
     "start_time": "2021-04-27T08:39:53.695380",
     "status": "completed"
    },
    "tags": []
   },
   "outputs": [],
   "source": [
    "df.shape"
   ]
  },
  {
   "cell_type": "markdown",
   "id": "boxed-dynamics",
   "metadata": {
    "papermill": {
     "duration": 0.095853,
     "end_time": "2021-04-27T08:39:53.971887",
     "exception": false,
     "start_time": "2021-04-27T08:39:53.876034",
     "status": "completed"
    },
    "tags": []
   },
   "source": [
    "## 3. Разведочный анализ"
   ]
  },
  {
   "cell_type": "code",
   "execution_count": null,
   "id": "considered-water",
   "metadata": {
    "execution": {
     "iopub.execute_input": "2021-04-27T08:39:54.178126Z",
     "iopub.status.busy": "2021-04-27T08:39:54.174433Z",
     "iopub.status.idle": "2021-04-27T08:39:54.534897Z",
     "shell.execute_reply": "2021-04-27T08:39:54.535342Z"
    },
    "papermill": {
     "duration": 0.456285,
     "end_time": "2021-04-27T08:39:54.535512",
     "exception": false,
     "start_time": "2021-04-27T08:39:54.079227",
     "status": "completed"
    },
    "tags": []
   },
   "outputs": [],
   "source": [
    "sns.violinplot(y = df.price)"
   ]
  },
  {
   "cell_type": "code",
   "execution_count": null,
   "id": "successful-skating",
   "metadata": {
    "execution": {
     "iopub.execute_input": "2021-04-27T08:39:54.721712Z",
     "iopub.status.busy": "2021-04-27T08:39:54.720685Z",
     "iopub.status.idle": "2021-04-27T08:39:54.926479Z",
     "shell.execute_reply": "2021-04-27T08:39:54.925836Z"
    },
    "papermill": {
     "duration": 0.303523,
     "end_time": "2021-04-27T08:39:54.926614",
     "exception": false,
     "start_time": "2021-04-27T08:39:54.623091",
     "status": "completed"
    },
    "tags": []
   },
   "outputs": [],
   "source": [
    "# Распределение недвижимости по доступности и локации\n",
    "plt.bar(x=df[df['availability'] == 1].groupby('location')['availability'].agg('count').sort_values(ascending=False).head(10).index,height=df[df['availability'] == 1].groupby('location')['availability'].agg('count').sort_values(ascending=False).head(10))\n",
    "plt.xticks(rotation=45)\n",
    "plt.ylabel('Доступность')"
   ]
  },
  {
   "cell_type": "code",
   "execution_count": null,
   "id": "cooked-posting",
   "metadata": {
    "execution": {
     "iopub.execute_input": "2021-04-27T08:39:55.115060Z",
     "iopub.status.busy": "2021-04-27T08:39:55.114102Z",
     "iopub.status.idle": "2021-04-27T08:39:55.291655Z",
     "shell.execute_reply": "2021-04-27T08:39:55.291109Z"
    },
    "papermill": {
     "duration": 0.272139,
     "end_time": "2021-04-27T08:39:55.291809",
     "exception": false,
     "start_time": "2021-04-27T08:39:55.019670",
     "status": "completed"
    },
    "tags": []
   },
   "outputs": [],
   "source": [
    "# Распределение данных по типу недвижимости\n",
    "sns.countplot(df.area_type)\n",
    "plt.xticks(rotation = 45)\n",
    "plt.show()"
   ]
  },
  {
   "cell_type": "code",
   "execution_count": null,
   "id": "varied-armor",
   "metadata": {
    "execution": {
     "iopub.execute_input": "2021-04-27T08:39:55.493327Z",
     "iopub.status.busy": "2021-04-27T08:39:55.492286Z",
     "iopub.status.idle": "2021-04-27T08:39:55.598461Z",
     "shell.execute_reply": "2021-04-27T08:39:55.597894Z"
    },
    "papermill": {
     "duration": 0.217027,
     "end_time": "2021-04-27T08:39:55.598621",
     "exception": false,
     "start_time": "2021-04-27T08:39:55.381594",
     "status": "completed"
    },
    "scrolled": true,
    "tags": []
   },
   "outputs": [],
   "source": [
    "# Распределение по доступности\n",
    "plt.figure(figsize=(8,5))\n",
    "sns.countplot(df.availability)\n",
    "plt.show()"
   ]
  },
  {
   "cell_type": "code",
   "execution_count": null,
   "id": "contemporary-hardware",
   "metadata": {
    "execution": {
     "iopub.execute_input": "2021-04-27T08:39:55.791802Z",
     "iopub.status.busy": "2021-04-27T08:39:55.790720Z",
     "iopub.status.idle": "2021-04-27T08:39:55.986661Z",
     "shell.execute_reply": "2021-04-27T08:39:55.987203Z"
    },
    "papermill": {
     "duration": 0.296383,
     "end_time": "2021-04-27T08:39:55.987372",
     "exception": false,
     "start_time": "2021-04-27T08:39:55.690989",
     "status": "completed"
    },
    "tags": []
   },
   "outputs": [],
   "source": [
    "# Зависимость цены от площади\n",
    "plt.figure(figsize=(15,5))\n",
    "sns.scatterplot(x=\"total_sqft\", y=\"price\", data=df)\n",
    "plt.show()"
   ]
  },
  {
   "cell_type": "code",
   "execution_count": null,
   "id": "sticky-tourism",
   "metadata": {
    "execution": {
     "iopub.execute_input": "2021-04-27T08:39:56.189170Z",
     "iopub.status.busy": "2021-04-27T08:39:56.188120Z",
     "iopub.status.idle": "2021-04-27T08:39:56.370364Z",
     "shell.execute_reply": "2021-04-27T08:39:56.369806Z"
    },
    "papermill": {
     "duration": 0.285388,
     "end_time": "2021-04-27T08:39:56.370511",
     "exception": false,
     "start_time": "2021-04-27T08:39:56.085123",
     "status": "completed"
    },
    "tags": []
   },
   "outputs": [],
   "source": [
    "# Распределение по количеству спален\n",
    "df10 = df.copy()\n",
    "df10['size'] = np.round(df10['size'])\n",
    "plt.bar(x=df10.groupby('size')['price'].agg('mean').sort_values(ascending=False).head(10).index,height=df10.groupby('size')['price'].agg('mean').sort_values(ascending=False).head(10))\n",
    "plt.ylabel('Цена')\n",
    "plt.xlabel('Количество спален')"
   ]
  },
  {
   "cell_type": "markdown",
   "id": "9e4d574f",
   "metadata": {
    "execution": {
     "iopub.execute_input": "2021-04-27T08:39:56.567686Z",
     "iopub.status.busy": "2021-04-27T08:39:56.567059Z",
     "iopub.status.idle": "2021-04-27T08:39:56.570004Z",
     "shell.execute_reply": "2021-04-27T08:39:56.569375Z"
    },
    "papermill": {
     "duration": 0.102413,
     "end_time": "2021-04-27T08:39:56.570140",
     "exception": false,
     "start_time": "2021-04-27T08:39:56.467727",
     "status": "completed"
    },
    "tags": []
   },
   "source": [
    "# Самые дорогие районы в Бангалоре"
   ]
  },
  {
   "cell_type": "code",
   "execution_count": null,
   "id": "missing-retail",
   "metadata": {
    "execution": {
     "iopub.execute_input": "2021-04-27T08:39:56.771045Z",
     "iopub.status.busy": "2021-04-27T08:39:56.770363Z",
     "iopub.status.idle": "2021-04-27T08:39:56.972411Z",
     "shell.execute_reply": "2021-04-27T08:39:56.971787Z"
    },
    "papermill": {
     "duration": 0.304343,
     "end_time": "2021-04-27T08:39:56.972543",
     "exception": false,
     "start_time": "2021-04-27T08:39:56.668200",
     "status": "completed"
    },
    "tags": []
   },
   "outputs": [],
   "source": [
    "plt.plot(df.groupby(by='location')['price'].agg('mean').sort_values(ascending=False).head(10))\n",
    "plt.xlabel('Район')\n",
    "plt.ylabel('Цена')\n",
    "plt.xticks(rotation=45)"
   ]
  },
  {
   "cell_type": "markdown",
   "id": "c7a486c6",
   "metadata": {
    "execution": {
     "iopub.execute_input": "2021-04-27T08:39:57.180211Z",
     "iopub.status.busy": "2021-04-27T08:39:57.179363Z",
     "iopub.status.idle": "2021-04-27T08:39:57.182711Z",
     "shell.execute_reply": "2021-04-27T08:39:57.182097Z"
    },
    "papermill": {
     "duration": 0.108721,
     "end_time": "2021-04-27T08:39:57.182861",
     "exception": false,
     "start_time": "2021-04-27T08:39:57.074140",
     "status": "completed"
    },
    "tags": []
   },
   "source": [
    "# Самые дорогие районы в Бангалоре по отношению цена/площадь"
   ]
  },
  {
   "cell_type": "code",
   "execution_count": null,
   "id": "latest-argentina",
   "metadata": {
    "execution": {
     "iopub.execute_input": "2021-04-27T08:39:57.391751Z",
     "iopub.status.busy": "2021-04-27T08:39:57.390656Z",
     "iopub.status.idle": "2021-04-27T08:39:57.393720Z",
     "shell.execute_reply": "2021-04-27T08:39:57.394209Z"
    },
    "papermill": {
     "duration": 0.110894,
     "end_time": "2021-04-27T08:39:57.394394",
     "exception": false,
     "start_time": "2021-04-27T08:39:57.283500",
     "status": "completed"
    },
    "tags": []
   },
   "outputs": [],
   "source": [
    "df['per_sqft'] = df['price']/df['total_sqft']"
   ]
  },
  {
   "cell_type": "code",
   "execution_count": null,
   "id": "better-booth",
   "metadata": {
    "execution": {
     "iopub.execute_input": "2021-04-27T08:39:57.602625Z",
     "iopub.status.busy": "2021-04-27T08:39:57.601684Z",
     "iopub.status.idle": "2021-04-27T08:39:57.811161Z",
     "shell.execute_reply": "2021-04-27T08:39:57.811625Z"
    },
    "papermill": {
     "duration": 0.317518,
     "end_time": "2021-04-27T08:39:57.811819",
     "exception": false,
     "start_time": "2021-04-27T08:39:57.494301",
     "status": "completed"
    },
    "tags": []
   },
   "outputs": [],
   "source": [
    "plt.plot(df.groupby(by='location')['per_sqft'].agg('mean').sort_values(ascending=False).head(10))\n",
    "plt.xticks(rotation = 45)\n",
    "plt.xlabel('Район')\n",
    "plt.ylabel('Average Price / Sq.ft in Lakhs')"
   ]
  },
  {
   "cell_type": "code",
   "execution_count": null,
   "id": "maritime-allowance",
   "metadata": {
    "execution": {
     "iopub.execute_input": "2021-04-27T08:39:58.024974Z",
     "iopub.status.busy": "2021-04-27T08:39:58.023121Z",
     "iopub.status.idle": "2021-04-27T08:39:58.028149Z",
     "shell.execute_reply": "2021-04-27T08:39:58.027310Z"
    },
    "papermill": {
     "duration": 0.112974,
     "end_time": "2021-04-27T08:39:58.028420",
     "exception": false,
     "start_time": "2021-04-27T08:39:57.915446",
     "status": "completed"
    },
    "tags": []
   },
   "outputs": [],
   "source": [
    "df = df.drop('per_sqft',axis=1)"
   ]
  },
  {
   "cell_type": "code",
   "execution_count": null,
   "id": "hazardous-andrews",
   "metadata": {
    "execution": {
     "iopub.execute_input": "2021-04-27T08:39:58.243362Z",
     "iopub.status.busy": "2021-04-27T08:39:58.242648Z",
     "iopub.status.idle": "2021-04-27T08:39:58.433392Z",
     "shell.execute_reply": "2021-04-27T08:39:58.432356Z"
    },
    "papermill": {
     "duration": 0.301718,
     "end_time": "2021-04-27T08:39:58.433601",
     "exception": false,
     "start_time": "2021-04-27T08:39:58.131883",
     "status": "completed"
    },
    "tags": []
   },
   "outputs": [],
   "source": [
    "# Тепловая карта\n",
    "plt.figure(figsize=(10,8))\n",
    "sns.heatmap(df.corr(),annot=True,cbar=False)\n",
    "plt.show()"
   ]
  },
  {
   "cell_type": "markdown",
   "id": "portuguese-greensboro",
   "metadata": {
    "papermill": {
     "duration": 0.103074,
     "end_time": "2021-04-27T08:39:58.643549",
     "exception": false,
     "start_time": "2021-04-27T08:39:58.540475",
     "status": "completed"
    },
    "tags": []
   },
   "source": [
    "## Стандартизация"
   ]
  },
  {
   "cell_type": "code",
   "execution_count": null,
   "id": "behavioral-ballet",
   "metadata": {
    "execution": {
     "iopub.execute_input": "2021-04-27T08:39:58.864490Z",
     "iopub.status.busy": "2021-04-27T08:39:58.863842Z",
     "iopub.status.idle": "2021-04-27T08:39:58.868013Z",
     "shell.execute_reply": "2021-04-27T08:39:58.867371Z"
    },
    "papermill": {
     "duration": 0.121673,
     "end_time": "2021-04-27T08:39:58.868147",
     "exception": false,
     "start_time": "2021-04-27T08:39:58.746474",
     "status": "completed"
    },
    "tags": []
   },
   "outputs": [],
   "source": [
    "df.head()"
   ]
  },
  {
   "cell_type": "code",
   "execution_count": null,
   "id": "martial-mount",
   "metadata": {
    "execution": {
     "iopub.execute_input": "2021-04-27T08:39:59.079254Z",
     "iopub.status.busy": "2021-04-27T08:39:59.078609Z",
     "iopub.status.idle": "2021-04-27T08:39:59.087003Z",
     "shell.execute_reply": "2021-04-27T08:39:59.087533Z"
    },
    "papermill": {
     "duration": 0.116223,
     "end_time": "2021-04-27T08:39:59.087710",
     "exception": false,
     "start_time": "2021-04-27T08:39:58.971487",
     "status": "completed"
    },
    "tags": []
   },
   "outputs": [],
   "source": [
    "# Выдлим категориальные и числовые признаки\n",
    "data_cat=df.select_dtypes(exclude=np.number)\n",
    "data_num=df.select_dtypes(np.number)\n",
    "data_cat=data_cat.reset_index()"
   ]
  },
  {
   "cell_type": "code",
   "execution_count": null,
   "id": "digital-supplier",
   "metadata": {
    "execution": {
     "iopub.execute_input": "2021-04-27T08:39:59.299636Z",
     "iopub.status.busy": "2021-04-27T08:39:59.298924Z",
     "iopub.status.idle": "2021-04-27T08:39:59.318069Z",
     "shell.execute_reply": "2021-04-27T08:39:59.317503Z"
    },
    "papermill": {
     "duration": 0.124533,
     "end_time": "2021-04-27T08:39:59.318218",
     "exception": false,
     "start_time": "2021-04-27T08:39:59.193685",
     "status": "completed"
    },
    "tags": []
   },
   "outputs": [],
   "source": [
    "# Стандартизация это перевод к виду Среднее значение = 0, стандартное отклонение = 1\n",
    "ss=StandardScaler()\n",
    "data_num_scaled=pd.DataFrame(ss.fit_transform(data_num),columns=data_num.columns)\n",
    "data_num_scaled=data_num_scaled.reset_index()\n",
    "data_num_scaled.head()"
   ]
  },
  {
   "cell_type": "code",
   "execution_count": null,
   "id": "angry-contractor",
   "metadata": {
    "execution": {
     "iopub.execute_input": "2021-04-27T08:39:59.531243Z",
     "iopub.status.busy": "2021-04-27T08:39:59.530526Z",
     "iopub.status.idle": "2021-04-27T08:39:59.547348Z",
     "shell.execute_reply": "2021-04-27T08:39:59.546695Z"
    },
    "papermill": {
     "duration": 0.125658,
     "end_time": "2021-04-27T08:39:59.547510",
     "exception": false,
     "start_time": "2021-04-27T08:39:59.421852",
     "status": "completed"
    },
    "scrolled": true,
    "tags": []
   },
   "outputs": [],
   "source": [
    "# Соединяем данные\n",
    "df=pd.concat([data_num_scaled,data_cat],axis=1).drop('index',axis=1)\n",
    "df.head()"
   ]
  },
  {
   "cell_type": "markdown",
   "id": "exempt-target",
   "metadata": {
    "papermill": {
     "duration": 0.105758,
     "end_time": "2021-04-27T08:39:59.760733",
     "exception": false,
     "start_time": "2021-04-27T08:39:59.654975",
     "status": "completed"
    },
    "tags": []
   },
   "source": [
    "# Далее заменяем категориальные данные на числовые коды"
   ]
  },
  {
   "cell_type": "code",
   "execution_count": null,
   "id": "announced-jackson",
   "metadata": {
    "execution": {
     "iopub.execute_input": "2021-04-27T08:39:59.977569Z",
     "iopub.status.busy": "2021-04-27T08:39:59.976930Z",
     "iopub.status.idle": "2021-04-27T08:40:00.033559Z",
     "shell.execute_reply": "2021-04-27T08:40:00.034134Z"
    },
    "papermill": {
     "duration": 0.16917,
     "end_time": "2021-04-27T08:40:00.034308",
     "exception": false,
     "start_time": "2021-04-27T08:39:59.865138",
     "status": "completed"
    },
    "tags": []
   },
   "outputs": [],
   "source": [
    "# Заменим категориальные данные на числовые коды из словаря\n",
    "encoder = LabelEncoder()\n",
    "df['location'] = encoder.fit_transform(df['location'])\n",
    "df['location'] = df['location'].astype(np.number)\n"
   ]
  },
  {
   "cell_type": "code",
   "execution_count": null,
   "id": "8ab0e605",
   "metadata": {},
   "outputs": [],
   "source": [
    "# Заменим категориальные данные на бинарные поля\n",
    "df=pd.get_dummies(df,columns=['area_type'])\n",
    "df.head()"
   ]
  },
  {
   "cell_type": "code",
   "execution_count": null,
   "id": "premier-opposition",
   "metadata": {
    "execution": {
     "iopub.execute_input": "2021-04-27T08:40:00.252533Z",
     "iopub.status.busy": "2021-04-27T08:40:00.251605Z",
     "iopub.status.idle": "2021-04-27T08:40:00.305781Z",
     "shell.execute_reply": "2021-04-27T08:40:00.305263Z"
    },
    "papermill": {
     "duration": 0.165459,
     "end_time": "2021-04-27T08:40:00.305918",
     "exception": false,
     "start_time": "2021-04-27T08:40:00.140459",
     "status": "completed"
    },
    "scrolled": false,
    "tags": []
   },
   "outputs": [],
   "source": [
    "print(df.head())"
   ]
  },
  {
   "cell_type": "code",
   "execution_count": null,
   "id": "6fd5649f",
   "metadata": {},
   "outputs": [],
   "source": []
  }
 ],
 "metadata": {
  "kernelspec": {
   "display_name": "Python 3 (ipykernel)",
   "language": "python",
   "name": "python3"
  },
  "language_info": {
   "codemirror_mode": {
    "name": "ipython",
    "version": 3
   },
   "file_extension": ".py",
   "mimetype": "text/x-python",
   "name": "python",
   "nbconvert_exporter": "python",
   "pygments_lexer": "ipython3",
   "version": "3.9.13"
  }
 },
 "nbformat": 4,
 "nbformat_minor": 5
}
