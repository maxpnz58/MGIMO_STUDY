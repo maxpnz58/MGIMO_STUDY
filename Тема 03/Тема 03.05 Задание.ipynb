{
 "cells": [
  {
   "cell_type": "markdown",
   "id": "8cf68337",
   "metadata": {},
   "source": [
    "## Задание 1.\n",
    "\n",
    "Прочитать данные \n",
    "`https://raw.githubusercontent.com/yakushinav/omo/main/data/movies.csv`\n",
    "\n",
    "Имена столбцов\n",
    "```\n",
    "['color', 'director_name', 'num_critic_for_reviews', 'duration',\n",
    "                'gross', 'movie_title', 'num_user_for_reviews', 'country',\n",
    "                'cotent_rating', 'budget', 'title_year', 'imdb_score', 'genre']\n",
    "```"
   ]
  },
  {
   "cell_type": "code",
   "execution_count": null,
   "id": "3df68271",
   "metadata": {},
   "outputs": [],
   "source": []
  },
  {
   "cell_type": "markdown",
   "id": "161f36f5",
   "metadata": {},
   "source": [
    "## Задание 2\n",
    "\n",
    "Прочитать данные `https://raw.githubusercontent.com/yakushinav/omo/main/data/playstore.xlsx`.\n",
    "\n",
    "Для столбца `Last_Updated` установить формат `дата_и_время`."
   ]
  },
  {
   "cell_type": "code",
   "execution_count": null,
   "id": "c6e1d0b3",
   "metadata": {},
   "outputs": [],
   "source": []
  },
  {
   "cell_type": "markdown",
   "id": "7fd01ac2",
   "metadata": {},
   "source": [
    "## Задание 3\n",
    "\n",
    "Прочитать данные `https://raw.githubusercontent.com/yakushinav/omo/main/data/artists.json`.\n",
    "\n",
    "Выполнить сохранение в формат CSV. Прочитать полученный файл. Сравнить с исходным.\n"
   ]
  },
  {
   "cell_type": "code",
   "execution_count": null,
   "id": "f47b3c1c",
   "metadata": {},
   "outputs": [],
   "source": []
  }
 ],
 "metadata": {
  "kernelspec": {
   "display_name": "Python 3 (ipykernel)",
   "language": "python",
   "name": "python3"
  },
  "language_info": {
   "codemirror_mode": {
    "name": "ipython",
    "version": 3
   },
   "file_extension": ".py",
   "mimetype": "text/x-python",
   "name": "python",
   "nbconvert_exporter": "python",
   "pygments_lexer": "ipython3",
   "version": "3.9.13"
  }
 },
 "nbformat": 4,
 "nbformat_minor": 5
}
