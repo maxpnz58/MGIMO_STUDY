{
 "cells": [
  {
   "cell_type": "markdown",
   "metadata": {},
   "source": [
    "## Чтение JSON"
   ]
  },
  {
   "cell_type": "code",
   "execution_count": null,
   "metadata": {},
   "outputs": [],
   "source": [
    "import pandas as pd"
   ]
  },
  {
   "cell_type": "markdown",
   "metadata": {},
   "source": [
    "## Метод `read_json`\n",
    "\n",
    "Мы начнем с метода **read_json**, который позволяет нам считывать простые файлы JSON в DataFrame.\n",
    "\n",
    "Этот метод `read_json` принимает множество параметров, как мы видели в `read_csv` и `read_excel`, таких как `filepath`, `dtype` и `encoding`."
   ]
  },
  {
   "cell_type": "markdown",
   "metadata": {},
   "source": [
    "В этом случае мы попытаемся прочитать наш JSON-файл games.json.\n",
    "\n",
    "Этот файл содержит записи игр для PlayStation в Европе с указанием названия, цены, поставщика и жанра."
   ]
  },
  {
   "cell_type": "code",
   "execution_count": null,
   "metadata": {},
   "outputs": [],
   "source": [
    "games = pd.read_json('https://raw.githubusercontent.com/yakushinav/omo/main/data/games.json')"
   ]
  },
  {
   "cell_type": "code",
   "execution_count": null,
   "metadata": {
    "scrolled": false
   },
   "outputs": [],
   "source": [
    "games.head()"
   ]
  },
  {
   "cell_type": "markdown",
   "metadata": {},
   "source": [
    "## Пример вложенного JSON\n",
    "\n",
    "Документы JSON, как правило, не так просты для чтения, как таблицы, особенно если они имеют вложенные структуры."
   ]
  },
  {
   "cell_type": "code",
   "execution_count": null,
   "metadata": {},
   "outputs": [],
   "source": [
    "df = pd.read_json('https://raw.githubusercontent.com/yakushinav/omo/main/data/users.json')"
   ]
  },
  {
   "cell_type": "code",
   "execution_count": null,
   "metadata": {},
   "outputs": [],
   "source": [
    "df.head()"
   ]
  },
  {
   "cell_type": "markdown",
   "metadata": {},
   "source": [
    "Это не та структура данных, которую мы хотели, поэтому в этом случае `read_json` не может быть лучшим решением.\n",
    "\n",
    "Нам понадобится использовать модуль Python `json` для анализа нашего файла JSON в объект словаря Python, чтобы иметь возможность индексировать этот словарь и выбирать нужные вложенные данные.\n",
    "\n",
    "Для этого мы воспользуемся методом json.load(), который преобразует наш файл JSON в словарь Python json_dict."
   ]
  },
  {
   "cell_type": "code",
   "execution_count": null,
   "metadata": {},
   "outputs": [],
   "source": [
    "import json\n",
    "import urllib\n",
    "\n",
    "file_url = 'https://raw.githubusercontent.com/yakushinav/omo/main/data/users.json'\n",
    "\n",
    "\n",
    "data = urllib.request.urlopen(file_url)\n",
    "\n",
    "json_dict = json.load(data)"
   ]
  },
  {
   "cell_type": "code",
   "execution_count": null,
   "metadata": {},
   "outputs": [],
   "source": [
    "json_dict"
   ]
  },
  {
   "cell_type": "code",
   "execution_count": null,
   "metadata": {},
   "outputs": [],
   "source": [
    "json_dict.keys()"
   ]
  },
  {
   "cell_type": "code",
   "execution_count": null,
   "metadata": {},
   "outputs": [],
   "source": [
    "json_dict.values()"
   ]
  },
  {
   "cell_type": "code",
   "execution_count": null,
   "metadata": {},
   "outputs": [],
   "source": [
    "for user in json_dict['info']:\n",
    "    print(user)"
   ]
  },
  {
   "cell_type": "markdown",
   "metadata": {},
   "source": [
    "## Использование метода pandas `from_dict`\n",
    "\n",
    "Когда наш словарь Python готов, мы представим еще один полезный метод pandas: from_dict().\n",
    "\n",
    "Этот метод from_dict создаст новый DataFrame из словаря."
   ]
  },
  {
   "cell_type": "code",
   "execution_count": null,
   "metadata": {
    "scrolled": true
   },
   "outputs": [],
   "source": [
    "pd.DataFrame.from_dict({'Fruits': ['Apple', 'Banana']})"
   ]
  },
  {
   "cell_type": "markdown",
   "metadata": {},
   "source": [
    "### Изменение ориентации данных с помощью параметра orient\n",
    "\n",
    "«Ориентация» данных. Если ключи переданного словаря должны быть столбцами результирующего DataFrame, передайте orient=columns (поведение по умолчанию). В противном случае, если ключи должны быть строками, используйте orient=index."
   ]
  },
  {
   "cell_type": "code",
   "execution_count": null,
   "metadata": {},
   "outputs": [],
   "source": [
    "pd.DataFrame.from_dict({'Fruits': ['Apple', 'Banana']}, orient='index')"
   ]
  },
  {
   "cell_type": "markdown",
   "metadata": {},
   "source": [
    "Используем словарь json_dict для создания нового DataFrame, но на этот раз с использованием атрибута value:"
   ]
  },
  {
   "cell_type": "code",
   "execution_count": null,
   "metadata": {},
   "outputs": [],
   "source": [
    "df = pd.DataFrame.from_dict(json_dict)"
   ]
  },
  {
   "cell_type": "code",
   "execution_count": null,
   "metadata": {},
   "outputs": [],
   "source": [
    "df.head()"
   ]
  },
  {
   "cell_type": "code",
   "execution_count": null,
   "metadata": {
    "scrolled": false
   },
   "outputs": [],
   "source": [
    "df = pd.DataFrame.from_dict(json_dict['info'])"
   ]
  },
  {
   "cell_type": "code",
   "execution_count": null,
   "metadata": {},
   "outputs": [],
   "source": [
    "df.head()"
   ]
  },
  {
   "cell_type": "markdown",
   "metadata": {},
   "source": [
    "## Использование json_normalize для сложной вложенности\n",
    "\n",
    "В нашем примере у нас все еще есть два более сложных столбца: «адрес» и «компания».\n",
    "\n",
    "- `адрес`: список словарей (записей)\n",
    "- `компания`: словарь (запись)\n",
    "\n",
    "Метод json_normalize будет полезен для простой распаковки и выравнивания этих данных.\n",
    "\n",
    "Давайте распакуем столбец работ в отдельный фрейм данных. Мы также возьмем плоские столбцы, чтобы провести анализ."
   ]
  },
  {
   "cell_type": "code",
   "execution_count": null,
   "metadata": {},
   "outputs": [],
   "source": [
    "df.head()"
   ]
  },
  {
   "cell_type": "code",
   "execution_count": null,
   "metadata": {},
   "outputs": [],
   "source": [
    "json_dict"
   ]
  },
  {
   "cell_type": "code",
   "execution_count": null,
   "metadata": {
    "scrolled": true
   },
   "outputs": [],
   "source": [
    "users = pd.json_normalize(json_dict)\n",
    "\n",
    "users"
   ]
  },
  {
   "cell_type": "code",
   "execution_count": null,
   "metadata": {
    "scrolled": false
   },
   "outputs": [],
   "source": [
    "users = pd.json_normalize(json_dict['info'])"
   ]
  },
  {
   "cell_type": "code",
   "execution_count": null,
   "metadata": {},
   "outputs": [],
   "source": [
    "users.head(3)"
   ]
  },
  {
   "cell_type": "markdown",
   "metadata": {},
   "source": [
    "Теперь столбец «company» был разделен на три новых столбца: «company.name», «company.catchPhrase» и «company.bs». "
   ]
  },
  {
   "cell_type": "markdown",
   "metadata": {},
   "source": [
    "### Пользовательский разделитель для новых столбцов\n",
    "\n",
    "Мы можем использовать параметр `sep`, чтобы определить, как будут разделены вложенные записи."
   ]
  },
  {
   "cell_type": "code",
   "execution_count": null,
   "metadata": {},
   "outputs": [],
   "source": [
    "users = pd.json_normalize(json_dict['info'],\n",
    "                       sep='_')"
   ]
  },
  {
   "cell_type": "code",
   "execution_count": null,
   "metadata": {},
   "outputs": [],
   "source": [
    "users.head(3)"
   ]
  },
  {
   "cell_type": "markdown",
   "metadata": {},
   "source": [
    "### Распаковать столбец со списком записей\n",
    "\n",
    "Когда у нас есть столбец со списком вложенных значений (записей, словаря) с этим сложно разобраться.\n",
    "\n",
    "`json_normalize` позволяет нам определить параметр `record_path`, чтобы определить путь к столбцу со списком записей для их распаковки. Если этот параметр не передан, данные будут считаться массивом записей.\n",
    "\n",
    "В нашем случае мы распакуем столбец «адрес» в отдельный DataFrame."
   ]
  },
  {
   "cell_type": "code",
   "execution_count": null,
   "metadata": {},
   "outputs": [],
   "source": [
    "address = pd.json_normalize(json_dict['info'],\n",
    "                         sep='_',\n",
    "                         record_path='address')"
   ]
  },
  {
   "cell_type": "code",
   "execution_count": null,
   "metadata": {
    "scrolled": true
   },
   "outputs": [],
   "source": [
    "address.head()"
   ]
  },
  {
   "cell_type": "markdown",
   "metadata": {},
   "source": [
    "Параметр `record_path` может получать список столбцов, указывающих вложенный путь."
   ]
  },
  {
   "cell_type": "code",
   "execution_count": null,
   "metadata": {},
   "outputs": [],
   "source": [
    "address = pd.json_normalize(json_dict,\n",
    "                         sep='_',\n",
    "                         record_path=['info', 'address'])"
   ]
  },
  {
   "cell_type": "code",
   "execution_count": null,
   "metadata": {},
   "outputs": [],
   "source": [
    "address.head()"
   ]
  },
  {
   "cell_type": "markdown",
   "metadata": {},
   "source": [
    "### Добавление дополнительных столбцов к распакованным столбцам\n",
    "\n",
    "Есть еще один полезный параметр «meta», который позволяет нам добавлять поля в качестве метаданных для каждой записи в результирующем «DataFrame».\n",
    "\n",
    "В нашем случае мы добавим идентификатор пользователя к каждому адресу."
   ]
  },
  {
   "cell_type": "code",
   "execution_count": null,
   "metadata": {},
   "outputs": [],
   "source": [
    "address = pd.json_normalize(json_dict['info'],\n",
    "                         sep='_',\n",
    "                         record_path='address',\n",
    "                         meta=['id'])"
   ]
  },
  {
   "cell_type": "code",
   "execution_count": null,
   "metadata": {
    "scrolled": true
   },
   "outputs": [],
   "source": [
    "address.head()"
   ]
  },
  {
   "cell_type": "markdown",
   "metadata": {},
   "source": [
    "## Сохранить в файл JSON\n",
    "\n",
    "Наконец, мы можем сохранить наш DataFrame как файл JSON."
   ]
  },
  {
   "cell_type": "code",
   "execution_count": null,
   "metadata": {},
   "outputs": [],
   "source": [
    "users.head()"
   ]
  },
  {
   "cell_type": "markdown",
   "metadata": {},
   "source": [
    "Мы можем просто сгенерировать строку JSON из нашего DataFrame:"
   ]
  },
  {
   "cell_type": "code",
   "execution_count": null,
   "metadata": {},
   "outputs": [],
   "source": [
    "users.to_json()"
   ]
  },
  {
   "cell_type": "markdown",
   "metadata": {},
   "source": [
    "Или укажите путь к файлу, в котором мы хотим сохранить сгенерированный JSON-код:"
   ]
  },
  {
   "cell_type": "code",
   "execution_count": null,
   "metadata": {},
   "outputs": [],
   "source": [
    "users.to_json('out.json')"
   ]
  },
  {
   "cell_type": "code",
   "execution_count": null,
   "metadata": {
    "scrolled": true
   },
   "outputs": [],
   "source": [
    "pd.read_json('out.json').head()"
   ]
  }
 ],
 "metadata": {
  "kernelspec": {
   "display_name": "Python 3 (ipykernel)",
   "language": "python",
   "name": "python3"
  },
  "language_info": {
   "codemirror_mode": {
    "name": "ipython",
    "version": 3
   },
   "file_extension": ".py",
   "mimetype": "text/x-python",
   "name": "python",
   "nbconvert_exporter": "python",
   "pygments_lexer": "ipython3",
   "version": "3.9.13"
  }
 },
 "nbformat": 4,
 "nbformat_minor": 2
}
