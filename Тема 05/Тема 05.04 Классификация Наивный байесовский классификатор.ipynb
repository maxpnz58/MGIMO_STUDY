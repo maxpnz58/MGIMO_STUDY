{
 "cells": [
  {
   "cell_type": "markdown",
   "metadata": {
    "id": "R-PJzM_fWCB-"
   },
   "source": [
    "# IRIS-Flower-classification\n",
    "\n",
    "Этот проект представляет собой применение машинного обучения с программированием на Python на примере классификации цветов IRIS с использованием машинного обучения с инструментами scikit. \n",
    "Здесь используются алгоритмы, которые представляют собой некоторые типы машинного обучения с учителем и без учителя. \n",
    "\n",
    "[Ирисы Фишера](https://ru.wikipedia.org/wiki/%D0%98%D1%80%D0%B8%D1%81%D1%8B_%D0%A4%D0%B8%D1%88%D0%B5%D1%80%D0%B0) — набор данных для задачи классификации, на примере которого Рональд Фишер в 1936 году продемонстрировал работу разработанного им метода дискриминантного анализа. Иногда его также называют ирисами Андерсона, так как данные были собраны американским ботаником Эдгаром Андерсоном. Этот набор данных стал классическим и часто используется в литературе для иллюстрации работы различных статистических алгоритмов. \n",
    "\n",
    "Ирисы Фишера состоят из данных о 150 экземплярах ириса, по 50 экземпляров из трёх видов — Ирис щетинистый (Iris setosa), Ирис виргинский (Iris virginica) и Ирис разноцветный (Iris versicolor). Для каждого экземпляра измерялись четыре характеристики (в сантиметрах):\n",
    "\n",
    "- Длина наружной доли околоцветника (англ. sepal length);\n",
    "- Ширина наружной доли околоцветника (англ. sepal width);\n",
    "- Длина внутренней доли околоцветника (англ. petal length);\n",
    "- Ширина внутренней доли околоцветника (англ. petal width).\n",
    "\n",
    "На основании этого набора данных требуется построить правило классификации, определяющее вид растения по данным измерений. Это задача многоклассовой классификации, так как имеется три класса — три вида ириса.\n",
    "\n",
    "Один из классов (Iris setosa) линейно-разделим от двух остальных.\n",
    "\n",
    "В качестве задания вам предлагается повторить данные действия по классификации для наборов данных (можно выбрать, что больше понравится, но лучше сделать для всех)\n",
    "- [User Knowledge Modeling Data Set](http://archive.ics.uci.edu/ml/datasets/User+Knowledge+Modeling)\n",
    "- [Blood Transfusion Service Center Data Set](http://archive.ics.uci.edu/ml/datasets/Blood+Transfusion+Service+Center)\n",
    "- [Somerville Happiness Survey Data Set](http://archive.ics.uci.edu/ml/datasets/Somerville+Happiness+Survey)\n",
    "- [Wine Quality Data Set](https://archive.ics.uci.edu/ml/datasets/wine+quality)\n",
    "\n"
   ]
  },
  {
   "cell_type": "code",
   "execution_count": 2,
   "metadata": {
    "id": "UXmCE0CDWmKV"
   },
   "outputs": [],
   "source": [
    "# Подключаем библиотеки\n",
    "import pandas as pd # Работа с набором данных\n",
    "import numpy as np # Линейная алгебра\n",
    "# Визуализация данных\n",
    "import seaborn as sns \n",
    "import matplotlib.pyplot as plt\n",
    "\n",
    "# отключение информационных сообщений\n",
    "from warnings import filterwarnings\n",
    "filterwarnings(action='ignore')\n",
    "\n",
    "# разделение выборки\n",
    "from sklearn.model_selection import train_test_split\n",
    "#метрики\n",
    "from sklearn import metrics\n",
    "#Наивный байесовский классификатор\n",
    "from sklearn.naive_bayes import GaussianNB"
   ]
  },
  {
   "cell_type": "code",
   "execution_count": 3,
   "metadata": {
    "colab": {
     "base_uri": "https://localhost:8080/",
     "height": 206
    },
    "id": "s0rGanDwXhJ-",
    "outputId": "dd0cff84-309d-4c3e-cbe8-9155b1ec73dc"
   },
   "outputs": [
    {
     "data": {
      "text/html": [
       "<div>\n",
       "<style scoped>\n",
       "    .dataframe tbody tr th:only-of-type {\n",
       "        vertical-align: middle;\n",
       "    }\n",
       "\n",
       "    .dataframe tbody tr th {\n",
       "        vertical-align: top;\n",
       "    }\n",
       "\n",
       "    .dataframe thead th {\n",
       "        text-align: right;\n",
       "    }\n",
       "</style>\n",
       "<table border=\"1\" class=\"dataframe\">\n",
       "  <thead>\n",
       "    <tr style=\"text-align: right;\">\n",
       "      <th></th>\n",
       "      <th>sepal_length</th>\n",
       "      <th>sepal_width</th>\n",
       "      <th>petal_length</th>\n",
       "      <th>petal_width</th>\n",
       "      <th>species</th>\n",
       "    </tr>\n",
       "  </thead>\n",
       "  <tbody>\n",
       "    <tr>\n",
       "      <th>0</th>\n",
       "      <td>5.1</td>\n",
       "      <td>3.5</td>\n",
       "      <td>1.4</td>\n",
       "      <td>0.2</td>\n",
       "      <td>Iris-setosa</td>\n",
       "    </tr>\n",
       "    <tr>\n",
       "      <th>1</th>\n",
       "      <td>4.9</td>\n",
       "      <td>3.0</td>\n",
       "      <td>1.4</td>\n",
       "      <td>0.2</td>\n",
       "      <td>Iris-setosa</td>\n",
       "    </tr>\n",
       "    <tr>\n",
       "      <th>2</th>\n",
       "      <td>4.7</td>\n",
       "      <td>3.2</td>\n",
       "      <td>1.3</td>\n",
       "      <td>0.2</td>\n",
       "      <td>Iris-setosa</td>\n",
       "    </tr>\n",
       "    <tr>\n",
       "      <th>3</th>\n",
       "      <td>4.6</td>\n",
       "      <td>3.1</td>\n",
       "      <td>1.5</td>\n",
       "      <td>0.2</td>\n",
       "      <td>Iris-setosa</td>\n",
       "    </tr>\n",
       "    <tr>\n",
       "      <th>4</th>\n",
       "      <td>5.0</td>\n",
       "      <td>3.6</td>\n",
       "      <td>1.4</td>\n",
       "      <td>0.2</td>\n",
       "      <td>Iris-setosa</td>\n",
       "    </tr>\n",
       "  </tbody>\n",
       "</table>\n",
       "</div>"
      ],
      "text/plain": [
       "   sepal_length  sepal_width  petal_length  petal_width      species\n",
       "0           5.1          3.5           1.4          0.2  Iris-setosa\n",
       "1           4.9          3.0           1.4          0.2  Iris-setosa\n",
       "2           4.7          3.2           1.3          0.2  Iris-setosa\n",
       "3           4.6          3.1           1.5          0.2  Iris-setosa\n",
       "4           5.0          3.6           1.4          0.2  Iris-setosa"
      ]
     },
     "execution_count": 3,
     "metadata": {},
     "output_type": "execute_result"
    }
   ],
   "source": [
    "# читаем данные\n",
    "url = 'https://raw.githubusercontent.com/yakushinav/omo/main/data/iris.csv'\n",
    "data = pd.read_csv(url)\n",
    "data.head(5)"
   ]
  },
  {
   "cell_type": "code",
   "execution_count": 4,
   "metadata": {
    "id": "F6rRqP1yggi2"
   },
   "outputs": [],
   "source": [
    "# Разделим выборку на обучающую и тестовую\n",
    "train, test = train_test_split(data, test_size = 0.4, stratify = data['species'], random_state = 42)"
   ]
  },
  {
   "cell_type": "code",
   "execution_count": 5,
   "metadata": {},
   "outputs": [],
   "source": [
    "# Выделим признаки и результат\n",
    "X_train = train[['sepal_length','sepal_width','petal_length','petal_width']]\n",
    "y_train = train.species\n",
    "X_test = test[['sepal_length','sepal_width','petal_length','petal_width']]\n",
    "y_test = test.species\n",
    "\n",
    "fn = ['sepal_length','sepal_width','petal_length','petal_width']\n",
    "cn = data['species'].unique()"
   ]
  },
  {
   "cell_type": "markdown",
   "metadata": {},
   "source": [
    "# Наивный байесовский классификатор\n",
    "\n",
    "Пусть все компоненты случайной величины $X=(X_1,\\dots,X_d)$ дискретны, т. е. все признаки номинальны\n",
    "\n",
    "\n",
    "$$\n",
    "{\\rm Pr}\\,\\{Y = y \\mid X = x\\} = \\frac{{\\rm Pr}\\,\\{X = x\\mid Y = y\\} \\cdot{\\rm Pr}\\,\\{Y = y\\}}{{\\rm Pr}\\,\\{X = x\\}}\n",
    "=\n",
    "$$\n",
    "$$\n",
    "=\n",
    "\\frac{{\\rm Pr}\\,\\{X = x\\mid Y = y\\} \\cdot{\\rm Pr}\\,\\{Y = y\\}}{\\sum_{y'} {\\rm Pr}\\,\\{X = x\\mid Y = y'\\} \\cdot{\\rm Pr}\\,\\{Y = y'\\}}\n",
    "$$\n",
    "\n",
    "\n",
    "_Основное предположение наивного байесовского классификатора:_\n",
    "\n",
    "переменные $X_1,\\dots, X_d$ _условно независимы_ при любом заданном $Y=y$, \n",
    "т. е.\n",
    "\n",
    "$$\n",
    "{\\rm Pr}\\,\\{X_1=x_1,\\dots, X_d=x_d \\mid Y=y\\} = {\\rm Pr}\\,\\{X_1 = x_1 \\mid Y=y\\}\\cdot\\dots\\cdot {\\rm Pr}\\,\\{X_d = x_d \\mid Y=y\\},\n",
    "$$\n",
    "\n",
    "или, короче,\n",
    "$$\n",
    "{\\rm Pr}\\,\\{X=x \\mid Y=y\\} = \\prod_{j=1}^d {\\rm Pr}\\,\\{X_j = x_j \\mid Y=y\\}.\n",
    "$$\n",
    "\n",
    "По принципу максимума апостериорной вероятности\n",
    "$$\n",
    "f(x) = {\\rm argmax}_y {\\rm Pr}\\,\\{Y=y\\mid X=x\\} \n",
    "= {\\rm argmax}_y \\left({\\rm Pr}\\,\\{Y=y\\}\\cdot \\prod_{j=1}^d {\\rm Pr}\\,\\{X_j = x_j \\mid Y=y\\}\\right).\n",
    "$$\n",
    "\n",
    "Вероятности заменяем частотой:\n",
    "\n",
    "\n",
    "$$\n",
    "{\\rm Pr}\\,\\{Y = y\\} \\approx \\frac{1}{N} |\\{i:~y^{(i)} = y\\}|,\n",
    "\\qquad\n",
    "{\\rm Pr}\\,\\{X_j = x_j \\mid Y = y\\} \\approx \\frac{|\\{i:~{x_j^{(i)} = x_j, y^{(i)} = y}\\}|}{|\\{i:~y^{(i)} = y\\}|}.\n",
    "$$\n",
    "\n"
   ]
  },
  {
   "cell_type": "code",
   "execution_count": 6,
   "metadata": {
    "colab": {
     "base_uri": "https://localhost:8080/",
     "height": 553
    },
    "id": "q0GpLRYyhDnZ",
    "outputId": "a2b96a9c-06e0-4111-e94f-baaff0e5aa4d"
   },
   "outputs": [],
   "source": [
    "mod_gnb_all = GaussianNB()\n",
    "y_pred = mod_gnb_all.fit(X_train, y_train).predict(X_test)"
   ]
  },
  {
   "cell_type": "code",
   "execution_count": 7,
   "metadata": {},
   "outputs": [
    {
     "name": "stdout",
     "output_type": "stream",
     "text": [
      "accuracy (точность) классификатора Деревья решений 0.9333333333333333\n",
      "матрица ошибок\n",
      "[[20  0  0]\n",
      " [ 0 19  1]\n",
      " [ 0  3 17]]\n"
     ]
    }
   ],
   "source": [
    "#Выполняем предсказание\n",
    "y_pred=mod_gnb_all.predict(X_test)\n",
    "\n",
    "print('accuracy (точность) классификатора ',metrics.accuracy_score(y_pred,y_test))\n",
    "\n",
    "# матрица ошибок\n",
    "print(\"матрица ошибок\")\n",
    "print(metrics.confusion_matrix(y_test, y_pred))"
   ]
  },
  {
   "cell_type": "code",
   "execution_count": 9,
   "metadata": {},
   "outputs": [
    {
     "name": "stdout",
     "output_type": "stream",
     "text": [
      "['Iris-virginica']\n"
     ]
    }
   ],
   "source": [
    "# Использование построенной модели для предсказания класса\n",
    "new_iris=[1.3, 2.4, 5.6, 3.5]\n",
    "y_new_iris=mod_gnb_all.predict([new_iris])\n",
    "\n",
    "print(y_new_iris)"
   ]
  }
 ],
 "metadata": {
  "colab": {
   "provenance": []
  },
  "kernelspec": {
   "display_name": "Python 3 (ipykernel)",
   "language": "python",
   "name": "python3"
  },
  "language_info": {
   "codemirror_mode": {
    "name": "ipython",
    "version": 3
   },
   "file_extension": ".py",
   "mimetype": "text/x-python",
   "name": "python",
   "nbconvert_exporter": "python",
   "pygments_lexer": "ipython3",
   "version": "3.9.13"
  }
 },
 "nbformat": 4,
 "nbformat_minor": 1
}
