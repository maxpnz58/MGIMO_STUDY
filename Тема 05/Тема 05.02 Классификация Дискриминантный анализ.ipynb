{
 "cells": [
  {
   "cell_type": "markdown",
   "metadata": {
    "id": "R-PJzM_fWCB-"
   },
   "source": [
    "# IRIS-Flower-classification\n",
    "\n",
    "Этот проект представляет собой применение машинного обучения с программированием на Python на примере классификации цветов IRIS с использованием машинного обучения с инструментами scikit. \n",
    "Здесь используются алгоритмы, которые представляют собой некоторые типы машинного обучения с учителем и без учителя. \n",
    "\n",
    "[Ирисы Фишера](https://ru.wikipedia.org/wiki/%D0%98%D1%80%D0%B8%D1%81%D1%8B_%D0%A4%D0%B8%D1%88%D0%B5%D1%80%D0%B0) — набор данных для задачи классификации, на примере которого Рональд Фишер в 1936 году продемонстрировал работу разработанного им метода дискриминантного анализа. Иногда его также называют ирисами Андерсона, так как данные были собраны американским ботаником Эдгаром Андерсоном. Этот набор данных стал классическим и часто используется в литературе для иллюстрации работы различных статистических алгоритмов. \n",
    "\n",
    "Ирисы Фишера состоят из данных о 150 экземплярах ириса, по 50 экземпляров из трёх видов — Ирис щетинистый (Iris setosa), Ирис виргинский (Iris virginica) и Ирис разноцветный (Iris versicolor). Для каждого экземпляра измерялись четыре характеристики (в сантиметрах):\n",
    "\n",
    "- Длина наружной доли околоцветника (англ. sepal length);\n",
    "- Ширина наружной доли околоцветника (англ. sepal width);\n",
    "- Длина внутренней доли околоцветника (англ. petal length);\n",
    "- Ширина внутренней доли околоцветника (англ. petal width).\n",
    "\n",
    "На основании этого набора данных требуется построить правило классификации, определяющее вид растения по данным измерений. Это задача многоклассовой классификации, так как имеется три класса — три вида ириса.\n",
    "\n",
    "Один из классов (Iris setosa) линейно-разделим от двух остальных.\n",
    "\n",
    "В качестве задания вам предлагается повторить данные действия по классификации для наборов данных (можно выбрать, что больше понравится, но лучше сделать для всех)\n",
    "- [User Knowledge Modeling Data Set](http://archive.ics.uci.edu/ml/datasets/User+Knowledge+Modeling)\n",
    "- [Blood Transfusion Service Center Data Set](http://archive.ics.uci.edu/ml/datasets/Blood+Transfusion+Service+Center)\n",
    "- [Somerville Happiness Survey Data Set](http://archive.ics.uci.edu/ml/datasets/Somerville+Happiness+Survey)\n",
    "- [Wine Quality Data Set](https://archive.ics.uci.edu/ml/datasets/wine+quality)\n",
    "\n"
   ]
  },
  {
   "cell_type": "code",
   "execution_count": 2,
   "metadata": {
    "id": "UXmCE0CDWmKV"
   },
   "outputs": [],
   "source": [
    "# Подключаем библиотеки\n",
    "import pandas as pd # Работа с набором данных\n",
    "import numpy as np # Линейная алгебра\n",
    "# Визуализация данных\n",
    "import seaborn as sns \n",
    "import matplotlib.pyplot as plt\n",
    "\n",
    "# отключение информационных сообщений\n",
    "from warnings import filterwarnings\n",
    "filterwarnings(action='ignore')\n",
    "\n",
    "# разделение выборки\n",
    "from sklearn.model_selection import train_test_split\n",
    "#метрики\n",
    "from sklearn import metrics\n",
    "#Линейный дискриминантный анализ\n",
    "from sklearn.discriminant_analysis import LinearDiscriminantAnalysis, QuadraticDiscriminantAnalysis"
   ]
  },
  {
   "cell_type": "code",
   "execution_count": 3,
   "metadata": {
    "colab": {
     "base_uri": "https://localhost:8080/",
     "height": 206
    },
    "id": "s0rGanDwXhJ-",
    "outputId": "dd0cff84-309d-4c3e-cbe8-9155b1ec73dc"
   },
   "outputs": [
    {
     "data": {
      "text/html": [
       "<div>\n",
       "<style scoped>\n",
       "    .dataframe tbody tr th:only-of-type {\n",
       "        vertical-align: middle;\n",
       "    }\n",
       "\n",
       "    .dataframe tbody tr th {\n",
       "        vertical-align: top;\n",
       "    }\n",
       "\n",
       "    .dataframe thead th {\n",
       "        text-align: right;\n",
       "    }\n",
       "</style>\n",
       "<table border=\"1\" class=\"dataframe\">\n",
       "  <thead>\n",
       "    <tr style=\"text-align: right;\">\n",
       "      <th></th>\n",
       "      <th>sepal_length</th>\n",
       "      <th>sepal_width</th>\n",
       "      <th>petal_length</th>\n",
       "      <th>petal_width</th>\n",
       "      <th>species</th>\n",
       "    </tr>\n",
       "  </thead>\n",
       "  <tbody>\n",
       "    <tr>\n",
       "      <th>0</th>\n",
       "      <td>5.1</td>\n",
       "      <td>3.5</td>\n",
       "      <td>1.4</td>\n",
       "      <td>0.2</td>\n",
       "      <td>Iris-setosa</td>\n",
       "    </tr>\n",
       "    <tr>\n",
       "      <th>1</th>\n",
       "      <td>4.9</td>\n",
       "      <td>3.0</td>\n",
       "      <td>1.4</td>\n",
       "      <td>0.2</td>\n",
       "      <td>Iris-setosa</td>\n",
       "    </tr>\n",
       "    <tr>\n",
       "      <th>2</th>\n",
       "      <td>4.7</td>\n",
       "      <td>3.2</td>\n",
       "      <td>1.3</td>\n",
       "      <td>0.2</td>\n",
       "      <td>Iris-setosa</td>\n",
       "    </tr>\n",
       "    <tr>\n",
       "      <th>3</th>\n",
       "      <td>4.6</td>\n",
       "      <td>3.1</td>\n",
       "      <td>1.5</td>\n",
       "      <td>0.2</td>\n",
       "      <td>Iris-setosa</td>\n",
       "    </tr>\n",
       "    <tr>\n",
       "      <th>4</th>\n",
       "      <td>5.0</td>\n",
       "      <td>3.6</td>\n",
       "      <td>1.4</td>\n",
       "      <td>0.2</td>\n",
       "      <td>Iris-setosa</td>\n",
       "    </tr>\n",
       "  </tbody>\n",
       "</table>\n",
       "</div>"
      ],
      "text/plain": [
       "   sepal_length  sepal_width  petal_length  petal_width      species\n",
       "0           5.1          3.5           1.4          0.2  Iris-setosa\n",
       "1           4.9          3.0           1.4          0.2  Iris-setosa\n",
       "2           4.7          3.2           1.3          0.2  Iris-setosa\n",
       "3           4.6          3.1           1.5          0.2  Iris-setosa\n",
       "4           5.0          3.6           1.4          0.2  Iris-setosa"
      ]
     },
     "execution_count": 3,
     "metadata": {},
     "output_type": "execute_result"
    }
   ],
   "source": [
    "# читаем данные\n",
    "url = 'https://raw.githubusercontent.com/yakushinav/omo/main/data/iris.csv'\n",
    "data = pd.read_csv(url)\n",
    "data.head(5)"
   ]
  },
  {
   "cell_type": "code",
   "execution_count": 4,
   "metadata": {
    "id": "F6rRqP1yggi2"
   },
   "outputs": [],
   "source": [
    "# Разделим выборку на обучающую и тестовую\n",
    "train, test = train_test_split(data, test_size = 0.4, stratify = data['species'], random_state = 42)"
   ]
  },
  {
   "cell_type": "code",
   "execution_count": 5,
   "metadata": {},
   "outputs": [],
   "source": [
    "# Выделим признаки и результат\n",
    "X_train = train[['sepal_length','sepal_width','petal_length','petal_width']]\n",
    "y_train = train.species\n",
    "X_test = test[['sepal_length','sepal_width','petal_length','petal_width']]\n",
    "y_test = test.species\n",
    "\n",
    "fn = ['sepal_length','sepal_width','petal_length','petal_width']\n",
    "cn = data['species'].unique()"
   ]
  },
  {
   "cell_type": "markdown",
   "metadata": {},
   "source": [
    "## Линейный дискриминантный анализ\n",
    "\n",
    "_Априорная вероятность_:\n",
    "\n",
    "$$\n",
    "{\\rm Pr\\,} y\n",
    "$$\n",
    "\n",
    "_Апостериорная вероятность_:\n",
    "\n",
    "$$\n",
    "{\\rm Pr\\,}(y \\mid x) = \\frac{p(x\\mid y)\\, {\\rm Pr\\,} y}{p(x)}\\ \n",
    "$$\n",
    "\n",
    "Линейный дискриминантный анализ (LDA) делает два предположения:\n",
    "\n",
    " - объекты каждого класса распределены по нормальному закону:\n",
    "\n",
    "$$\n",
    "p(x\\mid y) = \\frac{1}{\\sqrt{(2\\pi)^d\\det\\Sigma_y}}e^{-\\frac{1}{2}(x-\\mu_y)^{\\top}\\Sigma_y^{-1}(x-\\mu_y)}\n",
    "$$\n",
    "\n",
    " - матрицы ковариации $\\Sigma = \\Sigma_y$ одинаковы для всех классов\n",
    " \n",
    " \n",
    "Нам нужно сравнить две апостериорные вероятности:\n",
    "\n",
    "$$\n",
    "{\\rm Pr\\,}(y \\mid x) > {\\rm Pr\\,}(y' \\mid x)\n",
    "$$\n",
    "\n",
    "Подставляя выражения для $p(x\\mid y)$ и $p(x\\mid y')$ и логарифмируя, приходим к неравенству:\n",
    "\n",
    "$$\n",
    "{-\\frac{1}{2}(x-\\mu_y)^{\\top}\\Sigma^{-1}(x-\\mu_y)} + \\ln {\\rm Pr\\,} y\n",
    ">\n",
    "{-\\frac{1}{2}(x-\\mu_{y'})^{\\top}\\Sigma^{-1}(x-\\mu_{y'})} + \\ln {\\rm Pr\\,} y'\n",
    "$$\n",
    "\n",
    "Откуда\n",
    "\n",
    "$$\n",
    "(\\mu_y - \\mu_{y'})^{\\top} \\Sigma^{-1} x >\n",
    "\\frac{1}{2}\\mu_{y}^{\\top}\\Sigma^{-1}\\mu_{y} - \\frac{1}{2}\\mu_{y'}^{\\top}\\Sigma^{-1}\\mu_{y'}\n",
    "- \\ln {\\rm Pr\\,} y+ \\ln {\\rm Pr\\,} y'\n",
    "$$\n",
    "т. е.\n",
    "$$\n",
    "w^{\\top} x > c,\n",
    "$$\n",
    "где $w = (\\mu_y - \\mu_{y'})^{\\top} \\Sigma^{-1}$, а $c$ – некоторая константа.\n",
    "\n",
    "Таким образом, \n",
    "\n",
    "* уравнение $w^{\\top} x = c$ задает разделяющую гиперплоскость между классами $y$ и $y'$\n",
    "* важна линейная комбинация признаков $x$ с коэффициентами $w$\n",
    "\n",
    "Введем _линейную дискриминантную функцию_:\n",
    "$$\n",
    "\\delta_y(x) = \n",
    "- \\frac{1}{2}(x-\\mu_y)^{\\top}\\Sigma^{-1}(x-\\mu_y) + \\frac{1}{2}x^{\\top}\\Sigma^{-1}x + \\ln {\\rm Pr}\\,y\n",
    "= \\mu_y^{\\top} \\Sigma^{-1} x  - \\frac{1}{2}\\mu_y^{\\top}\\Sigma^{-1}\\mu_y + \\ln {\\rm Pr}\\,y\n",
    "$$\n",
    "\n",
    "Классификатор: объект $x$ относим к тому классу $y$, для которого $\\delta_y(x)$ максимальна.\n",
    "\n",
    "Здесь \n",
    "$$\n",
    "\\rho(x,x') = \\sqrt{(x-x')^{\\top}\\Sigma^{-1}(x-x')}\n",
    "$$\n",
    "– это _расстояние Махаланобиса_.\n"
   ]
  },
  {
   "cell_type": "code",
   "execution_count": 6,
   "metadata": {
    "colab": {
     "base_uri": "https://localhost:8080/",
     "height": 553
    },
    "id": "q0GpLRYyhDnZ",
    "outputId": "a2b96a9c-06e0-4111-e94f-baaff0e5aa4d"
   },
   "outputs": [],
   "source": [
    "# Линейный дискриминантный анализ\n",
    "mod_lda_all = LinearDiscriminantAnalysis()\n",
    "y_pred = mod_lda_all.fit(X_train, y_train).predict(X_test)"
   ]
  },
  {
   "cell_type": "code",
   "execution_count": 19,
   "metadata": {},
   "outputs": [
    {
     "name": "stdout",
     "output_type": "stream",
     "text": [
      "accuracy (точность) классификатора 0.9833333333333333\n",
      "матрица ошибок\n",
      "[[20  0  0]\n",
      " [ 0 20  0]\n",
      " [ 0  1 19]]\n"
     ]
    }
   ],
   "source": [
    "#Выполняем предсказание\n",
    "y_pred=mod_lda_all.predict(X_test)\n",
    "\n",
    "print('accuracy (точность) классификатора',metrics.accuracy_score(y_pred,y_test))\n",
    "\n",
    "# матрица ошибок\n",
    "print(\"матрица ошибок\")\n",
    "print(metrics.confusion_matrix(y_test, y_pred))"
   ]
  },
  {
   "cell_type": "code",
   "execution_count": 8,
   "metadata": {},
   "outputs": [
    {
     "name": "stdout",
     "output_type": "stream",
     "text": [
      "['Iris-virginica']\n"
     ]
    }
   ],
   "source": [
    "# Использование построенной модели для предсказания класса\n",
    "new_iris=[1.3, 2.4, 5.6, 3.5]\n",
    "y_new_iris=mod_lda_all.predict([new_iris])\n",
    "\n",
    "print(y_new_iris)"
   ]
  },
  {
   "cell_type": "code",
   "execution_count": 9,
   "metadata": {},
   "outputs": [
    {
     "name": "stdout",
     "output_type": "stream",
     "text": [
      "[ -6.04323394  -3.92033351 -41.3210986 ]\n",
      "[[  6.32361417   9.610657   -17.46495871 -19.96252144]\n",
      " [ -1.3556569   -3.69530297   4.7397141    1.94664665]\n",
      " [ -4.96795728  -5.91535404  12.72524461  18.01587479]]\n"
     ]
    }
   ],
   "source": [
    "# Разделяющие гиперплоскости\n",
    "print(mod_lda_all.intercept_)\n",
    "print(mod_lda_all.coef_)"
   ]
  },
  {
   "cell_type": "code",
   "execution_count": 10,
   "metadata": {},
   "outputs": [
    {
     "data": {
      "image/png": "[encoded data removed]",
      "text/plain": [
       "<Figure size 643x500 with 1 Axes>"
      ]
     },
     "metadata": {},
     "output_type": "display_data"
    }
   ],
   "source": [
    "# LDA визуализация при размерности признаков 2 \n",
    "mod_lda_1 = LinearDiscriminantAnalysis()\n",
    "selected_predictors = [\"petal_length\", \"petal_width\"]\n",
    "y_pred = mod_lda_1.fit(X_train[selected_predictors], y_train).predict(X_test[selected_predictors])\n",
    "\n",
    "g = sns.FacetGrid(test, hue=\"species\", height=5, palette = 'colorblind').map(plt.scatter,\"petal_length\", \"petal_width\", ).add_legend()\n",
    "my_ax = g.ax\n",
    "\n",
    "y1 = np.array([3, 0])\n",
    "\n",
    "for i, c in enumerate(['r','g','b']):\n",
    "    b, w1, w2 = mod_lda_1.intercept_[i], mod_lda_1.coef_[i][0], mod_lda_1.coef_[i][1]\n",
    "    x1 = -(b+y1*w2)/w1    \n",
    "    plt.plot(x1,y1,c=c)"
   ]
  },
  {
   "cell_type": "code",
   "execution_count": 11,
   "metadata": {},
   "outputs": [
    {
     "name": "stdout",
     "output_type": "stream",
     "text": [
      "accuracy (точность) классификатора QDA  0.983\n",
      "матрица ошибок\n",
      "[[20  0  0]\n",
      " [ 0 20  0]\n",
      " [ 0  1 19]]\n"
     ]
    }
   ],
   "source": [
    "# Квадратичный дискриминантный анализ\n",
    "mod_qda_all = QuadraticDiscriminantAnalysis()\n",
    "y_pred = mod_qda_all.fit(X_train, y_train).predict(X_test)\n",
    "print('accuracy (точность) классификатора QDA ',\"{:.3f}\".format(metrics.accuracy_score(y_pred,y_test)))\n",
    "\n",
    "# матрица ошибок\n",
    "print(\"матрица ошибок\")\n",
    "print(metrics.confusion_matrix(y_test, y_pred))"
   ]
  },
  {
   "cell_type": "code",
   "execution_count": 12,
   "metadata": {},
   "outputs": [
    {
     "name": "stdout",
     "output_type": "stream",
     "text": [
      "['Iris-virginica']\n"
     ]
    }
   ],
   "source": [
    "# Использование построенной модели для предсказания класса\n",
    "new_iris=[1.3, 2.4, 5.6, 3.5]\n",
    "y_new_iris=mod_qda_all.predict([new_iris])\n",
    "\n",
    "print(y_new_iris)"
   ]
  },
  {
   "cell_type": "code",
   "execution_count": 18,
   "metadata": {},
   "outputs": [
    {
     "name": "stdout",
     "output_type": "stream",
     "text": [
      "[[4.98666667 3.42       1.49       0.23666667]\n",
      " [5.97       2.74       4.27       1.31333333]\n",
      " [6.64666667 3.01666667 5.62333333 2.05666667]]\n"
     ]
    }
   ],
   "source": [
    "# Разделяющие поверхности\n",
    "print(mod_qda_all.means_)"
   ]
  },
  {
   "cell_type": "code",
   "execution_count": null,
   "metadata": {},
   "outputs": [],
   "source": []
  }
 ],
 "metadata": {
  "colab": {
   "provenance": []
  },
  "kernelspec": {
   "display_name": "Python 3 (ipykernel)",
   "language": "python",
   "name": "python3"
  },
  "language_info": {
   "codemirror_mode": {
    "name": "ipython",
    "version": 3
   },
   "file_extension": ".py",
   "mimetype": "text/x-python",
   "name": "python",
   "nbconvert_exporter": "python",
   "pygments_lexer": "ipython3",
   "version": "3.9.13"
  }
 },
 "nbformat": 4,
 "nbformat_minor": 1
}
