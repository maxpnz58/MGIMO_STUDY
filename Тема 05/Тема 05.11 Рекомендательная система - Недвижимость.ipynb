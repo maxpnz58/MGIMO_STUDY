{
 "cells": [
  {
   "cell_type": "markdown",
   "id": "1d1f7974",
   "metadata": {},
   "source": [
    "# Рекомендательная система \"Подбор объектов недвижимости\" \n",
    "\n",
    "Набор данных Bangalore House Price\n"
   ]
  },
  {
   "cell_type": "markdown",
   "id": "13b6fdf6",
   "metadata": {},
   "source": [
    "- AREA_TYPE : тип района, где расположен объект недвижимости.\n",
    "- AVAILABILITY : доступна ли недвижимость в настоящее время или нет.\n",
    "- LOCATION : Место, где находится недвижимость.\n",
    "- SIZE : Количество спален\n",
    "- SOCIETY : Тип района, в котором находится собственность.\n",
    "- TOTAL_SQFT : общая площадь объекта в квадратных футах.\n",
    "- BATH : Количество ванных комнат\n",
    "- BALCONY : Количество балконов\n",
    "- PRICE : Стоимость недвижимости в лакхах¶"
   ]
  },
  {
   "cell_type": "markdown",
   "id": "de4e9994",
   "metadata": {},
   "source": [
    "В качестве задания вам предлагается повторить данные действия для набора данных\n",
    "- [Using chemical analysis to determine the origin of wines](https://archive.ics.uci.edu/dataset/109/wine)"
   ]
  },
  {
   "cell_type": "code",
   "execution_count": 32,
   "id": "ef3cbe2c",
   "metadata": {},
   "outputs": [],
   "source": [
    "import numpy as np\n",
    "import pandas as pd\n",
    "\n",
    "%matplotlib inline\n",
    "\n",
    "import warnings\n",
    "warnings.filterwarnings('ignore')\n",
    "\n",
    "from sklearn.neighbors import NearestNeighbors\n",
    "from sklearn.preprocessing import LabelEncoder"
   ]
  },
  {
   "cell_type": "code",
   "execution_count": 24,
   "id": "72bf083e",
   "metadata": {},
   "outputs": [
    {
     "name": "stdout",
     "output_type": "stream",
     "text": [
      "              area_type   availability                  location       size  \\\n",
      "0  Super built-up  Area         19-Dec  Electronic City Phase II      2 BHK   \n",
      "1            Plot  Area  Ready To Move          Chikka Tirupathi  4 Bedroom   \n",
      "2        Built-up  Area  Ready To Move               Uttarahalli      3 BHK   \n",
      "3  Super built-up  Area  Ready To Move        Lingadheeranahalli      3 BHK   \n",
      "4  Super built-up  Area  Ready To Move                  Kothanur      2 BHK   \n",
      "\n",
      "   society  total_sqft  bath  balcony   price  \n",
      "0  Coomee       1056.0   2.0      1.0   39.07  \n",
      "1  Theanmp      2600.0   5.0      3.0  120.00  \n",
      "2      NaN      1440.0   2.0      3.0   62.00  \n",
      "3  Soiewre      1521.0   3.0      1.0   95.00  \n",
      "4      NaN      1200.0   2.0      1.0   51.00  \n"
     ]
    }
   ],
   "source": [
    "df = pd.read_csv('https://raw.githubusercontent.com/yakushinav/omo/main/data/Bengaluru_House_Data.csv')\n",
    "print(df.head())"
   ]
  },
  {
   "cell_type": "code",
   "execution_count": 25,
   "id": "58cae6dc",
   "metadata": {},
   "outputs": [
    {
     "name": "stdout",
     "output_type": "stream",
     "text": [
      "<class 'pandas.core.frame.DataFrame'>\n",
      "RangeIndex: 13317 entries, 0 to 13316\n",
      "Data columns (total 9 columns):\n",
      " #   Column        Non-Null Count  Dtype  \n",
      "---  ------        --------------  -----  \n",
      " 0   area_type     13287 non-null  object \n",
      " 1   availability  13287 non-null  object \n",
      " 2   location      13286 non-null  object \n",
      " 3   size          13271 non-null  object \n",
      " 4   society       7807 non-null   object \n",
      " 5   total_sqft    13287 non-null  float64\n",
      " 6   bath          13214 non-null  float64\n",
      " 7   balcony       12679 non-null  float64\n",
      " 8   price         13287 non-null  float64\n",
      "dtypes: float64(4), object(5)\n",
      "memory usage: 936.5+ KB\n",
      "None\n"
     ]
    }
   ],
   "source": [
    "print(df.info())"
   ]
  },
  {
   "cell_type": "code",
   "execution_count": 26,
   "id": "06d86fc9",
   "metadata": {},
   "outputs": [],
   "source": [
    "# Данное поле содержит очень много пропусков, удаляем\n",
    "df.drop('society',axis=1,inplace=True)"
   ]
  },
  {
   "cell_type": "code",
   "execution_count": 27,
   "id": "75d0f0da",
   "metadata": {},
   "outputs": [],
   "source": [
    "# Заменяем пропуски в данных\n",
    "df.location.replace(to_replace=np.NaN,value=df.location.mode()[0],inplace=True)\n",
    "df.area_type.replace(to_replace=np.NaN,value=df.area_type.mode()[0],inplace=True)\n",
    "df['size']=df['size'].str.split(' ',expand=True)[0].astype(np.number)\n",
    "df['size'] = df['size'].fillna(1)\n",
    "df.bath=df.bath.astype(np.number)\n",
    "df['bath'] = df['bath'].fillna(1)\n",
    "df.balcony = df.balcony.astype(np.number)\n",
    "df['balcony'] = df['balcony'].fillna(0)\n",
    "df.availability=(df.availability=='Ready To Move')\n",
    "df.availability.replace({True:1,False:0},inplace=True)\n",
    "df['availability'] = df['availability'].astype(np.number)\n",
    "\n",
    "#Заменяем пропуски в данных на основе интерполяции\n",
    "df['total_sqft'] = df['total_sqft'].interpolate(method='polynomial', order=2)\n",
    "df['price'] = df['price'].interpolate(method='polynomial', order=2)"
   ]
  },
  {
   "cell_type": "code",
   "execution_count": 28,
   "id": "261b0c9c",
   "metadata": {},
   "outputs": [],
   "source": [
    "# Далее заменяем категориальные данные на числовые коды\n",
    "encoder = LabelEncoder()\n",
    "df['area_type'] = encoder.fit_transform(df['area_type'])\n",
    "df['area_type']=df['area_type'].astype(np.number)\n",
    "df['location'] = encoder.fit_transform(df['location'])\n",
    "df['location'] = df['location'].astype(np.number)"
   ]
  },
  {
   "cell_type": "code",
   "execution_count": 29,
   "id": "1a8f356c",
   "metadata": {},
   "outputs": [
    {
     "data": {
      "text/plain": [
       "NearestNeighbors(metric='cosine')"
      ]
     },
     "execution_count": 29,
     "metadata": {},
     "output_type": "execute_result"
    }
   ],
   "source": [
    " # Строим модель обучения по методу ближайших соседей\n",
    "model = NearestNeighbors(metric='cosine')\n",
    "model.fit(df)"
   ]
  },
  {
   "cell_type": "code",
   "execution_count": 30,
   "id": "6a55fd27",
   "metadata": {},
   "outputs": [],
   "source": [
    "# Читаем ввод пользователя\n",
    "X = {'area_type': 0,\n",
    "             'availability': 1,\n",
    "             'location': 300,\n",
    "             'size': 2,\n",
    "             'total_sqft': 300,\n",
    "             'bath': 1,\n",
    "             'balcony': 1,\n",
    "             'price': 300}\n",
    "# Создаем набор данных для построения рекомендации\n",
    "x = pd.DataFrame(columns=X.keys())\n",
    "x.loc[0]=X.values()"
   ]
  },
  {
   "cell_type": "code",
   "execution_count": 31,
   "id": "7effb2a0",
   "metadata": {},
   "outputs": [
    {
     "name": "stdout",
     "output_type": "stream",
     "text": [
      "Вашему запросу соответствуют следующие объекты недвижимости:\n",
      "--------- 9193 ------------\n",
      "area_type          3.0\n",
      "availability       0.0\n",
      "location        1249.0\n",
      "size               3.0\n",
      "total_sqft      1496.0\n",
      "bath               2.0\n",
      "balcony            1.0\n",
      "price            718.0\n",
      "Name: 9193, dtype: float64\n",
      "--------- 7881 ------------\n",
      "area_type          3.0\n",
      "availability       1.0\n",
      "location        1191.0\n",
      "size               4.0\n",
      "total_sqft      2000.0\n",
      "bath               3.0\n",
      "balcony            2.0\n",
      "price           1063.0\n",
      "Name: 7881, dtype: float64\n",
      "--------- 7655 ------------\n",
      "area_type         0.0\n",
      "availability      1.0\n",
      "location        964.0\n",
      "size              1.0\n",
      "total_sqft      425.0\n",
      "bath              1.0\n",
      "balcony           1.0\n",
      "price           750.0\n",
      "Name: 7655, dtype: float64\n"
     ]
    }
   ],
   "source": [
    "# Вводим количество объектов в рекомендации\n",
    "k=3\n",
    "# Строим рекомендацию\n",
    "y = model.kneighbors(x, return_distance=False, n_neighbors=k)\n",
    "# Выводим найденные объекты на экран\n",
    "print('Вашему запросу соответствуют следующие объекты недвижимости:')\n",
    "for x in y[0]:\n",
    "    print(\"---------\",x,\"------------\")\n",
    "    print(df.loc[x])"
   ]
  },
  {
   "cell_type": "code",
   "execution_count": null,
   "id": "2a9ebae6",
   "metadata": {},
   "outputs": [],
   "source": []
  }
 ],
 "metadata": {
  "kernelspec": {
   "display_name": "Python 3 (ipykernel)",
   "language": "python",
   "name": "python3"
  },
  "language_info": {
   "codemirror_mode": {
    "name": "ipython",
    "version": 3
   },
   "file_extension": ".py",
   "mimetype": "text/x-python",
   "name": "python",
   "nbconvert_exporter": "python",
   "pygments_lexer": "ipython3",
   "version": "3.9.13"
  }
 },
 "nbformat": 4,
 "nbformat_minor": 5
}
