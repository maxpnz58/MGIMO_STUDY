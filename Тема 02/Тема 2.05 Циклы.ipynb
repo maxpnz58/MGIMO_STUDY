{
 "cells": [
  {
   "cell_type": "markdown",
   "id": "f1578aea",
   "metadata": {},
   "source": [
    "# 2.05 Циклы for\n",
    "\n",
    "Циклы <code>for</code> позволяют выполнять итерации в Python; с помощью цикла можно пройти по набору элементов, которые находятся в *последовательности*, или в любом итерируемом наборе объектов. Объекты, которые мы изучали и по которым можно пройтись в цикле - это строки, списки, кортежи, и даже встроенные итерации для словарей, такие как ключи (keys) и значения (values).\n",
    "\n",
    "Мы уже видели небольшой пример оператора <code>for</code> в предыдущих лекциях, но теперь давайте его формализуем.\n",
    "\n",
    "Общий формат цикла <code>for</code> в Python выглядит так:\n",
    "\n",
    "    for item in object:\n",
    "        команды для выполнения\n",
    "    "
   ]
  },
  {
   "cell_type": "markdown",
   "id": "4a040473",
   "metadata": {},
   "source": [
    "Название переменной item для очередного элемента может быть любым, каким Вы хотите. Так что используйте название, которое имеет смысл и которое будет понятно, когда Вы будете позднее читать этот код. Это название переменной можно использовать внутри цикла, например для выполнения проверок <code>if</code>.\n",
    "\n",
    "Давайте рассмотрим несколько примеров для цикла <code>for</code>, используя различные типы объектов. Мы начнем с простых вещей, и постепенно перейдём к более сложным.\n",
    "\n",
    "## Пример 1\n",
    "Итерации по списку"
   ]
  },
  {
   "cell_type": "code",
   "execution_count": null,
   "id": "0a98d1bb",
   "metadata": {},
   "outputs": [],
   "source": [
    "# Мы узнаем в следующих примерах, как автоматизировать такой вид списка\n",
    "list1 = [1,2,3,4,5,6,7,8,9,10]"
   ]
  },
  {
   "cell_type": "code",
   "execution_count": null,
   "id": "8287481d",
   "metadata": {},
   "outputs": [],
   "source": [
    "for num in list1:\n",
    "    print(num)"
   ]
  },
  {
   "cell_type": "markdown",
   "id": "1f45ccf7",
   "metadata": {},
   "source": [
    "Отлично! Надеюсь, это выглядит разумно. Теперь добавим оператор <code>if</code>, чтобы проверить чётные числа. Для этого сначала рассмотрим остаток от деления.\n",
    "\n",
    "### Остаток от деления\n",
    "Остаток от деления пишется с помощью символа %. Например:"
   ]
  },
  {
   "cell_type": "code",
   "execution_count": null,
   "id": "c07bc3ec",
   "metadata": {},
   "outputs": [],
   "source": [
    "17 % 5"
   ]
  },
  {
   "cell_type": "markdown",
   "id": "d308f5ea",
   "metadata": {},
   "source": [
    "Такой результат получился так: 17 разделить на 5 равно 3, и остаток 2. Рассмотрим еще несколько примеров:"
   ]
  },
  {
   "cell_type": "code",
   "execution_count": null,
   "id": "9a96fc0b",
   "metadata": {},
   "outputs": [],
   "source": [
    "# 10 разделить на 3 равно 3 и остаток 1\n",
    "10 % 3"
   ]
  },
  {
   "cell_type": "code",
   "execution_count": null,
   "id": "fac02822",
   "metadata": {},
   "outputs": [],
   "source": [
    "# 18 разделить на 7 равно 2 и остаток  4\n",
    "18 % 7"
   ]
  },
  {
   "cell_type": "code",
   "execution_count": null,
   "id": "6d551bab",
   "metadata": {},
   "outputs": [],
   "source": [
    "# 4 разделить на 2 равно 2 без остатка (остаток равен 0) \n",
    "4 % 2"
   ]
  },
  {
   "cell_type": "markdown",
   "id": "9e4ecee9",
   "metadata": {},
   "source": [
    "Обратите внимание, что если число делится нацело без остатка, то результат функции % равен 0. Мы можем использовать это для проверки чётных чисел: если остаток от деления на 2 равен 0, то значит число чётное!\n",
    "\n",
    "Вернемся к циклам <code>for</code>!\n",
    "\n",
    "## Пример 2\n",
    "Давайте выведем из списка только чётные числа!"
   ]
  },
  {
   "cell_type": "code",
   "execution_count": null,
   "id": "5cbcf85b",
   "metadata": {},
   "outputs": [],
   "source": [
    "for num in list1:\n",
    "    if num % 2 == 0:\n",
    "        print(num)"
   ]
  },
  {
   "cell_type": "markdown",
   "id": "3d7ff57f",
   "metadata": {},
   "source": [
    "Мы также можем написать оператор <code>else</code>:"
   ]
  },
  {
   "cell_type": "code",
   "execution_count": null,
   "id": "5164c22e",
   "metadata": {},
   "outputs": [],
   "source": [
    "for num in list1:\n",
    "    if num % 2 == 0:\n",
    "        print(num)\n",
    "    else:\n",
    "        print('Нечётное число')"
   ]
  },
  {
   "cell_type": "markdown",
   "id": "269730ff",
   "metadata": {},
   "source": [
    "## Пример 3\n",
    "Еще один распространённый приём для циклов <code>for</code> - это нахождения суммы элементов. Например, давайте напишем цикл <code>for</code> для суммирования элементов списка:"
   ]
  },
  {
   "cell_type": "code",
   "execution_count": null,
   "id": "98449be9",
   "metadata": {},
   "outputs": [],
   "source": [
    "# Начинаем сумму с нуля\n",
    "list_sum = 0 \n",
    "\n",
    "for num in list1:\n",
    "    list_sum = list_sum + num\n",
    "\n",
    "print(list_sum)"
   ]
  },
  {
   "cell_type": "markdown",
   "id": "4f3bc53e",
   "metadata": {},
   "source": [
    "Отлично! Убедитесь, что Вы понимаете, что здесь происходит. Также для этой цели можно использовать оператор <code>+=</code>, чтобы прибавить очередное значение к уже имеющемуся значению. Например:"
   ]
  },
  {
   "cell_type": "code",
   "execution_count": null,
   "id": "58ec3272",
   "metadata": {},
   "outputs": [],
   "source": [
    "# Начинаем сумму с нуля\n",
    "list_sum = 0 \n",
    "\n",
    "for num in list1:\n",
    "    list_sum += num\n",
    "\n",
    "print(list_sum)"
   ]
  },
  {
   "cell_type": "markdown",
   "id": "08274e49",
   "metadata": {},
   "source": [
    "## Пример 4\n",
    "Мы использовали циклы <code>for</code> для списков, а как насчет строк? Помните, строки это последовательности, поэтому когда мы выполняем итерации, то получим каждый символ в строке."
   ]
  },
  {
   "cell_type": "code",
   "execution_count": null,
   "id": "2868e446",
   "metadata": {},
   "outputs": [],
   "source": [
    "for letter in 'This is a string.':\n",
    "    print(letter)"
   ]
  },
  {
   "cell_type": "markdown",
   "id": "e258ca5e",
   "metadata": {},
   "source": [
    "## Пример 5\n",
    "Теперь посмотрим, как пишется цикл <code>for</code> для кортежей (tuple):"
   ]
  },
  {
   "cell_type": "code",
   "execution_count": null,
   "id": "791e1fc6",
   "metadata": {},
   "outputs": [],
   "source": [
    "tup = (1,2,3,4,5)\n",
    "\n",
    "for t in tup:\n",
    "    print(t)"
   ]
  },
  {
   "cell_type": "markdown",
   "id": "ebcca8da",
   "metadata": {},
   "source": [
    "## Пример 6\n",
    "Кортежи имеют особое свойство, когда речь заходит о циклах <code>for</code>. Если Вы выполняете итерации по последовательности, которая содержит кортежи, то выбираемый элемент тоже может быть кортежем. Это пример *распаковки кортежа* (*tuple unpacking*). В цикле <code>for</code> мы можем распаковывать кортежи внутри последовательности, и получать доступ к отдельным элементам внутри кортежа!"
   ]
  },
  {
   "cell_type": "code",
   "execution_count": null,
   "id": "38eecd39",
   "metadata": {},
   "outputs": [],
   "source": [
    "list2 = [(2,4),(6,8),(10,12)]"
   ]
  },
  {
   "cell_type": "code",
   "execution_count": null,
   "id": "1bbbdc90",
   "metadata": {},
   "outputs": [],
   "source": [
    "for tup in list2:\n",
    "    print(tup)"
   ]
  },
  {
   "cell_type": "code",
   "execution_count": null,
   "id": "9915a759",
   "metadata": {},
   "outputs": [],
   "source": [
    "# А теперь с распаковкой!\n",
    "for (t1,t2) in list2:\n",
    "    print(t1)"
   ]
  },
  {
   "cell_type": "markdown",
   "id": "71b0d1e4",
   "metadata": {},
   "source": [
    "Круто! Мы можем получить доступ к элементам внутри кортежей с помощью распаковки! Это важно по той причине, что многие объекты возвращают свои результаты в виде кортежей. Давайте посмотрим на итерации по словарю данных, чтобы рассмотреть это подробнее!"
   ]
  },
  {
   "cell_type": "markdown",
   "id": "ed00c220",
   "metadata": {},
   "source": [
    "## Example 7"
   ]
  },
  {
   "cell_type": "code",
   "execution_count": null,
   "id": "ab1ad982",
   "metadata": {},
   "outputs": [],
   "source": [
    "d = {'k1':1,'k2':2,'k3':3}"
   ]
  },
  {
   "cell_type": "code",
   "execution_count": null,
   "id": "6a14f09d",
   "metadata": {},
   "outputs": [],
   "source": [
    "for item in d:\n",
    "    print(item)"
   ]
  },
  {
   "cell_type": "markdown",
   "id": "1983c489",
   "metadata": {},
   "source": [
    "Обратите внимание, что мы получили только ключи. Как мы можем получить значения? Или получить и ключи, и значения? \n",
    "\n",
    "Для этого рассмотрим три метода для словарей: **.keys()**, **.values()** and **.items()**\n",
    "\n",
    "В Python каждый из этих методов возвращает объект *dictionary view object*. Он поддерживает такие операции, как проверка содержания элемента и итерации, но его содержание не является независимым от основного словаря – это всего лишь предоставление (view). Давайте посмотрим это в действии:"
   ]
  },
  {
   "cell_type": "code",
   "execution_count": null,
   "id": "f5fdd671",
   "metadata": {},
   "outputs": [],
   "source": [
    "# Создаем объект \"dictionary view object\"\n",
    "d.items()"
   ]
  },
  {
   "cell_type": "markdown",
   "id": "e8fe3b86",
   "metadata": {},
   "source": [
    "Поскольку метод .items() поддерживает итерации, мы можем выполнить *распаковку словаря*, чтобы разделить ключи и значения, как мы видели в предыдущих примерах."
   ]
  },
  {
   "cell_type": "code",
   "execution_count": null,
   "id": "6f52b84c",
   "metadata": {},
   "outputs": [],
   "source": [
    "# Распаковка словаря\n",
    "for k,v in d.items():\n",
    "    print(k)\n",
    "    print(v) "
   ]
  },
  {
   "cell_type": "markdown",
   "id": "e74d750b",
   "metadata": {},
   "source": [
    "Если Вы хотите получить сам список ключей, значений, или кортежей ключ/значение, то Вы можете сконвертировать представление в список:"
   ]
  },
  {
   "cell_type": "code",
   "execution_count": null,
   "id": "56d061ed",
   "metadata": {},
   "outputs": [],
   "source": [
    "list(d.keys())"
   ]
  },
  {
   "cell_type": "markdown",
   "id": "32221c1f",
   "metadata": {},
   "source": [
    "Помните, что словари неупорядочены, поэтому ключи и значения возвращаются в любом порядке. Вы можете получить отсортированный список с помощью sorted():"
   ]
  },
  {
   "cell_type": "code",
   "execution_count": null,
   "id": "f2577e04",
   "metadata": {},
   "outputs": [],
   "source": [
    "sorted(d.values())"
   ]
  },
  {
   "cell_type": "markdown",
   "id": "fe5c5684",
   "metadata": {
    "collapsed": true
   },
   "source": [
    "# Циклы while\n",
    "\n",
    "Цикл <code>while</code> в Python - это один из общих способов выполнения итераций. Цикл <code>while</code> будет повторять выполнение команды или набора команд, пока указанное условие равно true. Причина, почему это называется циклом, заключается в том, что операции выполняются снова и снова до тех пор, пока условие не перестанет выполняться.\n",
    "\n",
    "Общий синтаксис цикла while выглядит так:\n",
    "\n",
    "    while test:\n",
    "        code statements\n",
    "    else:\n",
    "        final code statements\n",
    "\n",
    "Давайте посмотрим на несколько примеров цикла <code>while</code>. "
   ]
  },
  {
   "cell_type": "code",
   "execution_count": null,
   "id": "344baa64",
   "metadata": {},
   "outputs": [],
   "source": [
    "x = 0\n",
    "\n",
    "while x < 10:\n",
    "    print('x равен: ',x)\n",
    "    print(' x всё еще меньше 10, добавляем 1 к x')\n",
    "    x+=1"
   ]
  },
  {
   "cell_type": "markdown",
   "id": "014e7373",
   "metadata": {},
   "source": [
    "Обратите внимание, сколько раз была вызвана команда print. Цикл <code>while</code> продолжался до тех пор, пока условие цикла не перестало выполняться - это случилось, когда x стало равным 10. Важно отметить, что как только это случилось, цикл остановился. Посмотрим, как мы могли бы добавить оператор <code>else</code>:"
   ]
  },
  {
   "cell_type": "code",
   "execution_count": null,
   "id": "693d3509",
   "metadata": {},
   "outputs": [],
   "source": [
    "x = 0\n",
    "\n",
    "while x < 10:\n",
    "    print('x равен: ',x)\n",
    "    print(' x всё еще меньше 10, добавляем 1 к x')\n",
    "    x+=1\n",
    "    \n",
    "else:\n",
    "    print('Всё сделано!')"
   ]
  },
  {
   "cell_type": "markdown",
   "id": "a64a616a",
   "metadata": {},
   "source": [
    "# break, continue, pass\n",
    "\n",
    "Также мы можем использовать в циклах операторы <code>break</code>, <code>continue</code> и <code>pass</code> для того, чтобы добавить дополнительную логику. Эти три оператора выполняют следующее:\n",
    "\n",
    "    break: выходит из текущего ближайшего цикла, который содержит эту команду.\n",
    "    continue: переходит к началу ближайшего цикла, который содержит эту команду.\n",
    "    pass: ничего не делает.\n",
    "    \n",
    "    \n",
    "Учитывая операторы <code>break</code> и <code>continue</code>, общий формат цикла <code>while</code> выглядит так:\n",
    "\n",
    "    while test: \n",
    "        code statement\n",
    "        if test: \n",
    "            break\n",
    "        if test: \n",
    "            continue \n",
    "    else:\n",
    "\n",
    "Операторы <code>break</code> и <code>continue</code> могут встречаться в любом месте внутри цикла, но обычно их используют в сочетании с оператором <code>if</code>, чтобы выполнить действие при определенном условии.\n",
    "\n",
    "Давайте рассмотрим несколько примеров!"
   ]
  },
  {
   "cell_type": "code",
   "execution_count": null,
   "id": "c7b959c0",
   "metadata": {},
   "outputs": [],
   "source": [
    "x = 0\n",
    "\n",
    "while x < 10:\n",
    "    print('x равен: ',x)\n",
    "    print(' x всё еще меньше 10, добавляем 1 к x')\n",
    "    x+=1\n",
    "    if x==3:\n",
    "        print('x==3')\n",
    "    else:\n",
    "        print('продолжаем...')\n",
    "        continue\n",
    "else:\n",
    "    print(\"Завершено!\")"
   ]
  },
  {
   "cell_type": "markdown",
   "id": "75bdce56",
   "metadata": {},
   "source": [
    "Обратите внимание, что во время выполнения цикла мы напечатали \"x==3\" когда x равен 3, и напечатали \"продолжаем\" в других случаях. Давайте в случае x ==3 сделаем break и посмотрим на результат:"
   ]
  },
  {
   "cell_type": "code",
   "execution_count": null,
   "id": "9e59e79b",
   "metadata": {},
   "outputs": [],
   "source": [
    "x = 0\n",
    "\n",
    "while x < 10:\n",
    "    print('x равен: ',x)\n",
    "    print(' x всё еще меньше 10, добавляем 1 к x')\n",
    "    x+=1\n",
    "    if x==3:\n",
    "        print('Выходим из цикла (break), потому что x==3')\n",
    "        break\n",
    "    else:\n",
    "        print('продолжаем...')\n",
    "        continue\n",
    "else:\n",
    "    print(\"Завершено!\")"
   ]
  },
  {
   "cell_type": "markdown",
   "id": "60fd1b58",
   "metadata": {},
   "source": [
    "Обратите внимание, что мы не добрались до второго оператора <code>else</code>, и фраза \"Завершено!\" не была распечатана!\n",
    "\n",
    "После рассмотрения этих простых примеров, Вы можете использовать циклы <code>while</code> в Вашем коде.\n",
    "\n",
    "**Одно предостережение! Оператор <code>while</code> может создать бесконечный цикл. Например:**\n",
    "\n",
    "Замечание: Если Вы всё-таки запустили эту ячейку, то перейдите в меню Kernel->Restart и сделайте перезапуск!"
   ]
  },
  {
   "cell_type": "code",
   "execution_count": null,
   "id": "0646ebce",
   "metadata": {},
   "outputs": [],
   "source": [
    "# НЕ ЗАПУСКАЙТЕ ЭТОТ КОД!!!! \n",
    "while True:\n",
    "    print(\"I'm an infinite loop!\")"
   ]
  },
  {
   "cell_type": "markdown",
   "id": "fc7fbd6d",
   "metadata": {},
   "source": [
    "## Задание 1\n",
    "\n",
    "Пусть дан список \n",
    "`lst=[1,2,3,4,5,6,7,8,9,10,11,12,13,14,15,16]`\n",
    "\n",
    "Для этого списка выведите на экран:\n",
    "1. Четные элементы\n",
    "2. Нечетные элементы\n",
    "3. Элементы которые заканчиваются на 3\n",
    "3. Элементы, которые больше заданного числа А"
   ]
  },
  {
   "cell_type": "code",
   "execution_count": null,
   "id": "f02861b5",
   "metadata": {},
   "outputs": [],
   "source": []
  },
  {
   "cell_type": "markdown",
   "id": "cc5968b3",
   "metadata": {},
   "source": [
    "## Задание 2\n",
    "\n",
    "Дано целое число A:\n",
    "1. Найдите сумму его цифр\n",
    "2. Найдите все его делители\n",
    "3. Найдите его цифровой корень"
   ]
  },
  {
   "cell_type": "code",
   "execution_count": null,
   "id": "cd29c2c5",
   "metadata": {},
   "outputs": [],
   "source": []
  }
 ],
 "metadata": {
  "kernelspec": {
   "display_name": "Python 3 (ipykernel)",
   "language": "python",
   "name": "python3"
  },
  "language_info": {
   "codemirror_mode": {
    "name": "ipython",
    "version": 3
   },
   "file_extension": ".py",
   "mimetype": "text/x-python",
   "name": "python",
   "nbconvert_exporter": "python",
   "pygments_lexer": "ipython3",
   "version": "3.9.13"
  }
 },
 "nbformat": 4,
 "nbformat_minor": 5
}
