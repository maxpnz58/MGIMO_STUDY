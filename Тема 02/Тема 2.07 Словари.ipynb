{
 "cells": [
  {
   "cell_type": "markdown",
   "id": "03e811ea",
   "metadata": {},
   "source": [
    "# 2.07 Словарь (Dictionaries)\n",
    "\n",
    "Если раньше мы говорили о последовательностях (*sequences*) в Python, то теперь давайте поговорим о маппингах (*mappings*) в Python. Если Вы знакомы с другими языками программирования, то словари можно представить себе как хэш-таблицы. \n",
    "\n",
    "Эта лекция служит введением в словари, и состоит из следующих тем:\n",
    "\n",
    "    1) Создание словаря\n",
    "    2) Доступ к объектам в словаре\n",
    "    3) Вложенные словари\n",
    "    4) Основные методы для словарей\n",
    "\n",
    "Что такое маппинги? Маппинги - это набор объектов, которые можно получить по ключу (*key*). Это отличается от последовательностей, где объекты хранятся в определенном порядке относительно друг друга. Это важное отличие, потому что маппинги не имеют порядка элементов. В маппингах элементы определены с помощью ключей.\n",
    "\n",
    "Словарь в Python состоит из ключа и связанного с ним значения. Значение может быть практически любым объектом Python.\n",
    "\n",
    "\n",
    "## Создание словаря\n",
    "Давайте посмотрим, как можно создавать словари."
   ]
  },
  {
   "cell_type": "code",
   "execution_count": null,
   "id": "bb41161f",
   "metadata": {},
   "outputs": [],
   "source": [
    "# Словари создаются с помощью {} и : , чтобы указать ключи и значения\n",
    "my_dict = {'key1':'value1','key2':'value2'}"
   ]
  },
  {
   "cell_type": "code",
   "execution_count": null,
   "id": "83c411da",
   "metadata": {},
   "outputs": [],
   "source": [
    "# Получаем значение по его ключу\n",
    "my_dict['key2']"
   ]
  },
  {
   "cell_type": "markdown",
   "id": "2fba962f",
   "metadata": {},
   "source": [
    "Словари очень гибки в отношении того, какие типы данных они могут хранить. Например:"
   ]
  },
  {
   "cell_type": "code",
   "execution_count": null,
   "id": "b04d925e",
   "metadata": {},
   "outputs": [],
   "source": [
    "my_dict = {'key1':123,'key2':[12,23,33],'key3':['item0','item1','item2']}"
   ]
  },
  {
   "cell_type": "code",
   "execution_count": null,
   "id": "e6dca033",
   "metadata": {},
   "outputs": [],
   "source": [
    "# Возьмём из словаря элементы items\n",
    "my_dict['key3']"
   ]
  },
  {
   "cell_type": "code",
   "execution_count": null,
   "id": "e7af6103",
   "metadata": {},
   "outputs": [],
   "source": [
    "# Здесь можно использовать индекс для этого значения\n",
    "my_dict['key3'][0]"
   ]
  },
  {
   "cell_type": "code",
   "execution_count": null,
   "id": "a600ae1a",
   "metadata": {},
   "outputs": [],
   "source": [
    "# И далее мы даже можем использовать методы для этого значения\n",
    "my_dict['key3'][0].upper()"
   ]
  },
  {
   "cell_type": "markdown",
   "id": "ef58627b",
   "metadata": {},
   "source": [
    "Также мы можем менять значения ключа. Например:"
   ]
  },
  {
   "cell_type": "code",
   "execution_count": null,
   "id": "956e9545",
   "metadata": {},
   "outputs": [],
   "source": [
    "my_dict['key1']"
   ]
  },
  {
   "cell_type": "code",
   "execution_count": null,
   "id": "55d243f5",
   "metadata": {},
   "outputs": [],
   "source": [
    "# Вычитаем 123 из значения\n",
    "my_dict['key1'] = my_dict['key1'] - 123"
   ]
  },
  {
   "cell_type": "code",
   "execution_count": null,
   "id": "638d05f0",
   "metadata": {},
   "outputs": [],
   "source": [
    "# Провека\n",
    "my_dict['key1']"
   ]
  },
  {
   "cell_type": "markdown",
   "id": "2c1135c9",
   "metadata": {},
   "source": [
    "Небольшое замечание: Python содержит встроенные методы для сложения (прибавления), вычитания, умножения и деления. В примере выше можно было использовать += или -=. Например:"
   ]
  },
  {
   "cell_type": "code",
   "execution_count": null,
   "id": "4e219c58",
   "metadata": {},
   "outputs": [],
   "source": [
    "# Присвоить объект равным его текущему значению минус 123 \n",
    "my_dict['key1'] -= 123\n",
    "my_dict['key1']"
   ]
  },
  {
   "cell_type": "markdown",
   "id": "238ecec7",
   "metadata": {},
   "source": [
    "Мы также можем создавать ключи, присваивая значения. Например, мы можем создать пустой словарь, и затем постепенно добавлять в него элементы:"
   ]
  },
  {
   "cell_type": "code",
   "execution_count": null,
   "id": "0632b469",
   "metadata": {},
   "outputs": [],
   "source": [
    "# Создаем новый словарь\n",
    "d = {}"
   ]
  },
  {
   "cell_type": "code",
   "execution_count": null,
   "id": "66b2dc37",
   "metadata": {},
   "outputs": [],
   "source": [
    "# Создаем новый ключ, присваивая ему значение\n",
    "d['animal'] = 'Dog'"
   ]
  },
  {
   "cell_type": "code",
   "execution_count": null,
   "id": "968b7cab",
   "metadata": {},
   "outputs": [],
   "source": [
    "# Мы можем сделать это для любого объекта\n",
    "d['answer'] = 42"
   ]
  },
  {
   "cell_type": "code",
   "execution_count": null,
   "id": "0c0c636a",
   "metadata": {},
   "outputs": [],
   "source": [
    "# Проверка\n",
    "d"
   ]
  },
  {
   "cell_type": "markdown",
   "id": "899e1e49",
   "metadata": {},
   "source": [
    "## Вложенные словари\n",
    "\n",
    "Надеюсь, что Вы уже начинаете видеть, насколько Python мощный и гибкий в плане вложенности объектов и запуска методов. Давайте рассмотрим словарь внутри словаря:"
   ]
  },
  {
   "cell_type": "code",
   "execution_count": null,
   "id": "1c06c237",
   "metadata": {},
   "outputs": [],
   "source": [
    "# Словарь внутри словаря внутри словаря\n",
    "d = {'key1':{'nestkey':{'subnestkey':'value'}}}"
   ]
  },
  {
   "cell_type": "markdown",
   "id": "6173a0ff",
   "metadata": {},
   "source": [
    "Вау! Вот это вложенность словарей! Давайте посмотрим, как добраться до значения 'value':"
   ]
  },
  {
   "cell_type": "code",
   "execution_count": null,
   "id": "55f9c854",
   "metadata": {},
   "outputs": [],
   "source": [
    "# Последовательно указываем ключи\n",
    "d['key1']['nestkey']['subnestkey']"
   ]
  },
  {
   "cell_type": "markdown",
   "id": "32ae4843",
   "metadata": {},
   "source": [
    "## Некоторые методы для словарей\n",
    "\n",
    "Для словарей можно вызывать различные методы. Вот некоторые из них:"
   ]
  },
  {
   "cell_type": "code",
   "execution_count": null,
   "id": "63e0d911",
   "metadata": {},
   "outputs": [],
   "source": [
    "# Создаем обычный словарь\n",
    "d = {'key1':1,'key2':2,'key3':3}"
   ]
  },
  {
   "cell_type": "code",
   "execution_count": null,
   "id": "fa98d666",
   "metadata": {},
   "outputs": [],
   "source": [
    "# Метод, который возвращает список всех ключей\n",
    "d.keys()"
   ]
  },
  {
   "cell_type": "code",
   "execution_count": null,
   "id": "762ebc8d",
   "metadata": {},
   "outputs": [],
   "source": [
    "# Метод, возвращающий все значения\n",
    "d.values()"
   ]
  },
  {
   "cell_type": "code",
   "execution_count": null,
   "id": "8f3f1311",
   "metadata": {
    "scrolled": true
   },
   "outputs": [],
   "source": [
    "# Метод, возвращающий кортежи (tuples) для всех элементов  (мы рассмотрим кортежи tuples чуть позже)\n",
    "d.items()"
   ]
  },
  {
   "cell_type": "markdown",
   "id": "06421a3a",
   "metadata": {},
   "source": [
    "Теперь Вы знаете, как создавать словари. По ним ещё есть что сказать, и мы вернемся к словарям позднее в этом курсе. После этой лекции главное, что Вы должны уметь, это создавать словари и извлекать значения из них."
   ]
  },
  {
   "cell_type": "code",
   "execution_count": null,
   "id": "83681fae",
   "metadata": {},
   "outputs": [],
   "source": []
  },
  {
   "cell_type": "markdown",
   "id": "9816ea42",
   "metadata": {},
   "source": [
    "## Словари (Dictionaries)"
   ]
  },
  {
   "cell_type": "markdown",
   "id": "63689704",
   "metadata": {},
   "source": [
    "Используя ключи и индексирование, прочитайте 'hello' из следующих словарей:"
   ]
  },
  {
   "cell_type": "code",
   "execution_count": null,
   "id": "2b1a4e5c",
   "metadata": {},
   "outputs": [],
   "source": [
    "d = {'simple_key':'hello'}\n",
    "# прочитайте 'hello'\n"
   ]
  },
  {
   "cell_type": "code",
   "execution_count": null,
   "id": "d9dd6531",
   "metadata": {},
   "outputs": [],
   "source": [
    "d = {'k1':{'k2':'hello'}}\n",
    "# прочитайте 'hello'\n"
   ]
  },
  {
   "cell_type": "code",
   "execution_count": null,
   "id": "f670b274",
   "metadata": {},
   "outputs": [],
   "source": [
    "# Здесь немного сложнее\n",
    "d = {'k1':[{'nest_key':['this is deep',['hello']]}]}\n",
    "\n",
    "# прочитайте hello\n"
   ]
  },
  {
   "cell_type": "code",
   "execution_count": null,
   "id": "84521255",
   "metadata": {},
   "outputs": [],
   "source": [
    "# Здесь еще немного сложнее\n",
    "d = {'k1':[1,2,{'k2':['this is tricky',{'tough':[1,2,['hello']]}]}]}\n",
    "\n",
    "# прочитайте hello"
   ]
  },
  {
   "cell_type": "markdown",
   "id": "36299e7a",
   "metadata": {},
   "source": [
    "Можно ли отсортировать словарь? Почему (или почему нет)?<br><br>"
   ]
  },
  {
   "cell_type": "code",
   "execution_count": null,
   "id": "a55f1741",
   "metadata": {},
   "outputs": [],
   "source": []
  }
 ],
 "metadata": {
  "kernelspec": {
   "display_name": "Python 3 (ipykernel)",
   "language": "python",
   "name": "python3"
  },
  "language_info": {
   "codemirror_mode": {
    "name": "ipython",
    "version": 3
   },
   "file_extension": ".py",
   "mimetype": "text/x-python",
   "name": "python",
   "nbconvert_exporter": "python",
   "pygments_lexer": "ipython3",
   "version": "3.9.13"
  }
 },
 "nbformat": 4,
 "nbformat_minor": 5
}
