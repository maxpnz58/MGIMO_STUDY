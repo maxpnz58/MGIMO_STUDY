{
 "cells": [
  {
   "cell_type": "markdown",
   "id": "8f85e9d3",
   "metadata": {},
   "source": [
    "# 2.03 Ввод данных. input()"
   ]
  },
  {
   "cell_type": "markdown",
   "id": "cc58dfa3",
   "metadata": {},
   "source": [
    "Познакомимся с функцией input() - ввод. Это функция позволяет нам просить\n",
    "пользователя что-нибудь ввести или принять на ввод какие-то данные."
   ]
  },
  {
   "cell_type": "code",
   "execution_count": null,
   "id": "3698fa45",
   "metadata": {
    "scrolled": true
   },
   "outputs": [],
   "source": [
    "x = input('Как вас зовут?')\n",
    "print(x)"
   ]
  },
  {
   "cell_type": "markdown",
   "id": "2e60102b",
   "metadata": {},
   "source": [
    "'Как вас зовут?' - аргумент функции input(), который будет отображаться в строке ввода. Он необязателен, но он может быть полезен для вас (особенно, если в задаче требуется ввести больше одной строки данных и нужно не запутаться).\n",
    "\n",
    "Обратите внимание, что функция  input() все сохраняет в строковом формате данных. Но мы можем сделать из\n",
    "числа-строки число-число с помощью функции int(). Введите \"1\" в обоих случаях и сравните результат."
   ]
  },
  {
   "cell_type": "code",
   "execution_count": null,
   "id": "450ca3c0",
   "metadata": {},
   "outputs": [],
   "source": [
    "print(type(input()))\n",
    "print(type(int(input())))"
   ]
  },
  {
   "cell_type": "markdown",
   "id": "d6194b8e",
   "metadata": {},
   "source": [
    "Нужно следить за тем, какие данные вы считываете и менять их при необходимости. Сравните два примере ниже."
   ]
  },
  {
   "cell_type": "code",
   "execution_count": null,
   "id": "0888dc6c",
   "metadata": {},
   "outputs": [],
   "source": [
    "x = input('Input x value: ')\n",
    "y = input('Input y value: ')\n",
    "print(x + y) # произошла склейка строк, по умолчанию input() сохраняет значение типа str"
   ]
  },
  {
   "cell_type": "code",
   "execution_count": null,
   "id": "9a993185",
   "metadata": {},
   "outputs": [],
   "source": [
    "x = int(input('Input x value: '))\n",
    "y = int(input('Input y value: '))\n",
    "print(x + y) # вот теперь произошло сложение чисел"
   ]
  },
  {
   "cell_type": "markdown",
   "id": "2a001194",
   "metadata": {},
   "source": [
    "## Задача 1. Pig Latin 1\n",
    "\n",
    "Pig Latin - вымышленный язык, который в конец каждого слова подставляет 'ус' (на самом деле оригинальные условия задачи несколько хитрее).\n",
    "\n",
    "**Формат ввода**  \n",
    "Пользователь вводит слова.\n",
    "\n",
    "**Формат вывода**\n",
    "Слово на Pig Latin.\n",
    "\n",
    "\n",
    "#### Примеры\n",
    "Тест 1  \n",
    "**Ввод:**  \n",
    "паровоз\n",
    "\n",
    "**Вывод:**  \n",
    "паровозус"
   ]
  },
  {
   "cell_type": "code",
   "execution_count": null,
   "id": "f3e532fa",
   "metadata": {},
   "outputs": [],
   "source": [
    "word = input('Введите слово: ')\n",
    "print(word+'ус')"
   ]
  },
  {
   "cell_type": "markdown",
   "id": "ea45a103",
   "metadata": {},
   "source": [
    "## Задача 2. Как перевести градусы Цельсия в градусы Фаренгейта\n",
    "Чтобы при помощи Python перевести градусы Цельсия в градусы Фаренгейта (или наоборот), необходимо реализовать в коде следующие формулы:\n",
    "\n",
    "Градусы Цельсия в градусы Фаренгейта:\n",
    "F = 1.8 x C + 32\n",
    "\n",
    "Градусы Фаренгейта в градусы Цельсия:\n",
    "C = (F - 32) / 1.8"
   ]
  },
  {
   "cell_type": "code",
   "execution_count": null,
   "id": "a8045be4",
   "metadata": {},
   "outputs": [],
   "source": [
    "# Запросить пользовательский ввод (температуру в градусах Цельсия)\n",
    "c = float(input(\"Give me a temperature in celcius: \"))\n",
    "# Преобразовать значение, введенное пользователем, в градусы Фаренгейта\n",
    "f = 1.8 * c + 32\n",
    "# Вывести результат\n",
    "print(\"The temperature is \",f,\" in fahrenheit\")"
   ]
  },
  {
   "cell_type": "code",
   "execution_count": null,
   "id": "aeea655a",
   "metadata": {},
   "outputs": [],
   "source": [
    "# Здесь напишите программу для преобразования градусов Фаренгейта в градусы Цельсия\n"
   ]
  },
  {
   "cell_type": "markdown",
   "id": "8f28db59",
   "metadata": {},
   "source": [
    "## Импорт модулей\n",
    "По мере количества строк вашего кода будет не лишним начинать пользоваться модулями. \n",
    "\n",
    "Модуль — это файл, содержащий функции и операторы. У всех модулей в Python есть имя, которое заканчивается расширением .py.\n",
    "\n",
    "Операторы внутри модуля могут быть импортированы в другой модуль или в интерпретатор Python. Для этого мы используем ключевое слово import.\n",
    "\n",
    "Например, мы можем импортировать модуль math. Делается это следующим образом:\n",
    "\n",
    "`import math`"
   ]
  },
  {
   "cell_type": "code",
   "execution_count": null,
   "id": "abba2114",
   "metadata": {},
   "outputs": [],
   "source": [
    "import math\n",
    "print(math.pi)"
   ]
  },
  {
   "cell_type": "markdown",
   "id": "0a0506bf",
   "metadata": {},
   "source": [
    "## Модуль random\n",
    "Модуль random позволяет генерировать случайные числа. Прежде чем использовать модуль, необходимо подключить его\n",
    "\n",
    "`import random`"
   ]
  },
  {
   "cell_type": "markdown",
   "id": "cf95f26e",
   "metadata": {},
   "source": [
    "## randint \n",
    "\n",
    "Функция randint(a, b) получает на вход два целых числа и возвращает случайное значение из диапазона [a,b]    (a и b входят в этот диапазон).\n"
   ]
  },
  {
   "cell_type": "code",
   "execution_count": null,
   "id": "15d2a919",
   "metadata": {},
   "outputs": [],
   "source": [
    "import random\n",
    "\n",
    "random_number = random.randint(0, 125)\n",
    "print(random_number)"
   ]
  },
  {
   "cell_type": "markdown",
   "id": "984611ba",
   "metadata": {},
   "source": [
    "## randrange \n",
    "\n",
    "В функцию randrange(start, stop[, step]) передают три целых числа:\n",
    "\n",
    "start\n",
    " – начало диапазона (входит в последовательность);\n",
    " \n",
    "stop\n",
    " – конец диапазона (в последовательность не входит);\n",
    "\n",
    "step\n",
    " – шаг генерации (если на его месте написать 0, получим ошибку \"ValueError\").\n",
    "\n",
    "На выходе функция выдает случайное число в заданном диапазоне"
   ]
  },
  {
   "cell_type": "code",
   "execution_count": null,
   "id": "903cde2b",
   "metadata": {},
   "outputs": [],
   "source": [
    "import random\n",
    "\n",
    "random_number = random.randrange(1, 100, 2)\n",
    "print(random_number)"
   ]
  },
  {
   "cell_type": "markdown",
   "id": "9c2e9ce0",
   "metadata": {},
   "source": [
    "## random \n",
    "\n",
    "Функция  random()  выдает вещественные числа, в диапазоне [0.0, 1.0)\n",
    "\n",
    " (включая 0.0, но не включая 1.0)."
   ]
  },
  {
   "cell_type": "code",
   "execution_count": null,
   "id": "2b716608",
   "metadata": {},
   "outputs": [],
   "source": [
    "import random\n",
    "\n",
    "random_number = random.random()\n",
    "print(random_number)"
   ]
  },
  {
   "cell_type": "markdown",
   "id": "8d4f5f10",
   "metadata": {},
   "source": [
    "## Задача 3. Как перевести случайные градусы Цельсия в градусы Фаренгейта.\n",
    "\n",
    "Сделайте снова перевод градусов Цельсия в Фаренгейт, только теперь не запрашивайте градусы с клавиатуры, а сгенерируйте случайно в диапазоне [-50, 42]"
   ]
  },
  {
   "cell_type": "code",
   "execution_count": null,
   "id": "39f06ca3",
   "metadata": {},
   "outputs": [],
   "source": []
  },
  {
   "cell_type": "markdown",
   "id": "06be6026",
   "metadata": {
    "id": "znJt3O_Qw7iU"
   },
   "source": [
    "# Задание 1\n",
    "\n",
    "Карандаш стоит X рублей за штуку. Покупатель дал кассиру Y рублей и хочет купить 8 карандашей. Какую сдачу он должен получить? Ответ дайте в рублях. (X и Y запросить у пользователя)\n"
   ]
  },
  {
   "cell_type": "code",
   "execution_count": null,
   "id": "287d09ee",
   "metadata": {
    "id": "9l0cDUqrz6zt"
   },
   "outputs": [],
   "source": []
  },
  {
   "cell_type": "markdown",
   "id": "fbba2f6b",
   "metadata": {
    "id": "zY4uh9scz7SE"
   },
   "source": [
    "# Задание 3\n",
    "\n",
    "Ребенок в день съедает X творожка. Творожок продается в упаковках по Y штук. Какое наименьшее число упаковок надо купить, чтобы ребенку хватило на две недели?  (X и Y запросить у пользователя)"
   ]
  },
  {
   "cell_type": "code",
   "execution_count": null,
   "id": "b6861407",
   "metadata": {
    "id": "AwZoZRdG0Biv"
   },
   "outputs": [],
   "source": []
  },
  {
   "cell_type": "markdown",
   "id": "259d0e60",
   "metadata": {
    "id": "AdFd5gbK0CeE"
   },
   "source": [
    "# Задание 4\n",
    "\n",
    "Килограмм картошки стоит Х рублей. У Олега есть 1000 р, из этой суммы он 640 р должен положить на телефон, а на остальные деньги он купил картошку. Сколько килограмм купил Олег, если он получил сдачу Y рублей?\n",
    " (X и Y запросить у пользователя)"
   ]
  },
  {
   "cell_type": "code",
   "execution_count": null,
   "id": "8f9fa034",
   "metadata": {
    "id": "23ot9WQT0Jc_"
   },
   "outputs": [],
   "source": []
  }
 ],
 "metadata": {
  "kernelspec": {
   "display_name": "Python 3 (ipykernel)",
   "language": "python",
   "name": "python3"
  },
  "language_info": {
   "codemirror_mode": {
    "name": "ipython",
    "version": 3
   },
   "file_extension": ".py",
   "mimetype": "text/x-python",
   "name": "python",
   "nbconvert_exporter": "python",
   "pygments_lexer": "ipython3",
   "version": "3.9.13"
  }
 },
 "nbformat": 4,
 "nbformat_minor": 5
}
