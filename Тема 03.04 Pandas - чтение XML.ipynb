{
 "cells": [
  {
   "cell_type": "markdown",
   "id": "aed908cd",
   "metadata": {},
   "source": [
    "## Чтение XML - read_xml"
   ]
  },
  {
   "cell_type": "code",
   "execution_count": 3,
   "id": "eb20611f",
   "metadata": {},
   "outputs": [],
   "source": [
    "import pandas as pd"
   ]
  },
  {
   "cell_type": "markdown",
   "id": "a718f367",
   "metadata": {},
   "source": [
    "Функция read_xml() верхнего уровня может принимать строку/файл/URL XML и анализировать узлы и атрибуты в pandas DataFrame .\n",
    "\n",
    "Поскольку не существует стандартной структуры XML, в которой типы дизайна могут различаться во многих отношениях, read_xml лучше всего работает с более плоскими и мелкими версиями. Если документ XML имеет глубокую вложенность, используйте функцию stylesheet для преобразования XML в более простую версию."
   ]
  },
  {
   "cell_type": "markdown",
   "id": "847914b2",
   "metadata": {},
   "source": [
    "```\n",
    "<?xml version=\"1.0\" encoding=\"UTF-8\"?>\n",
    "<!-- bookstore.xml -->\n",
    "<bookstore>\n",
    "  <book ISBN=\"0123456001\">\n",
    "    <title>Java For Dummies</title>\n",
    "    <author>Tan Ah Teck</author>\n",
    "    <category>Programming</category>\n",
    "    <year>2009</year>\n",
    "    <edition>7</edition>\n",
    "    <price>19.99</price>\n",
    "  </book>\n",
    "  <book ISBN=\"0123456002\">\n",
    "    <title>More Java For Dummies</title>\n",
    "    <author>Tan Ah Teck</author>\n",
    "    <category>Programming</category>\n",
    "    <year>2008</year>\n",
    "    <price>25.99</price>\n",
    "  </book>\n",
    "  <book ISBN=\"0123456010\">\n",
    "    <title>The Complete Guide to Fishing</title>\n",
    "    <author>Bill Jones</author>\n",
    "    <author>James Cook</author>\n",
    "    <author>Mary Turing</author>\n",
    "    <category>Fishing</category>\n",
    "    <category>Leisure</category>\n",
    "    <language>French</language>\n",
    "    <year>2000</year>\n",
    "    <edition>2</edition>\n",
    "    <price>49.99</price>\n",
    "  </book>\n",
    "</bookstore>\n",
    "```"
   ]
  },
  {
   "cell_type": "code",
   "execution_count": 15,
   "id": "5b3ded1f",
   "metadata": {},
   "outputs": [],
   "source": [
    "data = pd.read_xml(\"https://raw.githubusercontent.com/yakushinav/omo/main/data/test.xml\")"
   ]
  },
  {
   "cell_type": "code",
   "execution_count": 16,
   "id": "77ce760a",
   "metadata": {
    "scrolled": false
   },
   "outputs": [
    {
     "name": "stdout",
     "output_type": "stream",
     "text": [
      "        ISBN                          title       author     category  year  \\\n",
      "0  123456001               Java For Dummies  Tan Ah Teck  Programming  2009   \n",
      "1  123456002          More Java For Dummies  Tan Ah Teck  Programming  2008   \n",
      "2  123456010  The Complete Guide to Fishing  Mary Turing      Leisure  2000   \n",
      "\n",
      "   edition  price language  \n",
      "0      7.0  19.99     None  \n",
      "1      NaN  25.99     None  \n",
      "2      2.0  49.99   French  \n"
     ]
    }
   ],
   "source": [
    "print(data)"
   ]
  },
  {
   "cell_type": "code",
   "execution_count": 17,
   "id": "64376c6b",
   "metadata": {
    "colab": {
     "base_uri": "https://localhost:8080/"
    },
    "id": "Wjo9znGHY4nz",
    "outputId": "53944c7c-03f3-43bc-957d-f93bb2d15f0b"
   },
   "outputs": [
    {
     "data": {
      "text/plain": [
       "Index(['ISBN', 'title', 'author', 'category', 'year', 'edition', 'price',\n",
       "       'language'],\n",
       "      dtype='object')"
      ]
     },
     "execution_count": 17,
     "metadata": {},
     "output_type": "execute_result"
    }
   ],
   "source": [
    "# The resulting \"separated\" tables are stored as table_name: dataframe pairs.\n",
    " \n",
    "data.keys()"
   ]
  },
  {
   "cell_type": "code",
   "execution_count": 18,
   "id": "43b405c2",
   "metadata": {
    "colab": {
     "base_uri": "https://localhost:8080/",
     "height": 206
    },
    "id": "zR5qBiLQZLzH",
    "outputId": "28fbeeae-f373-4d44-a23a-0e85795814d0"
   },
   "outputs": [
    {
     "data": {
      "text/plain": [
       "0    Tan Ah Teck\n",
       "1    Tan Ah Teck\n",
       "2    Mary Turing\n",
       "Name: author, dtype: object"
      ]
     },
     "execution_count": 18,
     "metadata": {},
     "output_type": "execute_result"
    }
   ],
   "source": [
    "data['author']"
   ]
  },
  {
   "cell_type": "code",
   "execution_count": 19,
   "id": "cfec8a33",
   "metadata": {
    "colab": {
     "base_uri": "https://localhost:8080/",
     "height": 174
    },
    "id": "RbWEavpZZQF_",
    "outputId": "1e43ba1e-6fd8-4ceb-c0d1-ca82521270b7"
   },
   "outputs": [
    {
     "data": {
      "text/plain": [
       "0    Programming\n",
       "1    Programming\n",
       "2        Leisure\n",
       "Name: category, dtype: object"
      ]
     },
     "execution_count": 19,
     "metadata": {},
     "output_type": "execute_result"
    }
   ],
   "source": [
    "data['category']"
   ]
  },
  {
   "cell_type": "code",
   "execution_count": 21,
   "id": "909c1bae",
   "metadata": {
    "colab": {
     "base_uri": "https://localhost:8080/",
     "height": 267
    },
    "id": "fcVZ-MBibQUX",
    "outputId": "ada3d494-a280-418d-8499-bbe106a6d014",
    "scrolled": true
   },
   "outputs": [
    {
     "data": {
      "text/plain": [
       "0    123456001\n",
       "1    123456002\n",
       "2    123456010\n",
       "Name: ISBN, dtype: int64"
      ]
     },
     "execution_count": 21,
     "metadata": {},
     "output_type": "execute_result"
    }
   ],
   "source": [
    "data['ISBN']"
   ]
  },
  {
   "cell_type": "markdown",
   "id": "3d34688e",
   "metadata": {},
   "source": [
    "## Настройки чтения XML"
   ]
  },
  {
   "cell_type": "code",
   "execution_count": 23,
   "id": "20c9224a",
   "metadata": {},
   "outputs": [
    {
     "data": {
      "text/html": [
       "<div>\n",
       "<style scoped>\n",
       "    .dataframe tbody tr th:only-of-type {\n",
       "        vertical-align: middle;\n",
       "    }\n",
       "\n",
       "    .dataframe tbody tr th {\n",
       "        vertical-align: top;\n",
       "    }\n",
       "\n",
       "    .dataframe thead th {\n",
       "        text-align: right;\n",
       "    }\n",
       "</style>\n",
       "<table border=\"1\" class=\"dataframe\">\n",
       "  <thead>\n",
       "    <tr style=\"text-align: right;\">\n",
       "      <th></th>\n",
       "      <th>title</th>\n",
       "      <th>author</th>\n",
       "      <th>category</th>\n",
       "      <th>year</th>\n",
       "      <th>edition</th>\n",
       "      <th>price</th>\n",
       "      <th>language</th>\n",
       "    </tr>\n",
       "  </thead>\n",
       "  <tbody>\n",
       "    <tr>\n",
       "      <th>0</th>\n",
       "      <td>Java For Dummies</td>\n",
       "      <td>Tan Ah Teck</td>\n",
       "      <td>Programming</td>\n",
       "      <td>2009</td>\n",
       "      <td>7.0</td>\n",
       "      <td>19.99</td>\n",
       "      <td>None</td>\n",
       "    </tr>\n",
       "    <tr>\n",
       "      <th>1</th>\n",
       "      <td>More Java For Dummies</td>\n",
       "      <td>Tan Ah Teck</td>\n",
       "      <td>Programming</td>\n",
       "      <td>2008</td>\n",
       "      <td>NaN</td>\n",
       "      <td>25.99</td>\n",
       "      <td>None</td>\n",
       "    </tr>\n",
       "    <tr>\n",
       "      <th>2</th>\n",
       "      <td>The Complete Guide to Fishing</td>\n",
       "      <td>Mary Turing</td>\n",
       "      <td>Leisure</td>\n",
       "      <td>2000</td>\n",
       "      <td>2.0</td>\n",
       "      <td>49.99</td>\n",
       "      <td>French</td>\n",
       "    </tr>\n",
       "  </tbody>\n",
       "</table>\n",
       "</div>"
      ],
      "text/plain": [
       "                           title       author     category  year  edition  \\\n",
       "0               Java For Dummies  Tan Ah Teck  Programming  2009      7.0   \n",
       "1          More Java For Dummies  Tan Ah Teck  Programming  2008      NaN   \n",
       "2  The Complete Guide to Fishing  Mary Turing      Leisure  2000      2.0   \n",
       "\n",
       "   price language  \n",
       "0  19.99     None  \n",
       "1  25.99     None  \n",
       "2  49.99   French  "
      ]
     },
     "execution_count": 23,
     "metadata": {},
     "output_type": "execute_result"
    }
   ],
   "source": [
    "#Укажите только элементы или только атрибуты для анализа:\n",
    "data = pd.read_xml(\"https://raw.githubusercontent.com/yakushinav/omo/main/data/test.xml\",elems_only=True)\n",
    "data"
   ]
  },
  {
   "cell_type": "code",
   "execution_count": 24,
   "id": "ee415952",
   "metadata": {},
   "outputs": [
    {
     "data": {
      "text/html": [
       "<div>\n",
       "<style scoped>\n",
       "    .dataframe tbody tr th:only-of-type {\n",
       "        vertical-align: middle;\n",
       "    }\n",
       "\n",
       "    .dataframe tbody tr th {\n",
       "        vertical-align: top;\n",
       "    }\n",
       "\n",
       "    .dataframe thead th {\n",
       "        text-align: right;\n",
       "    }\n",
       "</style>\n",
       "<table border=\"1\" class=\"dataframe\">\n",
       "  <thead>\n",
       "    <tr style=\"text-align: right;\">\n",
       "      <th></th>\n",
       "      <th>ISBN</th>\n",
       "    </tr>\n",
       "  </thead>\n",
       "  <tbody>\n",
       "    <tr>\n",
       "      <th>0</th>\n",
       "      <td>123456001</td>\n",
       "    </tr>\n",
       "    <tr>\n",
       "      <th>1</th>\n",
       "      <td>123456002</td>\n",
       "    </tr>\n",
       "    <tr>\n",
       "      <th>2</th>\n",
       "      <td>123456010</td>\n",
       "    </tr>\n",
       "  </tbody>\n",
       "</table>\n",
       "</div>"
      ],
      "text/plain": [
       "        ISBN\n",
       "0  123456001\n",
       "1  123456002\n",
       "2  123456010"
      ]
     },
     "execution_count": 24,
     "metadata": {},
     "output_type": "execute_result"
    }
   ],
   "source": [
    "#Укажите только элементы или только атрибуты для анализа:\n",
    "data = pd.read_xml(\"https://raw.githubusercontent.com/yakushinav/omo/main/data/test.xml\",attrs_only=True)\n",
    "data"
   ]
  },
  {
   "cell_type": "code",
   "execution_count": 25,
   "id": "b1ba60bf",
   "metadata": {},
   "outputs": [
    {
     "data": {
      "text/html": [
       "<div>\n",
       "<style scoped>\n",
       "    .dataframe tbody tr th:only-of-type {\n",
       "        vertical-align: middle;\n",
       "    }\n",
       "\n",
       "    .dataframe tbody tr th {\n",
       "        vertical-align: top;\n",
       "    }\n",
       "\n",
       "    .dataframe thead th {\n",
       "        text-align: right;\n",
       "    }\n",
       "</style>\n",
       "<table border=\"1\" class=\"dataframe\">\n",
       "  <thead>\n",
       "    <tr style=\"text-align: right;\">\n",
       "      <th></th>\n",
       "      <th>ISBN</th>\n",
       "      <th>title</th>\n",
       "      <th>author</th>\n",
       "      <th>category</th>\n",
       "      <th>year</th>\n",
       "      <th>edition</th>\n",
       "      <th>price</th>\n",
       "    </tr>\n",
       "  </thead>\n",
       "  <tbody>\n",
       "    <tr>\n",
       "      <th>0</th>\n",
       "      <td>123456001</td>\n",
       "      <td>Java For Dummies</td>\n",
       "      <td>Tan Ah Teck</td>\n",
       "      <td>Programming</td>\n",
       "      <td>2009</td>\n",
       "      <td>7</td>\n",
       "      <td>19.99</td>\n",
       "    </tr>\n",
       "  </tbody>\n",
       "</table>\n",
       "</div>"
      ],
      "text/plain": [
       "        ISBN             title       author     category  year  edition  price\n",
       "0  123456001  Java For Dummies  Tan Ah Teck  Programming  2009        7  19.99"
      ]
     },
     "execution_count": 25,
     "metadata": {},
     "output_type": "execute_result"
    }
   ],
   "source": [
    "# Одним из мощных инструментов является возможность выборочно или условно запрашивать узлы с помощью XPath:\n",
    "data = pd.read_xml(\"https://raw.githubusercontent.com/yakushinav/omo/main/data/test.xml\",xpath=\"//book[year=2009]\")\n",
    "data"
   ]
  },
  {
   "cell_type": "markdown",
   "id": "4777d939",
   "metadata": {},
   "source": [
    "## Запись XML"
   ]
  },
  {
   "cell_type": "code",
   "execution_count": 26,
   "id": "f41be69c",
   "metadata": {},
   "outputs": [],
   "source": [
    "data.to_xml(\"out.xml\")"
   ]
  },
  {
   "cell_type": "code",
   "execution_count": null,
   "id": "dbd73070",
   "metadata": {},
   "outputs": [],
   "source": []
  }
 ],
 "metadata": {
  "kernelspec": {
   "display_name": "Python 3 (ipykernel)",
   "language": "python",
   "name": "python3"
  },
  "language_info": {
   "codemirror_mode": {
    "name": "ipython",
    "version": 3
   },
   "file_extension": ".py",
   "mimetype": "text/x-python",
   "name": "python",
   "nbconvert_exporter": "python",
   "pygments_lexer": "ipython3",
   "version": "3.9.13"
  }
 },
 "nbformat": 4,
 "nbformat_minor": 5
}
