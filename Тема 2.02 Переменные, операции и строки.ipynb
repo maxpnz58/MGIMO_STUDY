{
 "cells": [
  {
   "cell_type": "markdown",
   "id": "c045c11a",
   "metadata": {},
   "source": [
    "# 2. Переменные\n",
    "\n",
    "## 2.1. Правила для имен переменных\n",
    "* Имя не может начинаться с числа.\n",
    "* В имени не может быть пробелов, вместо этого используйте нижнее подчёркивание: \"_\".\n",
    "* Имя не может содержать следующие символы:\n",
    "\n",
    "      :'\",<>/?|\\!@#%^&*~-+\n",
    "       \n",
    "* Считается хорошей практикой писать имена в нижнем регистре - см. [PEP8](https://www.python.org/dev/peps/pep-0008/#function-and-variable-names)\n",
    "* Не используйте в качестве названий переменных ключевые слова Python, такие как `list` и `str`\n",
    "* Не используйте следующие имена из одной буквы: 'l' (нижний регистр буквы L), 'O' (Верхний регистр буквы о), и 'I' (верхний регистр буквы i), потому что их можно спутать с единицей '1' и нулем '0'."
   ]
  },
  {
   "cell_type": "markdown",
   "id": "eb7ee4ab",
   "metadata": {},
   "source": [
    "## 2.2. Динамические типы данных\n",
    "\n",
    "Python использует динамические типы данных (*dynamic typing*), то есть Вы можете присваивать переменным значения сначала одного, а затем другого типа. Благодаря этому Python очень гибко работает с типами данных; это отличает его от тех языков программирования, в которых типы данных *статичные*."
   ]
  },
  {
   "cell_type": "markdown",
   "id": "b6bd5d61",
   "metadata": {
    "collapsed": true
   },
   "source": [
    "my_dogs = 2"
   ]
  },
  {
   "cell_type": "code",
   "execution_count": null,
   "id": "2a61a3af",
   "metadata": {},
   "outputs": [],
   "source": []
  },
  {
   "cell_type": "markdown",
   "id": "2856a7ed",
   "metadata": {
    "collapsed": true
   },
   "source": [
    "my_dogs = ['Sammy', 'Frankie']"
   ]
  },
  {
   "cell_type": "code",
   "execution_count": null,
   "id": "30282a8b",
   "metadata": {},
   "outputs": [],
   "source": []
  },
  {
   "cell_type": "markdown",
   "id": "03a97ccb",
   "metadata": {},
   "source": [
    "### Плюсы и минусы динамических типов данных\n",
    "#### Плюсы\n",
    "* легче работать\n",
    "* быстрее время разработки\n",
    "\n",
    "#### Минусы\n",
    "* можно получить неожиданные ошибки!\n",
    "* нужно следить за типами данных - `type()`"
   ]
  },
  {
   "cell_type": "markdown",
   "id": "0f4894ea",
   "metadata": {},
   "source": [
    "## 2.3. Присвоение переменных\n",
    "Присвоение переменных пишется вот так: `name = object`, где оператор `=` это оператор присвоения (*assignment operator*)"
   ]
  },
  {
   "cell_type": "markdown",
   "id": "8747309e",
   "metadata": {
    "collapsed": true
   },
   "source": [
    "a = 5"
   ]
  },
  {
   "cell_type": "code",
   "execution_count": null,
   "id": "fe5f1b6e",
   "metadata": {},
   "outputs": [],
   "source": []
  },
  {
   "cell_type": "markdown",
   "id": "b43c1536",
   "metadata": {},
   "source": [
    "Мы присвоили переменной с именем 'a' числовой объект `5`.<br>Давайте присвоим `a` другое значение:"
   ]
  },
  {
   "cell_type": "markdown",
   "id": "5d485f43",
   "metadata": {
    "collapsed": true
   },
   "source": [
    "a = 10"
   ]
  },
  {
   "cell_type": "code",
   "execution_count": null,
   "id": "11090ca6",
   "metadata": {
    "scrolled": true
   },
   "outputs": [],
   "source": []
  },
  {
   "cell_type": "markdown",
   "id": "12ec95aa",
   "metadata": {},
   "source": [
    "Теперь можно использовать `a` вместо числа `10`:"
   ]
  },
  {
   "cell_type": "markdown",
   "id": "4dd21c6e",
   "metadata": {},
   "source": [
    "a + a"
   ]
  },
  {
   "cell_type": "code",
   "execution_count": null,
   "id": "833bb1f3",
   "metadata": {},
   "outputs": [],
   "source": []
  },
  {
   "cell_type": "markdown",
   "id": "09da8d05",
   "metadata": {},
   "source": [
    "## 2.3. Переопределение переменных\n",
    "Python позволяет переопределять переменные, ссылаясь на тот же самый объект."
   ]
  },
  {
   "cell_type": "markdown",
   "id": "1095c8a0",
   "metadata": {
    "collapsed": true
   },
   "source": [
    "a = a + 10"
   ]
  },
  {
   "cell_type": "code",
   "execution_count": null,
   "id": "df7d3626",
   "metadata": {},
   "outputs": [],
   "source": []
  },
  {
   "cell_type": "markdown",
   "id": "7fa225cf",
   "metadata": {},
   "source": [
    "И это можно написать в короткой форме. Python позволяет складывать, вычитать, умножать и делить числа с помощью `+=`, `-=`, `*=` и `/=`."
   ]
  },
  {
   "cell_type": "markdown",
   "id": "e2557933",
   "metadata": {},
   "source": [
    "a += 10 # это означает:  a = a + 10"
   ]
  },
  {
   "cell_type": "code",
   "execution_count": null,
   "id": "2e0043a6",
   "metadata": {},
   "outputs": [],
   "source": []
  },
  {
   "cell_type": "markdown",
   "id": "6db68a9f",
   "metadata": {
    "collapsed": true
   },
   "source": [
    "a *= 2  # это означает:  a = a * 10"
   ]
  },
  {
   "cell_type": "code",
   "execution_count": null,
   "id": "419f2696",
   "metadata": {},
   "outputs": [],
   "source": []
  },
  {
   "cell_type": "markdown",
   "id": "23d8497c",
   "metadata": {},
   "source": [
    "## 2.4. Определение типа переменной с помощью `type()`\n",
    "Вы можете узнать тип объекта, который был присвоен переменной, с помощью встроенной функции `type()`. Часто используемые типы данных:\n",
    "* **int** (для integer)\n",
    "* **float**\n",
    "* **str** (для string)\n",
    "* **list**\n",
    "* **tuple**\n",
    "* **dict** (для dictionary)\n",
    "* **set**\n",
    "* **bool** (для Boolean True/False)"
   ]
  },
  {
   "cell_type": "markdown",
   "id": "c3473dbe",
   "metadata": {},
   "source": [
    "type(a)"
   ]
  },
  {
   "cell_type": "code",
   "execution_count": null,
   "id": "d5a76c0e",
   "metadata": {},
   "outputs": [],
   "source": []
  },
  {
   "cell_type": "markdown",
   "id": "168de458",
   "metadata": {
    "collapsed": true
   },
   "source": [
    "a = (1,2)\n",
    "type(a)"
   ]
  },
  {
   "cell_type": "code",
   "execution_count": null,
   "id": "d54d1086",
   "metadata": {},
   "outputs": [],
   "source": []
  },
  {
   "cell_type": "markdown",
   "id": "e5aa0b1e",
   "metadata": {},
   "source": [
    "## Простой пример\n",
    "Здесь показано, как осмысленные названия переменных могут сделать ваш код более читаемым."
   ]
  },
  {
   "cell_type": "code",
   "execution_count": null,
   "id": "8137da5f",
   "metadata": {},
   "outputs": [],
   "source": [
    "my_income = 100\n",
    "tax_rate = 0.1\n",
    "my_taxes = my_income * tax_rate"
   ]
  },
  {
   "cell_type": "code",
   "execution_count": null,
   "id": "d9bf487a",
   "metadata": {},
   "outputs": [],
   "source": [
    "my_taxes"
   ]
  },
  {
   "cell_type": "markdown",
   "id": "66fca75d",
   "metadata": {
    "id": "j-E-qrB6SX9J",
    "pycharm": {
     "name": "#%% md\n"
    }
   },
   "source": [
    "## 2.5. Типы данных\n",
    "Типы данных, которые есть в python. [официальная документация](https://docs.python.org/3/library/stdtypes.html).\n",
    "\n",
    "1.   Числа (int, float, complex).\n",
    "2.   Строки.\n",
    "3.   Логический тип данных.\n",
    "4.   Переменные\n"
   ]
  },
  {
   "cell_type": "markdown",
   "id": "06ff5bbd",
   "metadata": {
    "id": "GBl_npYH3yt7",
    "pycharm": {
     "name": "#%% md\n"
    }
   },
   "source": [
    "## Целые числа\n",
    "Целые числа могут иметь довольно большую длину"
   ]
  },
  {
   "cell_type": "code",
   "execution_count": null,
   "id": "232e996e",
   "metadata": {
    "colab": {
     "base_uri": "https://localhost:8080/"
    },
    "id": "tn61hf0832g5",
    "outputId": "5aaf88fb-82f2-414b-abb0-dd07d2b09405",
    "pycharm": {
     "name": "#%%\n"
    }
   },
   "outputs": [],
   "source": [
    "print(11111111111111111111111111111111111111111111111111111111111111111111111111 + 2)"
   ]
  },
  {
   "cell_type": "markdown",
   "id": "ddf64bd4",
   "metadata": {
    "id": "_ab_2tMtcjRY",
    "pycharm": {
     "name": "#%% md\n"
    }
   },
   "source": [
    "Python поддерживает несколько систем исчисления\n",
    "1.   Восьмеричную\n",
    "2.   Шестнадцатеричную\n",
    "3.   Двоичную\n"
   ]
  },
  {
   "cell_type": "code",
   "execution_count": null,
   "id": "c85c803a",
   "metadata": {
    "colab": {
     "base_uri": "https://localhost:8080/"
    },
    "id": "u0FjTima3_qZ",
    "outputId": "a1cadd53-aee8-4527-aeee-2e28c243d8ab",
    "pycharm": {
     "name": "#%%\n"
    }
   },
   "outputs": [],
   "source": [
    "print(0o11)  # base = 8\n",
    "print(0x1A)  # base = 16\n",
    "print(0b10)  # base = 2"
   ]
  },
  {
   "cell_type": "code",
   "execution_count": null,
   "id": "487f2d58",
   "metadata": {
    "colab": {
     "base_uri": "https://localhost:8080/"
    },
    "id": "X1-V7h9i4HwU",
    "outputId": "25d291ca-37f0-40dc-c8c4-74b46a72568c",
    "pycharm": {
     "name": "#%%\n"
    }
   },
   "outputs": [],
   "source": [
    "# это все тип int, над которым работает арифметика\n",
    "print(type(10))\n",
    "print(type(0o10))"
   ]
  },
  {
   "cell_type": "markdown",
   "id": "b04f6a39",
   "metadata": {
    "id": "bs-PCS9F6x6r",
    "pycharm": {
     "name": "#%% md\n"
    }
   },
   "source": [
    "## Числа с плавающей точкой"
   ]
  },
  {
   "cell_type": "code",
   "execution_count": null,
   "id": "8f0a211c",
   "metadata": {
    "colab": {
     "base_uri": "https://localhost:8080/"
    },
    "id": "1RWTd3FW6sGr",
    "outputId": "313fc3f5-05ec-4928-8155-76926c2b20c1",
    "pycharm": {
     "name": "#%%\n"
    }
   },
   "outputs": [],
   "source": [
    "print(4.2)\n",
    "print(type(4.2))\n",
    "print(4.)\n",
    "print(.2)\n",
    "print(.4e7)\n",
    "print(type(.4e7))\n",
    "print(4e+3)\n",
    "print(2.2e-5 == 0.000022)\n",
    "print(0.000022)"
   ]
  },
  {
   "cell_type": "code",
   "execution_count": null,
   "id": "8666579d",
   "metadata": {
    "colab": {
     "base_uri": "https://localhost:8080/"
    },
    "id": "K929v6bY7D_4",
    "outputId": "8acaa3be-92c8-493a-fd3c-8e8db7cdca28",
    "pycharm": {
     "name": "#%%\n"
    }
   },
   "outputs": [],
   "source": [
    "# У вещественных чисел существует ограничение\n",
    "\n",
    "# бесконечность\n",
    "print(1.79e308)\n",
    "print(1.8e308)\n",
    "# ближайшее к нулю\n",
    "print(5e-324)\n",
    "print(1e-325)"
   ]
  },
  {
   "cell_type": "code",
   "execution_count": null,
   "id": "62beeaf8",
   "metadata": {
    "colab": {
     "base_uri": "https://localhost:8080/"
    },
    "id": "e1Z7mjPCM4Ql",
    "outputId": "6b68b902-628e-4412-cc0b-7e069cc2c7ce",
    "pycharm": {
     "name": "#%%\n"
    }
   },
   "outputs": [],
   "source": [
    "# есть также константа inf, удобная для определения бесконечных\n",
    "print(-float(\"inf\"))\n",
    "print(float(\"inf\") > 10e300)\n",
    "print(float(\"inf\") > 10e400)"
   ]
  },
  {
   "cell_type": "code",
   "execution_count": null,
   "id": "76097f16",
   "metadata": {
    "pycharm": {
     "name": "#%%\n"
    }
   },
   "outputs": [],
   "source": [
    "(1.1 + 2.2) - 3.3 < 0.1"
   ]
  },
  {
   "cell_type": "markdown",
   "id": "e28f3c82",
   "metadata": {
    "id": "IvsOXfpqHaro",
    "pycharm": {
     "name": "#%% md\n"
    }
   },
   "source": [
    "## Общие операции для разных численных типов данных\n",
    "\n",
    "<table class=\"docutils align-default\">\n",
    "<colgroup>\n",
    "<col style=\"width: 25%\">\n",
    "<col style=\"width: 40%\">\n",
    "<col style=\"width: 11%\">\n",
    "<col style=\"width: 24%\">\n",
    "</colgroup>\n",
    "<thead>\n",
    "<tr class=\"row-odd\"><th class=\"head\"><p>Operation</p></th>\n",
    "<th class=\"head\"><p>Result</p></th>\n",
    "<th class=\"head\"><p>Notes</p></th>\n",
    "<th class=\"head\"><p>Full documentation</p></th>\n",
    "</tr>\n",
    "</thead>\n",
    "<tbody>\n",
    "<tr class=\"row-even\"><td><p><code class=\"docutils literal notranslate\"><span class=\"pre\">x</span> <span class=\"pre\">+</span> <span class=\"pre\">y</span></code></p></td>\n",
    "<td><p>sum of <em>x</em> and <em>y</em></p></td>\n",
    "<td></td>\n",
    "<td></td>\n",
    "</tr>\n",
    "<tr class=\"row-odd\"><td><p><code class=\"docutils literal notranslate\"><span class=\"pre\">x</span> <span class=\"pre\">-</span> <span class=\"pre\">y</span></code></p></td>\n",
    "<td><p>difference of <em>x</em> and <em>y</em></p></td>\n",
    "<td></td>\n",
    "<td></td>\n",
    "</tr>\n",
    "<tr class=\"row-even\"><td><p><code class=\"docutils literal notranslate\"><span class=\"pre\">x</span> <span class=\"pre\">*</span> <span class=\"pre\">y</span></code></p></td>\n",
    "<td><p>product of <em>x</em> and <em>y</em></p></td>\n",
    "<td></td>\n",
    "<td></td>\n",
    "</tr>\n",
    "<tr class=\"row-odd\"><td><p><code class=\"docutils literal notranslate\"><span class=\"pre\">x</span> <span class=\"pre\">/</span> <span class=\"pre\">y</span></code></p></td>\n",
    "<td><p>quotient of <em>x</em> and <em>y</em></p></td>\n",
    "<td></td>\n",
    "<td></td>\n",
    "</tr>\n",
    "<tr class=\"row-even\"><td><p><code class=\"docutils literal notranslate\"><span class=\"pre\">x</span> <span class=\"pre\">//</span> <span class=\"pre\">y</span></code></p></td>\n",
    "<td><p>floored quotient of <em>x</em> and\n",
    "<em>y</em></p></td>\n",
    "<td><p></p></td>\n",
    "<td></td>\n",
    "</tr>\n",
    "<tr class=\"row-odd\"><td><p><code class=\"docutils literal notranslate\"><span class=\"pre\">x</span> <span class=\"pre\">%</span> <span class=\"pre\">y</span></code></p></td>\n",
    "<td><p>remainder of <code class=\"docutils literal notranslate\"><span class=\"pre\">x</span> <span class=\"pre\">/</span> <span class=\"pre\">y</span></code></p></td>\n",
    "<td><p></p></td>\n",
    "<td></td>\n",
    "</tr>\n",
    "<tr class=\"row-even\"><td><p><code class=\"docutils literal notranslate\"><span class=\"pre\">-x</span></code></p></td>\n",
    "<td><p><em>x</em> negated</p></td>\n",
    "<td></td>\n",
    "<td></td>\n",
    "</tr>\n",
    "<tr class=\"row-odd\"><td><p><code class=\"docutils literal notranslate\"><span class=\"pre\">+x</span></code></p></td>\n",
    "<td><p><em>x</em> unchanged</p></td>\n",
    "<td></td>\n",
    "<td></td>\n",
    "</tr>\n",
    "<tr class=\"row-even\"><td><p><code class=\"docutils literal notranslate\"><span class=\"pre\">abs(x)</span></code></p></td>\n",
    "<td><p>absolute value or magnitude of\n",
    "<em>x</em></p></td>\n",
    "<td></td>\n",
    "<td><p><a class=\"reference internal\" href=\"functions.html#abs\" title=\"abs\"><code class=\"xref py py-func docutils literal notranslate\"><span class=\"pre\">abs()</span></code></a></p></td>\n",
    "</tr>\n",
    "<tr class=\"row-odd\"><td><p><code class=\"docutils literal notranslate\"><span class=\"pre\">int(x)</span></code></p></td>\n",
    "<td><p><em>x</em> converted to integer</p></td>\n",
    "<td><p></p></td>\n",
    "<td><p><a class=\"reference internal\" href=\"functions.html#int\" title=\"int\"><code class=\"xref py py-func docutils literal notranslate\"><span class=\"pre\">int()</span></code></a></p></td>\n",
    "</tr>\n",
    "<tr class=\"row-even\"><td><p><code class=\"docutils literal notranslate\"><span class=\"pre\">float(x)</span></code></p></td>\n",
    "<td><p><em>x</em> converted to floating point</p></td>\n",
    "<td><p></p></td>\n",
    "<td><p><a class=\"reference internal\" href=\"functions.html#float\" title=\"float\"><code class=\"xref py py-func docutils literal notranslate\"><span class=\"pre\">float()</span></code></a></p></td>\n",
    "</tr>\n",
    "<tr class=\"row-even\"><td><p><code class=\"docutils literal notranslate\"><span class=\"pre\">pow(x,</span> <span class=\"pre\">y)</span></code></p></td>\n",
    "<td><p><em>x</em> to the power <em>y</em></p></td>\n",
    "<td><p></p></td>\n",
    "<td><p><a class=\"reference internal\" href=\"functions.html#pow\" title=\"pow\"><code class=\"xref py py-func docutils literal notranslate\"><span class=\"pre\">pow()</span></code></a></p></td>\n",
    "</tr>\n",
    "<tr class=\"row-odd\"><td><p><code class=\"docutils literal notranslate\"><span class=\"pre\">x</span> <span class=\"pre\">**</span> <span class=\"pre\">y</span></code></p></td>\n",
    "<td><p><em>x</em> to the power <em>y</em></p></td>\n",
    "<td><p></p></td>\n",
    "<td></td>\n",
    "</tr>\n",
    "</tbody>\n",
    "</table>"
   ]
  },
  {
   "cell_type": "code",
   "execution_count": null,
   "id": "13c81f9f",
   "metadata": {
    "colab": {
     "base_uri": "https://localhost:8080/"
    },
    "id": "kpHatVddHpyu",
    "outputId": "b6a72056-8e25-4b64-c6f8-34eb728a3ac2",
    "pycharm": {
     "name": "#%%\n"
    }
   },
   "outputs": [],
   "source": [
    "# Для чисел 94 и 43 примените здесь все эти операции"
   ]
  },
  {
   "cell_type": "markdown",
   "id": "6e2609dc",
   "metadata": {
    "id": "wewarNxv77DV",
    "pycharm": {
     "name": "#%% md\n"
    }
   },
   "source": [
    "## Строки\n",
    "\n",
    "Преобразовать элемент в строку можно с помощью функции `str`"
   ]
  },
  {
   "cell_type": "code",
   "execution_count": null,
   "id": "04d7323b",
   "metadata": {
    "colab": {
     "base_uri": "https://localhost:8080/"
    },
    "id": "PBxCGG1c7yRG",
    "outputId": "a537b389-dfba-4cb2-f7fe-8909fe5d0e9a",
    "pycharm": {
     "name": "#%%\n"
    }
   },
   "outputs": [],
   "source": [
    "print('Hello')\n",
    "print(\"Hello\")\n",
    "print(\"Hello\" == 'Hello')\n",
    "print(type('Hello'))"
   ]
  },
  {
   "cell_type": "code",
   "execution_count": null,
   "id": "287750d3",
   "metadata": {
    "colab": {
     "base_uri": "https://localhost:8080/"
    },
    "id": "UjunLfXj8M71",
    "outputId": "18d3ec3c-05d4-417b-bd28-0dc561928080",
    "pycharm": {
     "name": "#%%\n"
    }
   },
   "outputs": [],
   "source": [
    "# строка может содержать бесконечное количество символов\n",
    "\n",
    "print('')"
   ]
  },
  {
   "cell_type": "code",
   "execution_count": null,
   "id": "2018c733",
   "metadata": {
    "colab": {
     "base_uri": "https://localhost:8080/",
     "height": 130
    },
    "id": "MtubONSQ8ajc",
    "outputId": "bd3ce26f-a80e-44fc-8e2a-6dec0e28fd25",
    "pycharm": {
     "name": "#%%\n"
    }
   },
   "outputs": [],
   "source": [
    "print('Masha's apple')"
   ]
  },
  {
   "cell_type": "code",
   "execution_count": null,
   "id": "eb2fd72c",
   "metadata": {
    "colab": {
     "base_uri": "https://localhost:8080/"
    },
    "id": "r0jUH5Me8gNV",
    "outputId": "a10fc26d-2d34-43af-a790-710d59c66dcb",
    "pycharm": {
     "name": "#%%\n"
    }
   },
   "outputs": [],
   "source": [
    "print(\"Masha's apple\")\n",
    "print('Masha\\'s apple')"
   ]
  },
  {
   "cell_type": "markdown",
   "id": "88349256",
   "metadata": {
    "id": "qttCjDeV8wF6",
    "pycharm": {
     "name": "#%% md\n"
    }
   },
   "source": [
    "<table class=\"table table-hover\">\n",
    "<thead>\n",
    "<tr>\n",
    "<th>Символы<br>Экранирования</th>\n",
    "<th>Usual Interpretation of<br>Character(s) After Backslash</th>\n",
    "<th>“Escaped” Interpretation</th>\n",
    "</tr>\n",
    "</thead>\n",
    "<tbody>\n",
    "<tr>\n",
    "<td><code>\\'</code></td>\n",
    "<td>Terminates string with single quote opening delimiter</td>\n",
    "<td>Literal single quote (<code>'</code>) character</td>\n",
    "</tr>\n",
    "<tr>\n",
    "<td><code>\\\"</code></td>\n",
    "<td>Terminates string with double quote opening delimiter</td>\n",
    "<td>Literal double quote (<code>\"</code>) character</td>\n",
    "</tr>\n",
    "<tr>\n",
    "<td><code>\\&lt;newline&gt;</code></td>\n",
    "<td>Terminates input line</td>\n",
    "<td><a href=\"https://stackoverflow.com/questions/48693600/what-does-the-newline-escape-sequence-mean-in-python\">Newline is ignored</a></td>\n",
    "</tr>\n",
    "<tr>\n",
    "<td><code>\\\\</code></td>\n",
    "<td>Introduces escape sequence</td>\n",
    "<td>Literal backslash (<code>\\</code>) character</td>\n",
    "</tr>\n",
    "</tbody>\n",
    "</table>"
   ]
  },
  {
   "cell_type": "code",
   "execution_count": null,
   "id": "8be4db3b",
   "metadata": {
    "colab": {
     "base_uri": "https://localhost:8080/"
    },
    "id": "GZ3CpCisF0kh",
    "outputId": "cbb11f6e-3bad-42e1-93a2-d0d4e6d1f45f",
    "pycharm": {
     "name": "#%%\n"
    }
   },
   "outputs": [],
   "source": [
    "print(1, 2, 3, end='', sep=\"---\")\n",
    "print(1, 2, 3)"
   ]
  },
  {
   "cell_type": "markdown",
   "id": "93178fa8",
   "metadata": {
    "id": "3v0fifIQ9O8V",
    "pycharm": {
     "name": "#%% md\n"
    }
   },
   "source": [
    "Специальные символы\n",
    "\n",
    "<div class=\"table-responsive\">\n",
    "<table class=\"table table-hover\">\n",
    "<thead>\n",
    "<tr>\n",
    "<th>Escape Sequence</th>\n",
    "<th>“Escaped” Interpretation</th>\n",
    "</tr>\n",
    "</thead>\n",
    "<tbody>\n",
    "<tr>\n",
    "<td><code>\\a</code></td>\n",
    "<td>ASCII Bell (<code>BEL</code>) character</td>\n",
    "</tr>\n",
    "<tr>\n",
    "<td><code>\\b</code></td>\n",
    "<td>ASCII Backspace (<code>BS</code>) character</td>\n",
    "</tr>\n",
    "<tr>\n",
    "<td><code>\\f</code></td>\n",
    "<td>ASCII Formfeed (<code>FF</code>) character</td>\n",
    "</tr>\n",
    "<tr>\n",
    "<td><code>\\n</code></td>\n",
    "<td>ASCII Linefeed (<code>LF</code>) character</td>\n",
    "</tr>\n",
    "<tr>\n",
    "<td><code>\\N{&lt;name&gt;}</code></td>\n",
    "<td>Character from Unicode database with given <code>&lt;name&gt;</code></td>\n",
    "</tr>\n",
    "<tr>\n",
    "<td><code>\\r</code></td>\n",
    "<td>ASCII Carriage Return (<code>CR</code>) character</td>\n",
    "</tr>\n",
    "<tr>\n",
    "<td><code>\\t</code></td>\n",
    "<td>ASCII Horizontal Tab (<code>TAB</code>) character</td>\n",
    "</tr>\n",
    "<tr>\n",
    "<td><code>\\uxxxx</code></td>\n",
    "<td>Unicode character with 16-bit hex value <code>xxxx</code></td>\n",
    "</tr>\n",
    "<tr>\n",
    "<td><code>\\Uxxxxxxxx</code></td>\n",
    "<td>Unicode character with 32-bit hex value <code>xxxxxxxx</code></td>\n",
    "</tr>\n",
    "<tr>\n",
    "<td><code>\\v</code></td>\n",
    "<td>ASCII Vertical Tab (<code>VT</code>) character</td>\n",
    "</tr>\n",
    "<tr>\n",
    "<td><code>\\ooo</code></td>\n",
    "<td>Character with octal value <code>ooo</code></td>\n",
    "</tr>\n",
    "<tr>\n",
    "<td><code>\\xhh</code></td>\n",
    "<td>Character with hex value <code>hh</code></td>\n",
    "</tr>\n",
    "</tbody>\n",
    "</table>\n",
    "</div>"
   ]
  },
  {
   "cell_type": "code",
   "execution_count": null,
   "id": "f2f50158",
   "metadata": {
    "colab": {
     "base_uri": "https://localhost:8080/"
    },
    "id": "GZ3CpCisF0kh",
    "outputId": "cbb11f6e-3bad-42e1-93a2-d0d4e6d1f45f",
    "pycharm": {
     "name": "#%%\n"
    }
   },
   "outputs": [],
   "source": [
    "print(1, 2, 3, end='', sep=\"---\")\n",
    "print(1, 2, 3)"
   ]
  },
  {
   "cell_type": "code",
   "execution_count": null,
   "id": "f9c2c7fc",
   "metadata": {
    "colab": {
     "base_uri": "https://localhost:8080/",
     "height": 325
    },
    "id": "c5J07pBqkV50",
    "outputId": "860c8cae-7fb7-48ae-819f-0bfc1ad9f83d",
    "pycharm": {
     "name": "#%%\n"
    }
   },
   "outputs": [],
   "source": [
    "# пример использования \\r, можно сделать интерактивный счетчик\n",
    "# по умолчания print добавляет к концу вашей строки \\n\n",
    "# print('Hello') -> display 'Hello\\n'\n",
    "import time\n",
    "\n",
    "for i in range(10):\n",
    "    print(f'\\rHello {i}', end='')\n",
    "    time.sleep(0.5)\n",
    "print(f\"\\rHello 0\", end=\"\")"
   ]
  },
  {
   "cell_type": "code",
   "execution_count": null,
   "id": "44d93cee",
   "metadata": {
    "colab": {
     "base_uri": "https://localhost:8080/"
    },
    "id": "1VmVXx9G9XqG",
    "outputId": "2531b7c8-29a3-47a2-8cd9-62337f1485d0",
    "pycharm": {
     "name": "#%%\n"
    }
   },
   "outputs": [],
   "source": [
    "# строки без форматирования\n",
    "print('>a\\nb<')\n",
    "print(r'>a\\nb<')\n"
   ]
  },
  {
   "cell_type": "code",
   "execution_count": null,
   "id": "41e01e08",
   "metadata": {
    "colab": {
     "base_uri": "https://localhost:8080/",
     "height": 126
    },
    "id": "BNKceoKpGbsg",
    "outputId": "2ad40ccf-bba0-4e3b-a973-dda7730cbf6a",
    "pycharm": {
     "name": "#%%\n"
    }
   },
   "outputs": [],
   "source": [
    "'aasd\n",
    "'"
   ]
  },
  {
   "cell_type": "code",
   "execution_count": null,
   "id": "0e2c304b",
   "metadata": {
    "colab": {
     "base_uri": "https://localhost:8080/",
     "height": 103
    },
    "id": "5EFZOJTr9nF4",
    "outputId": "417090e2-c32c-42cf-e2cd-0a76ddd465ac",
    "pycharm": {
     "name": "#%%\n"
    }
   },
   "outputs": [],
   "source": [
    "# тройные кавычки\n",
    "print('''\n",
    "  The test str\n",
    "\n",
    "''')"
   ]
  },
  {
   "cell_type": "code",
   "execution_count": null,
   "id": "1e02d1a6",
   "metadata": {
    "colab": {
     "base_uri": "https://localhost:8080/",
     "height": 35
    },
    "id": "4a2uqqxMmV-B",
    "outputId": "c6bcc30b-3ec6-4867-e460-5f24e1717333",
    "pycharm": {
     "name": "#%%\n"
    }
   },
   "outputs": [],
   "source": [
    "s = \"\"\"\n",
    "1\n",
    "2\n",
    "3\n",
    "4\n",
    "5\n",
    "\"\"\"\n",
    "s"
   ]
  },
  {
   "cell_type": "code",
   "execution_count": null,
   "id": "8980cc4f",
   "metadata": {
    "colab": {
     "base_uri": "https://localhost:8080/"
    },
    "id": "zlVG6mTSGyjP",
    "outputId": "1763d7ec-459a-4617-b6c2-18c5d5419c24",
    "pycharm": {
     "name": "#%%\n"
    },
    "scrolled": true
   },
   "outputs": [],
   "source": [
    "s.split('\\n')"
   ]
  },
  {
   "cell_type": "markdown",
   "id": "6c59fd2c",
   "metadata": {},
   "source": []
  },
  {
   "cell_type": "markdown",
   "id": "71548a45",
   "metadata": {
    "id": "-hzoYrnT9y6R",
    "pycharm": {
     "name": "#%% md\n"
    }
   },
   "source": [
    "## Логический тип данных\n",
    "\n",
    "Важно отметить, что у всех объектов в питоне есть логическое значение. Т.е. он может быть протестирован на истинность. По умолчанию все объекты являются истинными (True), если только не определены специальные методы.\n",
    "\n",
    "```\n",
    "bool(10)\n",
    "True\n",
    "bool(-10)\n",
    "True\n",
    "bool('Hello')\n",
    "True\n",
    "bool('')\n",
    "False\n",
    "```\n"
   ]
  },
  {
   "cell_type": "code",
   "execution_count": null,
   "id": "c10d7d7c",
   "metadata": {
    "pycharm": {
     "name": "#%%\n"
    }
   },
   "outputs": [],
   "source": [
    "None"
   ]
  },
  {
   "cell_type": "code",
   "execution_count": null,
   "id": "85234b2c",
   "metadata": {
    "colab": {
     "base_uri": "https://localhost:8080/"
    },
    "id": "fx9SegHKKzM1",
    "outputId": "6d111917-4272-48f3-da50-d99cc7f781c8",
    "pycharm": {
     "name": "#%%\n"
    }
   },
   "outputs": [],
   "source": [
    "bool(None)"
   ]
  },
  {
   "cell_type": "code",
   "execution_count": null,
   "id": "49d218ef",
   "metadata": {
    "colab": {
     "base_uri": "https://localhost:8080/"
    },
    "id": "4sIWt7_C9vl4",
    "outputId": "ece54911-7faa-4d55-97d5-96a94adf1d1a",
    "pycharm": {
     "name": "#%%\n"
    }
   },
   "outputs": [],
   "source": [
    "True\n",
    "False"
   ]
  },
  {
   "cell_type": "code",
   "execution_count": null,
   "id": "38a05557",
   "metadata": {
    "colab": {
     "base_uri": "https://localhost:8080/"
    },
    "id": "5UpreNcqlzMK",
    "outputId": "84da7aed-3c04-4c4d-d438-1dc0d7a9fcd9",
    "pycharm": {
     "name": "#%%\n"
    }
   },
   "outputs": [],
   "source": [
    "print(bool(0))\n",
    "print(bool(''))"
   ]
  },
  {
   "cell_type": "markdown",
   "id": "807151ab",
   "metadata": {
    "id": "gYi2tpQqIk60",
    "pycharm": {
     "name": "#%% md\n"
    }
   },
   "source": [
    "Булевы операторы\n",
    "\n",
    "<table class=\"docutils align-default\">\n",
    "<colgroup>\n",
    "<col style=\"width: 25%\">\n",
    "<col style=\"width: 62%\">\n",
    "<col style=\"width: 13%\">\n",
    "</colgroup>\n",
    "<thead>\n",
    "<tr class=\"row-odd\"><th class=\"head\"><p>Operation</p></th>\n",
    "<th class=\"head\"><p>Result</p></th>\n",
    "<th class=\"head\"><p>Notes</p></th>\n",
    "</tr>\n",
    "</thead>\n",
    "<tbody>\n",
    "<tr class=\"row-even\"><td><p><code class=\"docutils literal notranslate\"><span class=\"pre\">x</span> <span class=\"pre\">or</span> <span class=\"pre\">y</span></code></p></td>\n",
    "<td><p>if <em>x</em> is false, then <em>y</em>, else\n",
    "<em>x</em></p></td>\n",
    "<td><p>(1)</p></td>\n",
    "</tr>\n",
    "<tr class=\"row-odd\"><td><p><code class=\"docutils literal notranslate\"><span class=\"pre\">x</span> <span class=\"pre\">and</span> <span class=\"pre\">y</span></code></p></td>\n",
    "<td><p>if <em>x</em> is false, then <em>x</em>, else\n",
    "<em>y</em></p></td>\n",
    "<td><p>(2)</p></td>\n",
    "</tr>\n",
    "<tr class=\"row-even\"><td><p><code class=\"docutils literal notranslate\"><span class=\"pre\">not</span> <span class=\"pre\">x</span></code></p></td>\n",
    "<td><p>if <em>x</em> is false, then <code class=\"docutils literal notranslate\"><span class=\"pre\">True</span></code>,\n",
    "else <code class=\"docutils literal notranslate\"><span class=\"pre\">False</span></code></p></td>\n",
    "<td><p>(3)</p></td>\n",
    "</tr>\n",
    "</tbody>\n",
    "</table>"
   ]
  },
  {
   "cell_type": "code",
   "execution_count": null,
   "id": "04f00169",
   "metadata": {
    "pycharm": {
     "name": "#%%\n"
    }
   },
   "outputs": [],
   "source": [
    "print(int(False or False))\n",
    "print(int(False or True))\n",
    "print(True or False)\n",
    "print(True or True)"
   ]
  },
  {
   "cell_type": "code",
   "execution_count": null,
   "id": "261617d3",
   "metadata": {
    "pycharm": {
     "name": "#%%\n"
    }
   },
   "outputs": [],
   "source": [
    "bool(10), bool(None)"
   ]
  },
  {
   "cell_type": "code",
   "execution_count": null,
   "id": "5efdeb20",
   "metadata": {
    "pycharm": {
     "name": "#%%\n"
    }
   },
   "outputs": [],
   "source": [
    "10 or None"
   ]
  },
  {
   "cell_type": "code",
   "execution_count": null,
   "id": "bb34b006",
   "metadata": {
    "colab": {
     "base_uri": "https://localhost:8080/",
     "height": 35
    },
    "id": "mrDsVlwiLG3p",
    "outputId": "8159ce9a-cad4-45db-949f-5fb833516e28",
    "pycharm": {
     "name": "#%%\n"
    }
   },
   "outputs": [],
   "source": [
    "'asd' and 'asc'"
   ]
  },
  {
   "cell_type": "markdown",
   "id": "17816b31",
   "metadata": {
    "id": "iFzYFmtOI2yy",
    "pycharm": {
     "name": "#%% md\n"
    }
   },
   "source": [
    "Операторы сравнения\n",
    "\n",
    "<table class=\"docutils align-default\">\n",
    "<colgroup>\n",
    "<col style=\"width: 32%\">\n",
    "<col style=\"width: 68%\">\n",
    "</colgroup>\n",
    "<thead>\n",
    "<tr class=\"row-odd\"><th class=\"head\"><p>Operation</p></th>\n",
    "<th class=\"head\"><p>Meaning</p></th>\n",
    "</tr>\n",
    "</thead>\n",
    "<tbody>\n",
    "<tr class=\"row-even\"><td><p><code class=\"docutils literal notranslate\"><span class=\"pre\">&lt;</span></code></p></td>\n",
    "<td><p>strictly less than</p></td>\n",
    "</tr>\n",
    "<tr class=\"row-odd\"><td><p><code class=\"docutils literal notranslate\"><span class=\"pre\">&lt;=</span></code></p></td>\n",
    "<td><p>less than or equal</p></td>\n",
    "</tr>\n",
    "<tr class=\"row-even\"><td><p><code class=\"docutils literal notranslate\"><span class=\"pre\">&gt;</span></code></p></td>\n",
    "<td><p>strictly greater than</p></td>\n",
    "</tr>\n",
    "<tr class=\"row-odd\"><td><p><code class=\"docutils literal notranslate\"><span class=\"pre\">&gt;=</span></code></p></td>\n",
    "<td><p>greater than or equal</p></td>\n",
    "</tr>\n",
    "<tr class=\"row-even\"><td><p><code class=\"docutils literal notranslate\"><span class=\"pre\">==</span></code></p></td>\n",
    "<td><p>equal</p></td>\n",
    "</tr>\n",
    "<tr class=\"row-odd\"><td><p><code class=\"docutils literal notranslate\"><span class=\"pre\">!=</span></code></p></td>\n",
    "<td><p>not equal</p></td>\n",
    "</tr>\n",
    "<tr class=\"row-even\"><td><p><code class=\"docutils literal notranslate\"><span class=\"pre\">is</span></code></p></td>\n",
    "<td><p>object identity</p></td>\n",
    "</tr>\n",
    "<tr class=\"row-odd\"><td><p><code class=\"docutils literal notranslate\"><span class=\"pre\">is</span> <span class=\"pre\">not</span></code></p></td>\n",
    "<td><p>negated object identity</p></td>\n",
    "</tr>\n",
    "</tbody>\n",
    "</table>"
   ]
  },
  {
   "cell_type": "code",
   "execution_count": null,
   "id": "ad54c3c1",
   "metadata": {
    "pycharm": {
     "name": "#%%\n"
    }
   },
   "outputs": [],
   "source": [
    "10 < 15"
   ]
  },
  {
   "cell_type": "code",
   "execution_count": null,
   "id": "22cc287c",
   "metadata": {
    "colab": {
     "base_uri": "https://localhost:8080/"
    },
    "id": "hoRkRkRPJoXP",
    "outputId": "7fee0fed-86ba-4972-cb2e-620e8ee08ddc",
    "pycharm": {
     "name": "#%%\n"
    }
   },
   "outputs": [],
   "source": [
    "1 == 1"
   ]
  },
  {
   "cell_type": "code",
   "execution_count": null,
   "id": "a4f35762",
   "metadata": {
    "colab": {
     "base_uri": "https://localhost:8080/"
    },
    "id": "H28TpNbwJqrc",
    "outputId": "b68a5c76-5c88-4f4d-93ec-809bbc7a1d14",
    "pycharm": {
     "name": "#%%\n"
    }
   },
   "outputs": [],
   "source": [
    "1 is not 'abc'"
   ]
  },
  {
   "cell_type": "code",
   "execution_count": null,
   "id": "9c2c2371",
   "metadata": {
    "colab": {
     "base_uri": "https://localhost:8080/"
    },
    "id": "6yI_rB3PJtf2",
    "outputId": "b574dc39-5b2f-478a-b44e-9a33efe33acd",
    "pycharm": {
     "name": "#%%\n"
    }
   },
   "outputs": [],
   "source": [
    "1 or 1"
   ]
  },
  {
   "cell_type": "markdown",
   "id": "3efe4a65",
   "metadata": {
    "id": "tMWVOndyQTGd",
    "pycharm": {
     "name": "#%% md\n"
    }
   },
   "source": [
    "# Задание 1\n",
    "\n",
    "Создайте две переменные var_a и var_b. var_a присвойте числовое значение равное длю своего рождения, var_b присвойте значение равное номерну месяца своего значения.\n",
    "Для переменных var_a и var_b выполните все арифметические и логические операции приведенные выше.\n",
    "\n",
    "Пример:\n",
    "\n",
    "```\n",
    "\n",
    "a = 7\n",
    "b = 2\n",
    "\n",
    "print ('Sum: ', a + b)  \n",
    "print ('Subtraction: ', a - b)   \n",
    "print ('Multiplication: ', a * b)  \n",
    "print ('Division: ', a / b) \n",
    "print ('Floor Division: ', a // b)\n",
    "print ('Modulo: ', a % b)  \n",
    "print ('Power: ', a ** b)\n",
    "\n",
    "print((a > 2) and (b >= 6))    # True\n",
    "\n",
    "x = 5\n",
    "y = 8\n",
    "\n",
    "print(\"x == y:\", x == y)\n",
    "print(\"x != y:\", x != y)\n",
    "print(\"x < y:\", x < y)\n",
    "print(\"x > y:\", x > y)\n",
    "print(\"x <= y:\", x <= y)\n",
    "print(\"x >= y:\", x >= y)\n",
    "```"
   ]
  },
  {
   "cell_type": "code",
   "execution_count": null,
   "id": "239e8c83",
   "metadata": {},
   "outputs": [],
   "source": []
  },
  {
   "cell_type": "markdown",
   "id": "a3ad7361",
   "metadata": {},
   "source": [
    "# Задание 2\n",
    "\n",
    "Присвойте переменной var_c значение 32.98.\n",
    "\n",
    "Преобразуйте переменную к типам int, float, string и выведите результат на экран. Объясните что получилось в результате преобразования.\n"
   ]
  },
  {
   "cell_type": "code",
   "execution_count": null,
   "id": "9dd12dae",
   "metadata": {},
   "outputs": [],
   "source": []
  },
  {
   "cell_type": "markdown",
   "id": "79fd6eb3",
   "metadata": {},
   "source": [
    "# Задание 3\n",
    "\n",
    "1. Дано целое число A. Проверить истинность высказывания: «Число A является положительным».\n",
    "1. Дано целое число A. Проверить истинность высказывания: «Число A является нечетным».\n",
    "3. Дано целое число A. Проверить истинность высказывания: «Число A является четным».\n",
    "4. Даны два целых числа: A, B. Проверить истинность высказывания: «Справедливы неравенства A > 2 и B ≤ 3».\n",
    "5. Даны два целых числа: A, B. Проверить истинность высказывания: «Справедливы неравенства A ≥ 0 или B < –2».\n",
    "6. Даны три целых числа: A, B, C. Проверить истинность высказыва-ния: «Справедливо двойное неравенство A < B < C».\n",
    "7. Даны три целых числа: A, B, C. Проверить истинность высказыва-ния: «Число B находится между числами A и C».\n",
    "\n",
    "Пример решения п. 1\n",
    "\n",
    "```\n",
    "A=-3\n",
    "print(\"Число\",A,\"является положительным\", A>0)\n",
    "```"
   ]
  },
  {
   "cell_type": "code",
   "execution_count": null,
   "id": "35a8c53e",
   "metadata": {},
   "outputs": [],
   "source": []
  }
 ],
 "metadata": {
  "kernelspec": {
   "display_name": "Python 3 (ipykernel)",
   "language": "python",
   "name": "python3"
  },
  "language_info": {
   "codemirror_mode": {
    "name": "ipython",
    "version": 3
   },
   "file_extension": ".py",
   "mimetype": "text/x-python",
   "name": "python",
   "nbconvert_exporter": "python",
   "pygments_lexer": "ipython3",
   "version": "3.9.13"
  }
 },
 "nbformat": 4,
 "nbformat_minor": 5
}
