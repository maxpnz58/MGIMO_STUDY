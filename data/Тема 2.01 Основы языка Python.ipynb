{
 "cells": [
  {
   "cell_type": "markdown",
   "metadata": {
    "id": "UmwDdclJn3cu"
   },
   "source": [
    "# 2.01 Основы языка Python\n",
    "\n",
    "Рассмотрим принципы работы с языком, арифметические операции, вывод на экран."
   ]
  },
  {
   "cell_type": "markdown",
   "metadata": {
    "id": "wgpOvqwkoL5e"
   },
   "source": [
    "# 1. Очень простые «программы»\n",
    "## 1.1 Запуск Python из командной строки\n",
    "Чтобы выполнить фрагменты кода вы можете вводить команды в поля и выполнять их.\n",
    "В поле введите:\n",
    "\n",
    "`print('Hello, World')`\n",
    "\n",
    "Затем нажмите `<shift> + <enter>`, чтобы выполнить команду.\n"
   ]
  },
  {
   "cell_type": "code",
   "execution_count": null,
   "metadata": {
    "id": "z0wbzCSmpYvy"
   },
   "outputs": [],
   "source": []
  },
  {
   "cell_type": "markdown",
   "metadata": {
    "id": "pVvtH_sipaLe"
   },
   "source": [
    "Что случилось?\n",
    "\n",
    "Вы только что создали программу, которая печатает слова «Hello, World». Среда Python, в которой вы находитесь, немедленно компилирует все, что вы ввели. Это называется интерпретатор языка."
   ]
  },
  {
   "cell_type": "markdown",
   "metadata": {
    "id": "n2foxPN2pwr0"
   },
   "source": [
    "## 1.2 Математика в Python\n",
    "Наберите в ячейке\n",
    "`1 + 1`\n",
    "и выполните код. (см. п. 1.1.)"
   ]
  },
  {
   "cell_type": "code",
   "execution_count": null,
   "metadata": {
    "id": "qb6kPz8Ap6BI"
   },
   "outputs": [],
   "source": []
  },
  {
   "cell_type": "markdown",
   "metadata": {
    "id": "yBbIQd6tp-HV"
   },
   "source": [
    "Теперь введите\n",
    "\n",
    "`20 + 80`\n",
    "\n",
    "выполните код."
   ]
  },
  {
   "cell_type": "code",
   "execution_count": null,
   "metadata": {
    "id": "3zaVgKUVqD_H"
   },
   "outputs": [],
   "source": []
  },
  {
   "cell_type": "markdown",
   "metadata": {
    "id": "LIIUHqIVqKOk"
   },
   "source": [
    "Попробуйте и другие операции\n",
    "\n",
    "`+` сложение\n",
    "\n",
    "`-` вычитание\n",
    "\n",
    "`*` умножение\n",
    "\n",
    "`/` деление\n"
   ]
  },
  {
   "cell_type": "code",
   "execution_count": null,
   "metadata": {
    "id": "OfJF_qwvqaGk"
   },
   "outputs": [],
   "source": []
  },
  {
   "cell_type": "markdown",
   "metadata": {
    "id": "tN5dNWDqqdJk"
   },
   "source": [
    "Существует операция возведения в степень: $5^2 = $ `5 ** 2`. Попробуйте вычислить в строке ниже."
   ]
  },
  {
   "cell_type": "code",
   "execution_count": null,
   "metadata": {
    "id": "6ebTTVCGsNBc"
   },
   "outputs": [],
   "source": []
  },
  {
   "cell_type": "markdown",
   "metadata": {
    "id": "vGRu1tkXsRjs"
   },
   "source": [
    "Операции деления с остатком:\n",
    "\n",
    "// - целая часть от деления\n",
    "\n",
    "% - остаток от деления\n",
    "\n",
    "Посчитайте `7//3`, `11%4`"
   ]
  },
  {
   "cell_type": "code",
   "execution_count": null,
   "metadata": {
    "id": "bkanXxZEshbg"
   },
   "outputs": [],
   "source": []
  },
  {
   "cell_type": "markdown",
   "metadata": {
    "id": "weOILto5szgr"
   },
   "source": [
    "## 1.3 print - вывод на экран\n",
    "\n",
    "Рассмотрим синтаксис этой функции. Самый простой пример:\n",
    "\n",
    "`print()`\n",
    "\n",
    "Даже если функция не получает никаких аргументов, все равно необходимо вставлять после названия пустые скобки, что значит для интерпретатора выполнить функцию, а не просто ссылаться на нее.\n",
    "\n",
    "В результате этого будет выведен неотображаемый символ пустой строки, она появиться на экране, не нужно путать это с пустой строкой, в которой вообще нет никаких символов.\n",
    "\n",
    "Но чаще всего нужно передать какое-то сообщение пользователю, к примеру:\n",
    "\n",
    "`print('Your message here')`"
   ]
  },
  {
   "cell_type": "markdown",
   "metadata": {
    "id": "sqZYUcNPttGS"
   },
   "source": [
    "Следующий пример – вывод строкового значения из переменной:\n",
    "\n",
    "`message = 'Hello world'`\n",
    "\n",
    "`print(message)`\n",
    "\n"
   ]
  },
  {
   "cell_type": "code",
   "execution_count": null,
   "metadata": {
    "id": "vbv8gWj4tz0c"
   },
   "outputs": [],
   "source": []
  },
  {
   "cell_type": "markdown",
   "metadata": {
    "id": "gT_yQuUst0zq"
   },
   "source": [
    "Выведем разные типы данных:\n",
    "\n",
    "\n",
    "```\n",
    "print('one', 'two', 'three')  # str\n",
    "\n",
    "print(42)  # int\n",
    "\n",
    "print(3.14)  # float\n",
    "\n",
    "print(True)  # bool\n",
    "\n",
    "print([1, 2, 3])  # list\n",
    "\n",
    "print({'red', 'green', 'blue'})  # set\n",
    "\n",
    "print({'name': 'Alice', 'age': 42})  # dict\n",
    "\n",
    "print((1, 2, 3))  # tuple\n",
    "```\n",
    "\n"
   ]
  },
  {
   "cell_type": "code",
   "execution_count": null,
   "metadata": {
    "id": "VB1sC6YRuFJS"
   },
   "outputs": [],
   "source": []
  },
  {
   "cell_type": "markdown",
   "metadata": {
    "id": "7YsoJe3suU9r"
   },
   "source": [
    "Вы также можете распечатать переменные, просто разделив их запятыми\n",
    "```\n",
    "name = \"Аделаида\"\n",
    "print(\"Привет\", name, \"как дела?\")\n",
    "```\n"
   ]
  },
  {
   "cell_type": "code",
   "execution_count": null,
   "metadata": {
    "id": "k76loudFucn6"
   },
   "outputs": [],
   "source": []
  },
  {
   "cell_type": "markdown",
   "metadata": {
    "id": "kjmRYTQNuivr"
   },
   "source": [
    "#1.4 Комментарии\n",
    "\n",
    "Комментарий это строка кода, которая не выполняется. Служит для разных пояснений. Выполните следующий код:\n",
    "\n",
    "`# I am a comment. Fear my wrath!`"
   ]
  },
  {
   "cell_type": "code",
   "execution_count": null,
   "metadata": {
    "id": "C9EWkEs5u1tv"
   },
   "outputs": [],
   "source": []
  },
  {
   "cell_type": "markdown",
   "metadata": {
    "id": "G_A2uNGVu6Br"
   },
   "source": [
    "Комментарий — это фрагмент кода, который не запускается. В Python вы добавляете комментарий, помещая перед ним #. # комментирует все, что находится после него в строке, и ничего перед ним. Попробуйте:\n",
    "\n",
    "`print(\"food is very nice\") #eat me`"
   ]
  },
  {
   "cell_type": "code",
   "execution_count": null,
   "metadata": {
    "id": "vCMZWgm1vCzd"
   },
   "outputs": [],
   "source": []
  },
  {
   "cell_type": "markdown",
   "metadata": {
    "id": "_vftrmAdxaQS"
   },
   "source": [
    "# 1.5 Приоритет операций\n",
    "\n",
    "Вот порядок действий в Python:\n",
    "\n",
    "1. Круглые скобки()\n",
    "2. Возведение в степень **\n",
    "3. Умножение *, деление / и остаток %\n",
    "4. Сложение + и вычитание -\n",
    "\n",
    "Вот несколько примеров, которые вы можете попробовать:\n",
    "```\n",
    "1 + 2 * 3\n",
    "(1 + 2) * 3\n",
    "```"
   ]
  },
  {
   "cell_type": "code",
   "execution_count": null,
   "metadata": {
    "id": "s8ZhSbiKxwDa"
   },
   "outputs": [],
   "source": []
  },
  {
   "cell_type": "markdown",
   "metadata": {
    "id": "mC6vwG0Bvckz"
   },
   "source": [
    "# Задание 1\n",
    "\n",
    "Используя оператор print выведите на экран небольшой рассказ о себе. Должно быть использовано не менее 8 операторов print.\n",
    "\n",
    "Пример:\n",
    "\n",
    "```\n",
    "print('Привет всем! Меня зовут Аристотель.')\n",
    "print(\"Я родился в городе Стагире, греческой колонии в Халкидиках, недалеко от Афонской горы, между июлем и октябрём в первый год \",99,\" олимпиады.\" )\n",
    "print('Я люблю всякие науки, например философию.')\n",
    "print(\"Долгими зиминими вечерами я обычно размышляю о физике.\", \"А потом о метафизике.\")\n",
    "```"
   ]
  },
  {
   "cell_type": "code",
   "execution_count": null,
   "metadata": {
    "id": "HcESMxCWw3P9"
   },
   "outputs": [],
   "source": []
  },
  {
   "cell_type": "markdown",
   "metadata": {
    "id": "znJt3O_Qw7iU"
   },
   "source": [
    "# Задание 2\n",
    "\n",
    "Карандаш стоит 18 рублей 45 копеек за штуку. Покупатель дал кассиру 500 рублей и хочет купить 8 карандашей. Какую сдачу он должен получить? Ответ дайте в рублях.\n"
   ]
  },
  {
   "cell_type": "code",
   "execution_count": null,
   "metadata": {
    "id": "9l0cDUqrz6zt"
   },
   "outputs": [],
   "source": []
  },
  {
   "cell_type": "markdown",
   "metadata": {
    "id": "zY4uh9scz7SE"
   },
   "source": [
    "# Задание 3\n",
    "\n",
    "Ребенок в день съедает два творожка. Творожок продается в упаковках по пять штук. Какое наименьшее число упаковок надо купить, чтобы ребенку хватило на две недели?"
   ]
  },
  {
   "cell_type": "code",
   "execution_count": null,
   "metadata": {
    "id": "AwZoZRdG0Biv"
   },
   "outputs": [],
   "source": []
  },
  {
   "cell_type": "markdown",
   "metadata": {
    "id": "AdFd5gbK0CeE"
   },
   "source": [
    "# Задание 4\n",
    "\n",
    "Килограмм картошки 32 рубля. У Олега есть 1000 р, из этой суммы он 640 р должен положить на телефон, а на остальные деньги он купил картошку. Сколько килограмм купил Олег, если он получил сдачу 8 рублей?"
   ]
  },
  {
   "cell_type": "code",
   "execution_count": null,
   "metadata": {
    "id": "23ot9WQT0Jc_"
   },
   "outputs": [],
   "source": []
  }
 ],
 "metadata": {
  "colab": {
   "provenance": []
  },
  "kernelspec": {
   "display_name": "Python 3 (ipykernel)",
   "language": "python",
   "name": "python3"
  },
  "language_info": {
   "codemirror_mode": {
    "name": "ipython",
    "version": 3
   },
   "file_extension": ".py",
   "mimetype": "text/x-python",
   "name": "python",
   "nbconvert_exporter": "python",
   "pygments_lexer": "ipython3",
   "version": "3.9.13"
  }
 },
 "nbformat": 4,
 "nbformat_minor": 1
}
